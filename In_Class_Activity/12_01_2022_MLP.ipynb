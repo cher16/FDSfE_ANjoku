{
  "nbformat": 4,
  "nbformat_minor": 0,
  "metadata": {
    "colab": {
      "provenance": [],
      "authorship_tag": "ABX9TyMypPWUX4oWxRqSqKDNeHTp",
      "include_colab_link": true
    },
    "kernelspec": {
      "name": "python3",
      "display_name": "Python 3"
    },
    "language_info": {
      "name": "python"
    }
  },
  "cells": [
    {
      "cell_type": "markdown",
      "metadata": {
        "id": "view-in-github",
        "colab_type": "text"
      },
      "source": [
        "<a href=\"https://colab.research.google.com/github/cher16/FDSfE_ANjoku/blob/main/In_Class_Activity/12_01_2022_MLP.ipynb\" target=\"_parent\"><img src=\"https://colab.research.google.com/assets/colab-badge.svg\" alt=\"Open In Colab\"/></a>"
      ]
    },
    {
      "cell_type": "code",
      "execution_count": 1,
      "metadata": {
        "id": "JHTt_WwBJuKY"
      },
      "outputs": [],
      "source": [
        "import pandas as pd\n",
        "import numpy as np\n",
        "import pylab as plt"
      ]
    },
    {
      "cell_type": "code",
      "source": [
        "from sklearn.datasets import load_digits"
      ],
      "metadata": {
        "id": "xNwM9n47ipNG"
      },
      "execution_count": 2,
      "outputs": []
    },
    {
      "cell_type": "code",
      "source": [
        "mnist = load_digits()"
      ],
      "metadata": {
        "id": "SDWlgamcjBAt"
      },
      "execution_count": 4,
      "outputs": []
    },
    {
      "cell_type": "code",
      "source": [
        "mnist.keys()"
      ],
      "metadata": {
        "colab": {
          "base_uri": "https://localhost:8080/"
        },
        "id": "3sUtM4lbjF5E",
        "outputId": "b07809e9-41e5-4f79-de14-23738d7d3cd3"
      },
      "execution_count": 6,
      "outputs": [
        {
          "output_type": "execute_result",
          "data": {
            "text/plain": [
              "dict_keys(['data', 'target', 'frame', 'feature_names', 'target_names', 'images', 'DESCR'])"
            ]
          },
          "metadata": {},
          "execution_count": 6
        }
      ]
    },
    {
      "cell_type": "code",
      "source": [
        "mnist.data"
      ],
      "metadata": {
        "colab": {
          "base_uri": "https://localhost:8080/"
        },
        "id": "GUvk_bcljb4M",
        "outputId": "daf752c7-6678-43f6-8355-fac27aea3073"
      },
      "execution_count": 7,
      "outputs": [
        {
          "output_type": "execute_result",
          "data": {
            "text/plain": [
              "array([[ 0.,  0.,  5., ...,  0.,  0.,  0.],\n",
              "       [ 0.,  0.,  0., ..., 10.,  0.,  0.],\n",
              "       [ 0.,  0.,  0., ..., 16.,  9.,  0.],\n",
              "       ...,\n",
              "       [ 0.,  0.,  1., ...,  6.,  0.,  0.],\n",
              "       [ 0.,  0.,  2., ..., 12.,  0.,  0.],\n",
              "       [ 0.,  0., 10., ..., 12.,  1.,  0.]])"
            ]
          },
          "metadata": {},
          "execution_count": 7
        }
      ]
    },
    {
      "cell_type": "code",
      "source": [
        "mnist.data.shape"
      ],
      "metadata": {
        "colab": {
          "base_uri": "https://localhost:8080/"
        },
        "id": "rxzaEZ6pjlvE",
        "outputId": "cf5af663-929b-4cd2-bc7d-7004c453ad59"
      },
      "execution_count": 8,
      "outputs": [
        {
          "output_type": "execute_result",
          "data": {
            "text/plain": [
              "(1797, 64)"
            ]
          },
          "metadata": {},
          "execution_count": 8
        }
      ]
    },
    {
      "cell_type": "code",
      "source": [
        "mnist.images.shape"
      ],
      "metadata": {
        "colab": {
          "base_uri": "https://localhost:8080/"
        },
        "id": "eKxyiaoJjszv",
        "outputId": "541a9c39-859f-4c93-e7e3-7a2c96144809"
      },
      "execution_count": 9,
      "outputs": [
        {
          "output_type": "execute_result",
          "data": {
            "text/plain": [
              "(1797, 8, 8)"
            ]
          },
          "metadata": {},
          "execution_count": 9
        }
      ]
    },
    {
      "cell_type": "code",
      "source": [
        "mnist.images[0]"
      ],
      "metadata": {
        "colab": {
          "base_uri": "https://localhost:8080/"
        },
        "id": "ShRpFTwJj4vy",
        "outputId": "ace05edf-d4a4-4724-ceea-97df5a495272"
      },
      "execution_count": 10,
      "outputs": [
        {
          "output_type": "execute_result",
          "data": {
            "text/plain": [
              "array([[ 0.,  0.,  5., 13.,  9.,  1.,  0.,  0.],\n",
              "       [ 0.,  0., 13., 15., 10., 15.,  5.,  0.],\n",
              "       [ 0.,  3., 15.,  2.,  0., 11.,  8.,  0.],\n",
              "       [ 0.,  4., 12.,  0.,  0.,  8.,  8.,  0.],\n",
              "       [ 0.,  5.,  8.,  0.,  0.,  9.,  8.,  0.],\n",
              "       [ 0.,  4., 11.,  0.,  1., 12.,  7.,  0.],\n",
              "       [ 0.,  2., 14.,  5., 10., 12.,  0.,  0.],\n",
              "       [ 0.,  0.,  6., 13., 10.,  0.,  0.,  0.]])"
            ]
          },
          "metadata": {},
          "execution_count": 10
        }
      ]
    },
    {
      "cell_type": "code",
      "source": [
        "plt.imshow(mnist.images[97], cmap=\"binary\")"
      ],
      "metadata": {
        "colab": {
          "base_uri": "https://localhost:8080/",
          "height": 282
        },
        "id": "GsMXlYJ2jstg",
        "outputId": "ebd3cfee-1184-47bf-d767-41720a929f93"
      },
      "execution_count": 17,
      "outputs": [
        {
          "output_type": "execute_result",
          "data": {
            "text/plain": [
              "<matplotlib.image.AxesImage at 0x7f5e72251880>"
            ]
          },
          "metadata": {},
          "execution_count": 17
        },
        {
          "output_type": "display_data",
          "data": {
            "text/plain": [
              "<Figure size 432x288 with 1 Axes>"
            ],
            "image/png": "[encoded data removed]"
          },
          "metadata": {
            "needs_background": "light"
          }
        }
      ]
    },
    {
      "cell_type": "code",
      "source": [
        "mnist.target.shape"
      ],
      "metadata": {
        "colab": {
          "base_uri": "https://localhost:8080/"
        },
        "id": "_Kkn-oi3jsn6",
        "outputId": "ca223703-ca65-4bf1-a2c5-568565078ac9"
      },
      "execution_count": 15,
      "outputs": [
        {
          "output_type": "execute_result",
          "data": {
            "text/plain": [
              "(1797,)"
            ]
          },
          "metadata": {},
          "execution_count": 15
        }
      ]
    },
    {
      "cell_type": "code",
      "source": [
        "X = mnist.data\n",
        "y = mnist.target"
      ],
      "metadata": {
        "id": "WpoLG-Tbjsju"
      },
      "execution_count": 18,
      "outputs": []
    },
    {
      "cell_type": "code",
      "source": [
        "from sklearn.model_selection import train_test_split"
      ],
      "metadata": {
        "id": "4Lvo6S2gjsfm"
      },
      "execution_count": 20,
      "outputs": []
    },
    {
      "cell_type": "code",
      "source": [
        "X_train, X_test, y_train, y_test = train_test_split(X,y,train_size=0.7, random_state=321, stratify=y)"
      ],
      "metadata": {
        "id": "WyfBLshyjsa-"
      },
      "execution_count": 27,
      "outputs": []
    },
    {
      "cell_type": "code",
      "source": [
        "X_train.shape"
      ],
      "metadata": {
        "colab": {
          "base_uri": "https://localhost:8080/"
        },
        "id": "wK9xNKiJjsWe",
        "outputId": "3dec62a6-78c3-4c29-cc35-ed11b4df2b52"
      },
      "execution_count": 22,
      "outputs": [
        {
          "output_type": "execute_result",
          "data": {
            "text/plain": [
              "(1257, 64)"
            ]
          },
          "metadata": {},
          "execution_count": 22
        }
      ]
    },
    {
      "cell_type": "code",
      "source": [
        "y_train.shape"
      ],
      "metadata": {
        "colab": {
          "base_uri": "https://localhost:8080/"
        },
        "id": "jbQaVgtijsM0",
        "outputId": "313807ea-3ab0-4ec7-c3fd-a6123140dce9"
      },
      "execution_count": 23,
      "outputs": [
        {
          "output_type": "execute_result",
          "data": {
            "text/plain": [
              "(1257,)"
            ]
          },
          "metadata": {},
          "execution_count": 23
        }
      ]
    },
    {
      "cell_type": "code",
      "source": [
        "X_test.shape"
      ],
      "metadata": {
        "colab": {
          "base_uri": "https://localhost:8080/"
        },
        "id": "TLcAtfEZjsIm",
        "outputId": "82d30725-c5e5-415b-da04-a836da644444"
      },
      "execution_count": 24,
      "outputs": [
        {
          "output_type": "execute_result",
          "data": {
            "text/plain": [
              "(540, 64)"
            ]
          },
          "metadata": {},
          "execution_count": 24
        }
      ]
    },
    {
      "cell_type": "code",
      "source": [
        "y_test.shape"
      ],
      "metadata": {
        "colab": {
          "base_uri": "https://localhost:8080/"
        },
        "id": "Y7pt7YYSjsAS",
        "outputId": "8c2e4cb3-ff46-4ceb-c295-5637c0cfda02"
      },
      "execution_count": 28,
      "outputs": [
        {
          "output_type": "execute_result",
          "data": {
            "text/plain": [
              "(540,)"
            ]
          },
          "metadata": {},
          "execution_count": 28
        }
      ]
    },
    {
      "cell_type": "code",
      "source": [
        "from sklearn. neural_network import MLPClassifier"
      ],
      "metadata": {
        "id": "QIC0UYB0jr7t"
      },
      "execution_count": 29,
      "outputs": []
    },
    {
      "cell_type": "code",
      "source": [
        "mlp = MLPClassifier(activation=\"relu\",hidden_layer_sizes=(40,40), random_state=4,verbose=1, max_iter=400)"
      ],
      "metadata": {
        "id": "Rt2nRAVhjr2W"
      },
      "execution_count": 54,
      "outputs": []
    },
    {
      "cell_type": "code",
      "source": [
        "mlp.fit(X_train, y_train)"
      ],
      "metadata": {
        "colab": {
          "base_uri": "https://localhost:8080/"
        },
        "id": "aAb5ygLejrwG",
        "outputId": "34a2ab1f-f984-4618-dece-17f61a8296c7"
      },
      "execution_count": 55,
      "outputs": [
        {
          "output_type": "stream",
          "name": "stdout",
          "text": [
            "Iteration 1, loss = 13.37129463\n",
            "Iteration 2, loss = 7.35670227\n",
            "Iteration 3, loss = 5.14135243\n",
            "Iteration 4, loss = 3.39778902\n",
            "Iteration 5, loss = 2.48521928\n",
            "Iteration 6, loss = 1.98502229\n",
            "Iteration 7, loss = 1.59521458\n",
            "Iteration 8, loss = 1.28612080\n",
            "Iteration 9, loss = 1.05561440\n",
            "Iteration 10, loss = 0.90079981\n",
            "Iteration 11, loss = 0.76859662\n",
            "Iteration 12, loss = 0.66068034\n",
            "Iteration 13, loss = 0.56767775\n",
            "Iteration 14, loss = 0.49511492\n",
            "Iteration 15, loss = 0.43790064\n",
            "Iteration 16, loss = 0.38680166\n",
            "Iteration 17, loss = 0.34539347\n",
            "Iteration 18, loss = 0.30939637\n",
            "Iteration 19, loss = 0.28136096\n",
            "Iteration 20, loss = 0.25256167\n",
            "Iteration 21, loss = 0.22911425\n",
            "Iteration 22, loss = 0.20985363\n",
            "Iteration 23, loss = 0.19270634\n",
            "Iteration 24, loss = 0.17705582\n",
            "Iteration 25, loss = 0.16418303\n",
            "Iteration 26, loss = 0.15157124\n",
            "Iteration 27, loss = 0.14161005\n",
            "Iteration 28, loss = 0.13287921\n",
            "Iteration 29, loss = 0.12463326\n",
            "Iteration 30, loss = 0.11752481\n",
            "Iteration 31, loss = 0.10994645\n",
            "Iteration 32, loss = 0.10364721\n",
            "Iteration 33, loss = 0.09850336\n",
            "Iteration 34, loss = 0.09353548\n",
            "Iteration 35, loss = 0.08842367\n",
            "Iteration 36, loss = 0.08453227\n",
            "Iteration 37, loss = 0.07961338\n",
            "Iteration 38, loss = 0.07590719\n",
            "Iteration 39, loss = 0.07213875\n",
            "Iteration 40, loss = 0.06881575\n",
            "Iteration 41, loss = 0.06574499\n",
            "Iteration 42, loss = 0.06328743\n",
            "Iteration 43, loss = 0.05997177\n",
            "Iteration 44, loss = 0.05756744\n",
            "Iteration 45, loss = 0.05443239\n",
            "Iteration 46, loss = 0.05241630\n",
            "Iteration 47, loss = 0.05043136\n",
            "Iteration 48, loss = 0.04789759\n",
            "Iteration 49, loss = 0.04629718\n",
            "Iteration 50, loss = 0.04420678\n",
            "Iteration 51, loss = 0.04252073\n",
            "Iteration 52, loss = 0.04114252\n",
            "Iteration 53, loss = 0.03949296\n",
            "Iteration 54, loss = 0.03746861\n",
            "Iteration 55, loss = 0.03582242\n",
            "Iteration 56, loss = 0.03454538\n",
            "Iteration 57, loss = 0.03318104\n",
            "Iteration 58, loss = 0.03236896\n",
            "Iteration 59, loss = 0.03084111\n",
            "Iteration 60, loss = 0.03033401\n",
            "Iteration 61, loss = 0.02877482\n",
            "Iteration 62, loss = 0.02783971\n",
            "Iteration 63, loss = 0.02650263\n",
            "Iteration 64, loss = 0.02564353\n",
            "Iteration 65, loss = 0.02476339\n",
            "Iteration 66, loss = 0.02395593\n",
            "Iteration 67, loss = 0.02299259\n",
            "Iteration 68, loss = 0.02265394\n",
            "Iteration 69, loss = 0.02174200\n",
            "Iteration 70, loss = 0.02088387\n",
            "Iteration 71, loss = 0.02022068\n",
            "Iteration 72, loss = 0.01977794\n",
            "Iteration 73, loss = 0.01909149\n",
            "Iteration 74, loss = 0.01848668\n",
            "Iteration 75, loss = 0.01790940\n",
            "Iteration 76, loss = 0.01732971\n",
            "Iteration 77, loss = 0.01674496\n",
            "Iteration 78, loss = 0.01635592\n",
            "Iteration 79, loss = 0.01584861\n",
            "Iteration 80, loss = 0.01530622\n",
            "Iteration 81, loss = 0.01481386\n",
            "Iteration 82, loss = 0.01440326\n",
            "Iteration 83, loss = 0.01421504\n",
            "Iteration 84, loss = 0.01374571\n",
            "Iteration 85, loss = 0.01329195\n",
            "Iteration 86, loss = 0.01301559\n",
            "Iteration 87, loss = 0.01261367\n",
            "Iteration 88, loss = 0.01231020\n",
            "Iteration 89, loss = 0.01186154\n",
            "Iteration 90, loss = 0.01162850\n",
            "Iteration 91, loss = 0.01131563\n",
            "Iteration 92, loss = 0.01112558\n",
            "Iteration 93, loss = 0.01072639\n",
            "Iteration 94, loss = 0.01035424\n",
            "Iteration 95, loss = 0.01008350\n",
            "Iteration 96, loss = 0.00983794\n",
            "Iteration 97, loss = 0.00955268\n",
            "Iteration 98, loss = 0.00933947\n",
            "Iteration 99, loss = 0.00904440\n",
            "Iteration 100, loss = 0.00887104\n",
            "Iteration 101, loss = 0.00861540\n",
            "Iteration 102, loss = 0.00846211\n",
            "Iteration 103, loss = 0.00821896\n",
            "Iteration 104, loss = 0.00797287\n",
            "Iteration 105, loss = 0.00787993\n",
            "Iteration 106, loss = 0.00769383\n",
            "Iteration 107, loss = 0.00750358\n",
            "Iteration 108, loss = 0.00731954\n",
            "Iteration 109, loss = 0.00709841\n",
            "Iteration 110, loss = 0.00701193\n",
            "Iteration 111, loss = 0.00679597\n",
            "Iteration 112, loss = 0.00665576\n",
            "Iteration 113, loss = 0.00651980\n",
            "Iteration 114, loss = 0.00640464\n",
            "Iteration 115, loss = 0.00633241\n",
            "Iteration 116, loss = 0.00609623\n",
            "Iteration 117, loss = 0.00601496\n",
            "Iteration 118, loss = 0.00591170\n",
            "Iteration 119, loss = 0.00578661\n",
            "Iteration 120, loss = 0.00565397\n",
            "Iteration 121, loss = 0.00554828\n",
            "Iteration 122, loss = 0.00540108\n",
            "Iteration 123, loss = 0.00533649\n",
            "Iteration 124, loss = 0.00522995\n",
            "Iteration 125, loss = 0.00511231\n",
            "Iteration 126, loss = 0.00503103\n",
            "Iteration 127, loss = 0.00492659\n",
            "Iteration 128, loss = 0.00485683\n",
            "Iteration 129, loss = 0.00475987\n",
            "Iteration 130, loss = 0.00470101\n",
            "Iteration 131, loss = 0.00475859\n",
            "Iteration 132, loss = 0.00470659\n",
            "Iteration 133, loss = 0.00449713\n",
            "Iteration 134, loss = 0.00438330\n",
            "Iteration 135, loss = 0.00436851\n",
            "Iteration 136, loss = 0.00425139\n",
            "Iteration 137, loss = 0.00412074\n",
            "Iteration 138, loss = 0.00404397\n",
            "Iteration 139, loss = 0.00400187\n",
            "Iteration 140, loss = 0.00389451\n",
            "Iteration 141, loss = 0.00380077\n",
            "Iteration 142, loss = 0.00375208\n",
            "Iteration 143, loss = 0.00365623\n",
            "Iteration 144, loss = 0.00362456\n",
            "Iteration 145, loss = 0.00354202\n",
            "Iteration 146, loss = 0.00349396\n",
            "Iteration 147, loss = 0.00341947\n",
            "Iteration 148, loss = 0.00334654\n",
            "Iteration 149, loss = 0.00329148\n",
            "Iteration 150, loss = 0.00325924\n",
            "Iteration 151, loss = 0.00317993\n",
            "Training loss did not improve more than tol=0.000100 for 10 consecutive epochs. Stopping.\n"
          ]
        },
        {
          "output_type": "execute_result",
          "data": {
            "text/plain": [
              "MLPClassifier(hidden_layer_sizes=(40, 40), max_iter=400, random_state=4,\n",
              "              verbose=1)"
            ]
          },
          "metadata": {},
          "execution_count": 55
        }
      ]
    },
    {
      "cell_type": "code",
      "source": [
        "plt.plot(mlp.loss_curve_);"
      ],
      "metadata": {
        "colab": {
          "base_uri": "https://localhost:8080/",
          "height": 269
        },
        "id": "i3Ddk9eLjrm2",
        "outputId": "bcca9ef4-bc41-4285-bd39-23f5b55455a9"
      },
      "execution_count": 56,
      "outputs": [
        {
          "output_type": "display_data",
          "data": {
            "text/plain": [
              "<Figure size 432x288 with 1 Axes>"
            ],
            "image/png": "[encoded data removed]"
          },
          "metadata": {
            "needs_background": "light"
          }
        }
      ]
    },
    {
      "cell_type": "code",
      "source": [
        "mlp.score(X_train, y_train)"
      ],
      "metadata": {
        "colab": {
          "base_uri": "https://localhost:8080/"
        },
        "id": "eGuKLVQEjq5_",
        "outputId": "4fe0889f-d927-457d-ca27-6d918f1c0300"
      },
      "execution_count": 57,
      "outputs": [
        {
          "output_type": "execute_result",
          "data": {
            "text/plain": [
              "1.0"
            ]
          },
          "metadata": {},
          "execution_count": 57
        }
      ]
    },
    {
      "cell_type": "code",
      "source": [
        "mlp.score(X_test, y_test)"
      ],
      "metadata": {
        "colab": {
          "base_uri": "https://localhost:8080/"
        },
        "id": "J5s3hbXSoI4F",
        "outputId": "d4f10b59-1bef-47a4-b2a3-873599c02633"
      },
      "execution_count": 58,
      "outputs": [
        {
          "output_type": "execute_result",
          "data": {
            "text/plain": [
              "0.9648148148148148"
            ]
          },
          "metadata": {},
          "execution_count": 58
        }
      ]
    },
    {
      "cell_type": "code",
      "source": [
        "from sklearn.metrics import classification_report"
      ],
      "metadata": {
        "id": "IrzhURykoPYT"
      },
      "execution_count": 59,
      "outputs": []
    },
    {
      "cell_type": "code",
      "source": [
        "y_pred = mlp.predict(X_test)\n",
        "print(classification_report(y_test, y_pred))"
      ],
      "metadata": {
        "colab": {
          "base_uri": "https://localhost:8080/"
        },
        "id": "Ar7uU8NjoXyj",
        "outputId": "3f85ded1-2ddd-4f10-b774-44b4c5db68aa"
      },
      "execution_count": 60,
      "outputs": [
        {
          "output_type": "stream",
          "name": "stdout",
          "text": [
            "              precision    recall  f1-score   support\n",
            "\n",
            "           0       1.00      0.98      0.99        54\n",
            "           1       0.96      1.00      0.98        55\n",
            "           2       1.00      1.00      1.00        53\n",
            "           3       0.96      0.98      0.97        55\n",
            "           4       0.96      0.98      0.97        54\n",
            "           5       0.89      0.98      0.93        55\n",
            "           6       0.98      0.98      0.98        54\n",
            "           7       0.98      0.98      0.98        54\n",
            "           8       0.96      0.87      0.91        52\n",
            "           9       0.96      0.89      0.92        54\n",
            "\n",
            "    accuracy                           0.96       540\n",
            "   macro avg       0.97      0.96      0.96       540\n",
            "weighted avg       0.97      0.96      0.96       540\n",
            "\n"
          ]
        }
      ]
    },
    {
      "cell_type": "code",
      "source": [
        "from sklearn.metrics import confusion_matrix"
      ],
      "metadata": {
        "id": "Sl_3EyTzoXt8"
      },
      "execution_count": 61,
      "outputs": []
    },
    {
      "cell_type": "code",
      "source": [
        "confusion_matrix(y_test, y_pred)"
      ],
      "metadata": {
        "colab": {
          "base_uri": "https://localhost:8080/"
        },
        "id": "xl1KBwhFozB5",
        "outputId": "c39a4440-e1d4-4f38-8b5b-d5983a8d959e"
      },
      "execution_count": 62,
      "outputs": [
        {
          "output_type": "execute_result",
          "data": {
            "text/plain": [
              "array([[53,  0,  0,  0,  0,  1,  0,  0,  0,  0],\n",
              "       [ 0, 55,  0,  0,  0,  0,  0,  0,  0,  0],\n",
              "       [ 0,  0, 53,  0,  0,  0,  0,  0,  0,  0],\n",
              "       [ 0,  0,  0, 54,  0,  1,  0,  0,  0,  0],\n",
              "       [ 0,  0,  0,  0, 53,  0,  1,  0,  0,  0],\n",
              "       [ 0,  0,  0,  0,  0, 54,  0,  0,  0,  1],\n",
              "       [ 0,  0,  0,  0,  0,  0, 53,  0,  1,  0],\n",
              "       [ 0,  0,  0,  0,  0,  1,  0, 53,  0,  0],\n",
              "       [ 0,  1,  0,  2,  2,  1,  0,  0, 45,  1],\n",
              "       [ 0,  1,  0,  0,  0,  3,  0,  1,  1, 48]])"
            ]
          },
          "metadata": {},
          "execution_count": 62
        }
      ]
    }
  ]
}