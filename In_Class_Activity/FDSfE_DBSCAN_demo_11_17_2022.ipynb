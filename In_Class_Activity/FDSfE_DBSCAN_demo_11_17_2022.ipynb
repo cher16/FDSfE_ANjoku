{
  "cells": [
    {
      "cell_type": "markdown",
      "metadata": {
        "id": "view-in-github",
        "colab_type": "text"
      },
      "source": [
        "<a href=\"https://colab.research.google.com/github/cher16/FDSfE_ANjoku/blob/main/In_Class_Activity/FDSfE_DBSCAN_demo_11_17_2022.ipynb\" target=\"_parent\"><img src=\"https://colab.research.google.com/assets/colab-badge.svg\" alt=\"Open In Colab\"/></a>"
      ]
    },
    {
      "cell_type": "code",
      "execution_count": 1,
      "metadata": {
        "id": "j_bdV89qyZTT",
        "colab": {
          "base_uri": "https://localhost:8080/"
        },
        "outputId": "e2b39518-f3d7-49c6-97c7-2930ecda70c6"
      },
      "outputs": [
        {
          "output_type": "stream",
          "name": "stdout",
          "text": [
            "Looking in indexes: https://pypi.org/simple, https://us-python.pkg.dev/colab-wheels/public/simple/\n",
            "Requirement already satisfied: kaggle in /usr/local/lib/python3.7/dist-packages (1.5.12)\n",
            "Requirement already satisfied: python-slugify in /usr/local/lib/python3.7/dist-packages (from kaggle) (6.1.2)\n",
            "Requirement already satisfied: requests in /usr/local/lib/python3.7/dist-packages (from kaggle) (2.23.0)\n",
            "Requirement already satisfied: python-dateutil in /usr/local/lib/python3.7/dist-packages (from kaggle) (2.8.2)\n",
            "Requirement already satisfied: urllib3 in /usr/local/lib/python3.7/dist-packages (from kaggle) (1.24.3)\n",
            "Requirement already satisfied: tqdm in /usr/local/lib/python3.7/dist-packages (from kaggle) (4.64.1)\n",
            "Requirement already satisfied: certifi in /usr/local/lib/python3.7/dist-packages (from kaggle) (2022.9.24)\n",
            "Requirement already satisfied: six>=1.10 in /usr/local/lib/python3.7/dist-packages (from kaggle) (1.15.0)\n",
            "Requirement already satisfied: text-unidecode>=1.3 in /usr/local/lib/python3.7/dist-packages (from python-slugify->kaggle) (1.3)\n",
            "Requirement already satisfied: idna<3,>=2.5 in /usr/local/lib/python3.7/dist-packages (from requests->kaggle) (2.10)\n",
            "Requirement already satisfied: chardet<4,>=3.0.2 in /usr/local/lib/python3.7/dist-packages (from requests->kaggle) (3.0.4)\n"
          ]
        }
      ],
      "source": [
        "!pip install kaggle"
      ]
    },
    {
      "cell_type": "code",
      "execution_count": 2,
      "metadata": {
        "id": "ZQGtlPOrKOnY"
      },
      "outputs": [],
      "source": [
        "import os\n",
        "import json\n",
        "\n",
        "import pandas as pd\n",
        "import numpy as np\n",
        "import pylab as plt"
      ]
    },
    {
      "cell_type": "code",
      "execution_count": 3,
      "metadata": {
        "id": "_c-BEefVysuE",
        "colab": {
          "base_uri": "https://localhost:8080/"
        },
        "outputId": "75c2661e-892c-438e-fe2b-13f8243caae6"
      },
      "outputs": [
        {
          "output_type": "stream",
          "name": "stdout",
          "text": [
            "Drive already mounted at /content/drive; to attempt to forcibly remount, call drive.mount(\"/content/drive\", force_remount=True).\n"
          ]
        }
      ],
      "source": [
        "from google.colab import drive\n",
        "drive.mount(\"/content/drive\")"
      ]
    },
    {
      "cell_type": "code",
      "execution_count": 4,
      "metadata": {
        "id": "o16kIsAcyu6V",
        "colab": {
          "base_uri": "https://localhost:8080/"
        },
        "outputId": "071933ca-68b1-4718-c1aa-6399db8aaf19"
      },
      "outputs": [
        {
          "output_type": "stream",
          "name": "stdout",
          "text": [
            "/content/drive/MyDrive\n"
          ]
        }
      ],
      "source": [
        "cd /content/drive/MyDrive/"
      ]
    },
    {
      "cell_type": "code",
      "execution_count": 5,
      "metadata": {
        "id": "zH6JDCXtypev"
      },
      "outputs": [],
      "source": [
        "env = json.load(open(\"kaggle.json\", \"r\"))\n",
        "os.environ[\"KAGGLE_USERNAME\"] = env[\"username\"]\n",
        "os.environ[\"KAGGLE_KEY\"] = env[\"key\"]"
      ]
    },
    {
      "cell_type": "code",
      "execution_count": 6,
      "metadata": {
        "id": "BXzLnjXzy1mP",
        "colab": {
          "base_uri": "https://localhost:8080/"
        },
        "outputId": "309395cc-3285-4c77-ca51-29725906dd92"
      },
      "outputs": [
        {
          "output_type": "stream",
          "name": "stdout",
          "text": [
            "mkdir: cannot create directory ‘chocolate’: File exists\n"
          ]
        }
      ],
      "source": [
        "!mkdir chocolate"
      ]
    },
    {
      "cell_type": "code",
      "execution_count": 7,
      "metadata": {
        "id": "88QFvbAm0Cbq",
        "colab": {
          "base_uri": "https://localhost:8080/"
        },
        "outputId": "066e5719-cba9-4d2f-c8d3-98bbfac30e6e"
      },
      "outputs": [
        {
          "output_type": "stream",
          "name": "stdout",
          "text": [
            "/content/drive/MyDrive/chocolate\n"
          ]
        }
      ],
      "source": [
        "cd chocolate"
      ]
    },
    {
      "cell_type": "code",
      "execution_count": 8,
      "metadata": {
        "id": "DOYTDWRi0CNC",
        "colab": {
          "base_uri": "https://localhost:8080/"
        },
        "outputId": "90db1f1f-953f-4f5b-ae20-c9a52e7a9157"
      },
      "outputs": [
        {
          "output_type": "stream",
          "name": "stdout",
          "text": [
            "ref                                                          title                                                size  lastUpdated          downloadCount  voteCount  usabilityRating  \n",
            "-----------------------------------------------------------  --------------------------------------------------  -----  -------------------  -------------  ---------  ---------------  \n",
            "rtatman/chocolate-bar-ratings                                Chocolate Bar Ratings                                30KB  2017-08-11 23:25:42          61340        944  0.7647059        \n",
            "andrewmvd/chocolate-ratings                                  Chocolate Ratings                                    73KB  2022-01-09 10:11:07           1348         43  1.0              \n",
            "soroushghaderi/chocolate-bar-2020                            Chocolate Bar 2020                                   72KB  2020-04-19 05:09:47           3477         50  1.0              \n",
            "evangower/chocolate-bar-ratings                              Chocolate Bar Ratings                                64KB  2022-09-06 15:37:56           1493         42  1.0              \n",
            "siddharthmandgi/chocolate-classification                     Chocolate  Classification                            28MB  2022-07-04 04:55:56            285         18  0.875            \n",
            "hosubjeong/bakery-sales                                      Bakery Sales                                         27KB  2021-01-27 07:44:16           3940         47  0.9705882        \n",
            "unitednations/global-commodity-trade-statistics              Global Commodity Trade Statistics                   121MB  2017-11-14 23:55:11           8927        280  0.88235295       \n",
            "cristeaioan/ffml-dataset                                     Food For Machine Learning                            64MB  2020-04-24 09:10:45           1288         33  0.8125           \n",
            "fivethirtyeight/the-ultimate-halloween-candy-power-ranking   The Ultimate Halloween Candy Power Ranking            2KB  2017-10-31 18:29:10          10132        132  0.7058824        \n",
            "akramnarejo/chocolatecsv                                     chocolate.csv                                        30KB  2020-06-14 15:28:39            215          6  0.3529412        \n",
            "rencek/cola-can-object-detection-on-webcam-feed              Cola and chocolate  -  Object detection on webcam     1GB  2018-11-22 12:49:03            180          9  0.61764705       \n",
            "malcolmgin/be-slavery-free-chocolate-2022                    Be Slavery Free Chocolate 2022                        3KB  2022-10-11 17:57:49             17          4  0.88235295       \n",
            "fivethirtyeight/fivethirtyeight-candy-power-ranking-dataset  FiveThirtyEight Candy Power Ranking Dataset           3KB  2019-04-26 15:01:22            536         10  0.8235294        \n",
            "lameesmohammad/unique-70-cocoa-chocolate-improves-health     Cocoa chocolate and health                            1KB  2022-03-13 14:58:06            248          2  0.8235294        \n",
            "catarinaantelo/portuguese-meals                              Portuguese Meals Dataset                            647MB  2022-06-13 09:51:49            196         35  0.875            \n",
            "spectoro/chocolate                                           Chocolate                                            30KB  2018-01-29 02:20:33            326          1  0.29411766       \n",
            "kennynguyen2/chocolate-chip-cookie-ingredients               Chocolate Chip Cookie Ingredients                    26KB  2021-05-08 22:16:44             37          2  0.44117647       \n",
            "rtatman/oreo-flavors-tastetest-ratings                       Oreo Flavors Taste-Test Ratings                      737B  2017-09-06 17:04:07            547         12  0.8235294        \n",
            "hugoquintero/seawater-quality-pnbl-20142019                  Seawater Quality Bahia Loreto Nat. Park 2014-2020   326KB  2021-07-27 14:45:35             87          4  0.9117647        \n",
            "ltrahul/mushrooms-classification-dataset                     Mushrooms classification dataset                     34KB  2022-06-21 13:04:14            169         12  0.7647059        \n"
          ]
        }
      ],
      "source": [
        "!kaggle datasets list -s chocolate"
      ]
    },
    {
      "cell_type": "code",
      "execution_count": 9,
      "metadata": {
        "colab": {
          "base_uri": "https://localhost:8080/"
        },
        "id": "VVez1m0-0CX7",
        "outputId": "6fb788c0-7061-4caf-c18a-5fd5676bf49d"
      },
      "outputs": [
        {
          "output_type": "stream",
          "name": "stdout",
          "text": [
            "chocolate-ratings.zip: Skipping, found more recently modified local copy (use --force to force download)\n"
          ]
        }
      ],
      "source": [
        "!kaggle datasets download -d andrewmvd/chocolate-ratings"
      ]
    },
    {
      "cell_type": "code",
      "execution_count": 10,
      "metadata": {
        "colab": {
          "base_uri": "https://localhost:8080/"
        },
        "id": "de9ommLM1D4U",
        "outputId": "e8b30c0a-eb43-417f-bd29-fda702837d2c"
      },
      "outputs": [
        {
          "output_type": "stream",
          "name": "stdout",
          "text": [
            "chocolate_makers.csv  chocolate_ratings.csv  chocolate-ratings.zip\n"
          ]
        }
      ],
      "source": [
        "ls"
      ]
    },
    {
      "cell_type": "code",
      "execution_count": null,
      "metadata": {
        "colab": {
          "base_uri": "https://localhost:8080/"
        },
        "id": "a0UFtKvR-1vg",
        "outputId": "24116667-ef53-4b90-c960-f56107b0744d"
      },
      "outputs": [
        {
          "output_type": "stream",
          "name": "stdout",
          "text": [
            "Archive:  chocolate-ratings.zip\n",
            "replace chocolate_makers.csv? [y]es, [n]o, [A]ll, [N]one, [r]ename: "
          ]
        }
      ],
      "source": [
        "!unzip chocolate-ratings.zip"
      ]
    },
    {
      "cell_type": "code",
      "execution_count": null,
      "metadata": {
        "colab": {
          "background_save": true
        },
        "id": "SidyC712fhnF"
      },
      "outputs": [],
      "source": [
        "ls"
      ]
    },
    {
      "cell_type": "code",
      "execution_count": null,
      "metadata": {
        "colab": {
          "background_save": true
        },
        "id": "7G3FSYFm-6qy"
      },
      "outputs": [],
      "source": [
        "df = pd.read_csv(\"chocolate_ratings.csv\")\n"
      ]
    },
    {
      "cell_type": "code",
      "execution_count": null,
      "metadata": {
        "colab": {
          "background_save": true
        },
        "id": "mXXf2t1s1aZI"
      },
      "outputs": [],
      "source": [
        "df"
      ]
    },
    {
      "cell_type": "code",
      "execution_count": null,
      "metadata": {
        "colab": {
          "background_save": true
        },
        "id": "UVwEIPhMgYUj"
      },
      "outputs": [],
      "source": [
        "np.array(df[\"Cocoa Percent\"][0].split('%')[0]).astype(float)"
      ]
    },
    {
      "cell_type": "code",
      "execution_count": null,
      "metadata": {
        "colab": {
          "background_save": true
        },
        "id": "8KO1wHrPMBnH"
      },
      "outputs": [],
      "source": [
        "df['%Cocoa'] = df['Cocoa Percent'].apply(lambda x: x.split('%')[0])\n",
        "df['%Cocoa'] = df['%Cocoa'].astype(float)"
      ]
    },
    {
      "cell_type": "code",
      "execution_count": null,
      "metadata": {
        "colab": {
          "background_save": true
        },
        "id": "2aKAc12oLFLA"
      },
      "outputs": [],
      "source": [
        "df.plot(\"%Cocoa\", \"Rating\", kind=\"scatter\");"
      ]
    },
    {
      "cell_type": "code",
      "execution_count": null,
      "metadata": {
        "colab": {
          "background_save": true
        },
        "id": "eGRd7X7uL8CB"
      },
      "outputs": [],
      "source": [
        "features = df[['%Cocoa','Rating']]"
      ]
    },
    {
      "cell_type": "code",
      "execution_count": null,
      "metadata": {
        "colab": {
          "background_save": true
        },
        "id": "fLP6cTGGLarN"
      },
      "outputs": [],
      "source": [
        "features.hist(figsize=(10,4));"
      ]
    },
    {
      "cell_type": "code",
      "execution_count": null,
      "metadata": {
        "colab": {
          "background_save": true
        },
        "id": "ihkUh9fWNIPj"
      },
      "outputs": [],
      "source": [
        "features = (features - features.mean()) / features.std()"
      ]
    },
    {
      "cell_type": "code",
      "execution_count": null,
      "metadata": {
        "colab": {
          "background_save": true
        },
        "id": "5qtUG7pxTD6P"
      },
      "outputs": [],
      "source": [
        "features.hist(figsize=(10,4));"
      ]
    },
    {
      "cell_type": "markdown",
      "metadata": {
        "id": "ZEklQKp78aYu"
      },
      "source": [
        "# DBSCAN"
      ]
    },
    {
      "cell_type": "code",
      "execution_count": null,
      "metadata": {
        "colab": {
          "background_save": true
        },
        "id": "RbwH02YHNsyi"
      },
      "outputs": [],
      "source": [
        "from sklearn.cluster import DBSCAN"
      ]
    },
    {
      "cell_type": "code",
      "execution_count": null,
      "metadata": {
        "colab": {
          "background_save": true
        },
        "id": "Pu75g8mMNz9U"
      },
      "outputs": [],
      "source": [
        "dbscan = DBSCAN(eps=1.1,min_samples=5)\n",
        "dbscan.fit(features)"
      ]
    },
    {
      "cell_type": "code",
      "execution_count": null,
      "metadata": {
        "colab": {
          "background_save": true
        },
        "id": "vMlDJu2oh8G5"
      },
      "outputs": [],
      "source": [
        "dbscan.labels_"
      ]
    },
    {
      "cell_type": "code",
      "execution_count": null,
      "metadata": {
        "colab": {
          "background_save": true
        },
        "id": "N_F4lQoDh9nY"
      },
      "outputs": [],
      "source": [
        "np.unique(dbscan.labels_)"
      ]
    },
    {
      "cell_type": "code",
      "execution_count": null,
      "metadata": {
        "colab": {
          "background_save": true
        },
        "id": "P7kYCIbpOV6B"
      },
      "outputs": [],
      "source": [
        "df[\"labels\"] = dbscan.labels_"
      ]
    },
    {
      "cell_type": "code",
      "execution_count": null,
      "metadata": {
        "colab": {
          "background_save": true
        },
        "id": "L2F3HUKmOeIA"
      },
      "outputs": [],
      "source": [
        "for label in df[\"labels\"].unique():\n",
        "  print(label, (df[\"labels\"]==label).sum())"
      ]
    },
    {
      "cell_type": "code",
      "execution_count": null,
      "metadata": {
        "colab": {
          "background_save": true
        },
        "id": "APWxxPznOsqz"
      },
      "outputs": [],
      "source": [
        "clrs=np.array([\"b\", \"r\", \"k\"])\n",
        "\n",
        "plt.scatter(df['%Cocoa'], df['Rating'], color=clrs[df[\"labels\"]])\n",
        "plt.xlabel(\"%Cocoa\")\n",
        "plt.ylabel(\"Rating\");"
      ]
    },
    {
      "cell_type": "code",
      "execution_count": null,
      "metadata": {
        "colab": {
          "background_save": true
        },
        "id": "aiJUXlQVPRf_"
      },
      "outputs": [],
      "source": [
        "import plotly.express as px\n",
        "\n",
        "df[\"labels\"] = df[\"labels\"].astype(str)\n",
        "fig = px.scatter(df, x='%Cocoa', y='Rating', hover_name=\"Company (Manufacturer)\",\n",
        "                 color='labels', color_discrete_sequence=px.colors.qualitative.Safe)\n",
        "fig.update_traces(marker={'size': 10})\n",
        "fig.show()"
      ]
    },
    {
      "cell_type": "markdown",
      "metadata": {
        "id": "CaiLJRKg9GV6"
      },
      "source": [
        "# More Features"
      ]
    },
    {
      "cell_type": "code",
      "execution_count": null,
      "metadata": {
        "colab": {
          "background_save": true
        },
        "id": "zZwEX7u8YEZJ"
      },
      "outputs": [],
      "source": [
        "import plotly.express as px\n",
        "\n",
        "df[\"labels\"] = df[\"labels\"].astype(str)\n",
        "fig = px.scatter_3d(df, x='%Cocoa', y='Rating', z='Review Date',\n",
        "                    hover_name=\"Company (Manufacturer)\")\n",
        "fig.update_traces(marker={'size': 3})\n",
        "fig.show()"
      ]
    },
    {
      "cell_type": "code",
      "execution_count": null,
      "metadata": {
        "colab": {
          "background_save": true
        },
        "id": "M4YBOGXSU1FR"
      },
      "outputs": [],
      "source": [
        "features = df[['%Cocoa','Rating', 'Review Date']]"
      ]
    },
    {
      "cell_type": "code",
      "execution_count": null,
      "metadata": {
        "colab": {
          "background_save": true
        },
        "id": "SQAUIuDG9S7N"
      },
      "outputs": [],
      "source": [
        "features = (features - features.mean()) / features.std()"
      ]
    },
    {
      "cell_type": "code",
      "execution_count": null,
      "metadata": {
        "colab": {
          "background_save": true
        },
        "id": "1wfiM6ljYPtz"
      },
      "outputs": [],
      "source": [
        "dbscan = DBSCAN(eps=1.1, min_samples=5)\n",
        "dbscan.fit(features)"
      ]
    },
    {
      "cell_type": "code",
      "execution_count": null,
      "metadata": {
        "colab": {
          "background_save": true
        },
        "id": "TovNbpp9YoqH"
      },
      "outputs": [],
      "source": [
        "df[\"labels\"] = dbscan.labels_"
      ]
    },
    {
      "cell_type": "code",
      "execution_count": null,
      "metadata": {
        "colab": {
          "background_save": true
        },
        "id": "J2JYT70vYl5f"
      },
      "outputs": [],
      "source": [
        "for label in df[\"labels\"].unique():\n",
        "  print(label, (df[\"labels\"]==label).sum())"
      ]
    },
    {
      "cell_type": "code",
      "execution_count": null,
      "metadata": {
        "colab": {
          "background_save": true
        },
        "id": "SQOjbUbCYqv4"
      },
      "outputs": [],
      "source": [
        "import plotly.express as px\n",
        "\n",
        "df[\"labels\"] = df[\"labels\"].astype(str)\n",
        "fig = px.scatter_3d(df, x='%Cocoa', y='Rating', z='Review Date',\n",
        "                    hover_name=\"Company (Manufacturer)\",\n",
        "                    color='labels', color_discrete_sequence=px.colors.qualitative.Safe)\n",
        "fig.update_traces(marker={'size': 3})\n",
        "fig.show()"
      ]
    },
    {
      "cell_type": "markdown",
      "metadata": {
        "id": "FbbrNB10jnqV"
      },
      "source": [
        "look into heirarchial and centroid-based clustering"
      ]
    },
    {
      "cell_type": "code",
      "execution_count": null,
      "metadata": {
        "colab": {
          "background_save": true
        },
        "id": "fG7SpkDfYxdJ"
      },
      "outputs": [],
      "source": []
    }
  ],
  "metadata": {
    "colab": {
      "collapsed_sections": [
        "ZEklQKp78aYu"
      ],
      "provenance": [],
      "include_colab_link": true
    },
    "kernelspec": {
      "display_name": "Python 3",
      "name": "python3"
    },
    "language_info": {
      "name": "python"
    }
  },
  "nbformat": 4,
  "nbformat_minor": 0
}