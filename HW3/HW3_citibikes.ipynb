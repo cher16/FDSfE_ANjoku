{
 "cells": [
  {
   "cell_type": "markdown",
   "metadata": {
    "colab_type": "text",
    "id": "view-in-github"
   },
   "source": [
    "<a href=\"https://colab.research.google.com/github/cher16/FDSfE_ANjoku/blob/main/HW3/HW3_citibikes.ipynb\" target=\"_parent\"><img src=\"https://colab.research.google.com/assets/colab-badge.svg\" alt=\"Open In Colab\"/></a>"
   ]
  },
  {
   "cell_type": "code",
   "execution_count": 128,
   "metadata": {
    "id": "LEcE6IScc3Tx",
    "scrolled": true
   },
   "outputs": [],
   "source": [
    "import matplotlib.pyplot as plt\n",
    "import pandas as pd\n",
    "import numpy as np\n",
    "import scipy as sp\n",
    "from scipy import stats"
   ]
  },
  {
   "cell_type": "markdown",
   "metadata": {
    "id": "V-bKj0Xjc3T5"
   },
   "source": [
    "# IDEA:\n",
    " Citibike usage would be different by gender if the bikes are more comfortable for people who are taller and with larger frames.\n",
    "\n",
    "Remember: \n",
    "### NULL HYPOTHESIS _H0_:\n",
    "mu1 = mu2\n",
    "\n",
    "\n",
    "### ALTERNATIVE HYPOTHESIS _HA_:\n",
    "mu1 != mu2\n",
    "\n",
    "\n"
   ]
  },
  {
   "cell_type": "code",
   "execution_count": 129,
   "metadata": {
    "id": "O-ZZoG1GeqX_"
   },
   "outputs": [],
   "source": [
    "pvalue = 0.05"
   ]
  },
  {
   "cell_type": "markdown",
   "metadata": {
    "id": "I-bfLntac3T7"
   },
   "source": [
    "# Data gathering\n",
    "Get a single month of data:  reading data from citibike csv file from May 2019\n",
    "\n",
    "\n",
    "\n",
    "read a csv file with pandas so that the content is stored in a \"DataFrame\". "
   ]
  },
  {
   "cell_type": "code",
   "execution_count": 130,
   "metadata": {
    "colab": {
     "base_uri": "https://localhost:8080/",
     "height": 835
    },
    "id": "TLDKMJbyc3UL",
    "outputId": "17f29418-1bd9-4505-e0ad-78be79052df8"
   },
   "outputs": [
    {
     "data": {
      "text/html": [
       "\n",
       "  <div id=\"df-3be6aa6e-81d9-4186-8e6c-336cf0dc97ac\">\n",
       "    <div class=\"colab-df-container\">\n",
       "      <div>\n",
       "<style scoped>\n",
       "    .dataframe tbody tr th:only-of-type {\n",
       "        vertical-align: middle;\n",
       "    }\n",
       "\n",
       "    .dataframe tbody tr th {\n",
       "        vertical-align: top;\n",
       "    }\n",
       "\n",
       "    .dataframe thead th {\n",
       "        text-align: right;\n",
       "    }\n",
       "</style>\n",
       "<table border=\"1\" class=\"dataframe\">\n",
       "  <thead>\n",
       "    <tr style=\"text-align: right;\">\n",
       "      <th></th>\n",
       "      <th>tripduration</th>\n",
       "      <th>starttime</th>\n",
       "      <th>stoptime</th>\n",
       "      <th>start station id</th>\n",
       "      <th>start station name</th>\n",
       "      <th>start station latitude</th>\n",
       "      <th>start station longitude</th>\n",
       "      <th>end station id</th>\n",
       "      <th>end station name</th>\n",
       "      <th>end station latitude</th>\n",
       "      <th>end station longitude</th>\n",
       "      <th>bikeid</th>\n",
       "      <th>usertype</th>\n",
       "      <th>birth year</th>\n",
       "      <th>gender</th>\n",
       "    </tr>\n",
       "  </thead>\n",
       "  <tbody>\n",
       "    <tr>\n",
       "      <th>0</th>\n",
       "      <td>139</td>\n",
       "      <td>2019-05-01 00:00:01.9010</td>\n",
       "      <td>2019-05-01 00:02:21.5170</td>\n",
       "      <td>447</td>\n",
       "      <td>8 Ave &amp; W 52 St</td>\n",
       "      <td>40.763707</td>\n",
       "      <td>-73.985162</td>\n",
       "      <td>423</td>\n",
       "      <td>W 54 St &amp; 9 Ave</td>\n",
       "      <td>40.765849</td>\n",
       "      <td>-73.986905</td>\n",
       "      <td>31170</td>\n",
       "      <td>Subscriber</td>\n",
       "      <td>1983</td>\n",
       "      <td>1</td>\n",
       "    </tr>\n",
       "    <tr>\n",
       "      <th>1</th>\n",
       "      <td>754</td>\n",
       "      <td>2019-05-01 00:00:03.0210</td>\n",
       "      <td>2019-05-01 00:12:37.6920</td>\n",
       "      <td>3258</td>\n",
       "      <td>W 27 St &amp; 10 Ave</td>\n",
       "      <td>40.750182</td>\n",
       "      <td>-74.002184</td>\n",
       "      <td>3255</td>\n",
       "      <td>8 Ave &amp; W 31 St</td>\n",
       "      <td>40.750585</td>\n",
       "      <td>-73.994685</td>\n",
       "      <td>25560</td>\n",
       "      <td>Customer</td>\n",
       "      <td>1969</td>\n",
       "      <td>0</td>\n",
       "    </tr>\n",
       "    <tr>\n",
       "      <th>2</th>\n",
       "      <td>2308</td>\n",
       "      <td>2019-05-01 00:00:04.6270</td>\n",
       "      <td>2019-05-01 00:38:33.1710</td>\n",
       "      <td>3093</td>\n",
       "      <td>N 6 St &amp; Bedford Ave</td>\n",
       "      <td>40.717452</td>\n",
       "      <td>-73.958509</td>\n",
       "      <td>3676</td>\n",
       "      <td>Van Brunt St &amp; Van Dyke St</td>\n",
       "      <td>40.675833</td>\n",
       "      <td>-74.014726</td>\n",
       "      <td>33369</td>\n",
       "      <td>Subscriber</td>\n",
       "      <td>1978</td>\n",
       "      <td>1</td>\n",
       "    </tr>\n",
       "    <tr>\n",
       "      <th>3</th>\n",
       "      <td>143</td>\n",
       "      <td>2019-05-01 00:00:19.3340</td>\n",
       "      <td>2019-05-01 00:02:42.5200</td>\n",
       "      <td>3486</td>\n",
       "      <td>Schermerhorn St &amp; Bond St</td>\n",
       "      <td>40.688417</td>\n",
       "      <td>-73.984517</td>\n",
       "      <td>3412</td>\n",
       "      <td>Pacific St &amp; Nevins St</td>\n",
       "      <td>40.685376</td>\n",
       "      <td>-73.983021</td>\n",
       "      <td>32041</td>\n",
       "      <td>Subscriber</td>\n",
       "      <td>1997</td>\n",
       "      <td>1</td>\n",
       "    </tr>\n",
       "    <tr>\n",
       "      <th>4</th>\n",
       "      <td>138</td>\n",
       "      <td>2019-05-01 00:00:22.1840</td>\n",
       "      <td>2019-05-01 00:02:40.6480</td>\n",
       "      <td>388</td>\n",
       "      <td>W 26 St &amp; 10 Ave</td>\n",
       "      <td>40.749718</td>\n",
       "      <td>-74.002950</td>\n",
       "      <td>494</td>\n",
       "      <td>W 26 St &amp; 8 Ave</td>\n",
       "      <td>40.747348</td>\n",
       "      <td>-73.997236</td>\n",
       "      <td>35237</td>\n",
       "      <td>Subscriber</td>\n",
       "      <td>1967</td>\n",
       "      <td>1</td>\n",
       "    </tr>\n",
       "    <tr>\n",
       "      <th>...</th>\n",
       "      <td>...</td>\n",
       "      <td>...</td>\n",
       "      <td>...</td>\n",
       "      <td>...</td>\n",
       "      <td>...</td>\n",
       "      <td>...</td>\n",
       "      <td>...</td>\n",
       "      <td>...</td>\n",
       "      <td>...</td>\n",
       "      <td>...</td>\n",
       "      <td>...</td>\n",
       "      <td>...</td>\n",
       "      <td>...</td>\n",
       "      <td>...</td>\n",
       "      <td>...</td>\n",
       "    </tr>\n",
       "    <tr>\n",
       "      <th>1924558</th>\n",
       "      <td>304</td>\n",
       "      <td>2019-05-31 23:59:45.5760</td>\n",
       "      <td>2019-06-01 00:04:50.4620</td>\n",
       "      <td>3175</td>\n",
       "      <td>W 70 St &amp; Amsterdam Ave</td>\n",
       "      <td>40.777480</td>\n",
       "      <td>-73.982886</td>\n",
       "      <td>423</td>\n",
       "      <td>W 54 St &amp; 9 Ave</td>\n",
       "      <td>40.765849</td>\n",
       "      <td>-73.986905</td>\n",
       "      <td>32285</td>\n",
       "      <td>Subscriber</td>\n",
       "      <td>1987</td>\n",
       "      <td>2</td>\n",
       "    </tr>\n",
       "    <tr>\n",
       "      <th>1924559</th>\n",
       "      <td>324</td>\n",
       "      <td>2019-05-31 23:59:46.4650</td>\n",
       "      <td>2019-06-01 00:05:11.1630</td>\n",
       "      <td>2003</td>\n",
       "      <td>1 Ave &amp; E 18 St</td>\n",
       "      <td>40.733812</td>\n",
       "      <td>-73.980544</td>\n",
       "      <td>536</td>\n",
       "      <td>1 Ave &amp; E 30 St</td>\n",
       "      <td>40.741444</td>\n",
       "      <td>-73.975361</td>\n",
       "      <td>33874</td>\n",
       "      <td>Subscriber</td>\n",
       "      <td>1994</td>\n",
       "      <td>2</td>\n",
       "    </tr>\n",
       "    <tr>\n",
       "      <th>1924560</th>\n",
       "      <td>1926</td>\n",
       "      <td>2019-05-31 23:59:51.5060</td>\n",
       "      <td>2019-06-01 00:31:58.3920</td>\n",
       "      <td>146</td>\n",
       "      <td>Hudson St &amp; Reade St</td>\n",
       "      <td>40.716250</td>\n",
       "      <td>-74.009106</td>\n",
       "      <td>422</td>\n",
       "      <td>W 59 St &amp; 10 Ave</td>\n",
       "      <td>40.770513</td>\n",
       "      <td>-73.988038</td>\n",
       "      <td>33395</td>\n",
       "      <td>Subscriber</td>\n",
       "      <td>1985</td>\n",
       "      <td>1</td>\n",
       "    </tr>\n",
       "    <tr>\n",
       "      <th>1924561</th>\n",
       "      <td>2047</td>\n",
       "      <td>2019-05-31 23:59:52.4170</td>\n",
       "      <td>2019-06-01 00:34:00.1970</td>\n",
       "      <td>3658</td>\n",
       "      <td>W 18 St &amp; 9 Ave</td>\n",
       "      <td>40.743534</td>\n",
       "      <td>-74.003676</td>\n",
       "      <td>2008</td>\n",
       "      <td>Little West St &amp; 1 Pl</td>\n",
       "      <td>40.705693</td>\n",
       "      <td>-74.016777</td>\n",
       "      <td>27624</td>\n",
       "      <td>Subscriber</td>\n",
       "      <td>1987</td>\n",
       "      <td>0</td>\n",
       "    </tr>\n",
       "    <tr>\n",
       "      <th>1924562</th>\n",
       "      <td>964</td>\n",
       "      <td>2019-05-31 23:59:55.5500</td>\n",
       "      <td>2019-06-01 00:15:59.8680</td>\n",
       "      <td>285</td>\n",
       "      <td>Broadway &amp; E 14 St</td>\n",
       "      <td>40.734546</td>\n",
       "      <td>-73.990741</td>\n",
       "      <td>3656</td>\n",
       "      <td>E 2 St &amp; Avenue A</td>\n",
       "      <td>40.723077</td>\n",
       "      <td>-73.985836</td>\n",
       "      <td>32565</td>\n",
       "      <td>Subscriber</td>\n",
       "      <td>1992</td>\n",
       "      <td>2</td>\n",
       "    </tr>\n",
       "  </tbody>\n",
       "</table>\n",
       "<p>1924563 rows × 15 columns</p>\n",
       "</div>\n",
       "      <button class=\"colab-df-convert\" onclick=\"convertToInteractive('df-3be6aa6e-81d9-4186-8e6c-336cf0dc97ac')\"\n",
       "              title=\"Convert this dataframe to an interactive table.\"\n",
       "              style=\"display:none;\">\n",
       "        \n",
       "  <svg xmlns=\"http://www.w3.org/2000/svg\" height=\"24px\"viewBox=\"0 0 24 24\"\n",
       "       width=\"24px\">\n",
       "    <path d=\"M0 0h24v24H0V0z\" fill=\"none\"/>\n",
       "    <path d=\"M18.56 5.44l.94 2.06.94-2.06 2.06-.94-2.06-.94-.94-2.06-.94 2.06-2.06.94zm-11 1L8.5 8.5l.94-2.06 2.06-.94-2.06-.94L8.5 2.5l-.94 2.06-2.06.94zm10 10l.94 2.06.94-2.06 2.06-.94-2.06-.94-.94-2.06-.94 2.06-2.06.94z\"/><path d=\"M17.41 7.96l-1.37-1.37c-.4-.4-.92-.59-1.43-.59-.52 0-1.04.2-1.43.59L10.3 9.45l-7.72 7.72c-.78.78-.78 2.05 0 2.83L4 21.41c.39.39.9.59 1.41.59.51 0 1.02-.2 1.41-.59l7.78-7.78 2.81-2.81c.8-.78.8-2.07 0-2.86zM5.41 20L4 18.59l7.72-7.72 1.47 1.35L5.41 20z\"/>\n",
       "  </svg>\n",
       "      </button>\n",
       "      \n",
       "  <style>\n",
       "    .colab-df-container {\n",
       "      display:flex;\n",
       "      flex-wrap:wrap;\n",
       "      gap: 12px;\n",
       "    }\n",
       "\n",
       "    .colab-df-convert {\n",
       "      background-color: #E8F0FE;\n",
       "      border: none;\n",
       "      border-radius: 50%;\n",
       "      cursor: pointer;\n",
       "      display: none;\n",
       "      fill: #1967D2;\n",
       "      height: 32px;\n",
       "      padding: 0 0 0 0;\n",
       "      width: 32px;\n",
       "    }\n",
       "\n",
       "    .colab-df-convert:hover {\n",
       "      background-color: #E2EBFA;\n",
       "      box-shadow: 0px 1px 2px rgba(60, 64, 67, 0.3), 0px 1px 3px 1px rgba(60, 64, 67, 0.15);\n",
       "      fill: #174EA6;\n",
       "    }\n",
       "\n",
       "    [theme=dark] .colab-df-convert {\n",
       "      background-color: #3B4455;\n",
       "      fill: #D2E3FC;\n",
       "    }\n",
       "\n",
       "    [theme=dark] .colab-df-convert:hover {\n",
       "      background-color: #434B5C;\n",
       "      box-shadow: 0px 1px 3px 1px rgba(0, 0, 0, 0.15);\n",
       "      filter: drop-shadow(0px 1px 2px rgba(0, 0, 0, 0.3));\n",
       "      fill: #FFFFFF;\n",
       "    }\n",
       "  </style>\n",
       "\n",
       "      <script>\n",
       "        const buttonEl =\n",
       "          document.querySelector('#df-3be6aa6e-81d9-4186-8e6c-336cf0dc97ac button.colab-df-convert');\n",
       "        buttonEl.style.display =\n",
       "          google.colab.kernel.accessAllowed ? 'block' : 'none';\n",
       "\n",
       "        async function convertToInteractive(key) {\n",
       "          const element = document.querySelector('#df-3be6aa6e-81d9-4186-8e6c-336cf0dc97ac');\n",
       "          const dataTable =\n",
       "            await google.colab.kernel.invokeFunction('convertToInteractive',\n",
       "                                                     [key], {});\n",
       "          if (!dataTable) return;\n",
       "\n",
       "          const docLinkHtml = 'Like what you see? Visit the ' +\n",
       "            '<a target=\"_blank\" href=https://colab.research.google.com/notebooks/data_table.ipynb>data table notebook</a>'\n",
       "            + ' to learn more about interactive tables.';\n",
       "          element.innerHTML = '';\n",
       "          dataTable['output_type'] = 'display_data';\n",
       "          await google.colab.output.renderOutput(dataTable, element);\n",
       "          const docLink = document.createElement('div');\n",
       "          docLink.innerHTML = docLinkHtml;\n",
       "          element.appendChild(docLink);\n",
       "        }\n",
       "      </script>\n",
       "    </div>\n",
       "  </div>\n",
       "  "
      ],
      "text/plain": [
       "         tripduration                 starttime                  stoptime  \\\n",
       "0                 139  2019-05-01 00:00:01.9010  2019-05-01 00:02:21.5170   \n",
       "1                 754  2019-05-01 00:00:03.0210  2019-05-01 00:12:37.6920   \n",
       "2                2308  2019-05-01 00:00:04.6270  2019-05-01 00:38:33.1710   \n",
       "3                 143  2019-05-01 00:00:19.3340  2019-05-01 00:02:42.5200   \n",
       "4                 138  2019-05-01 00:00:22.1840  2019-05-01 00:02:40.6480   \n",
       "...               ...                       ...                       ...   \n",
       "1924558           304  2019-05-31 23:59:45.5760  2019-06-01 00:04:50.4620   \n",
       "1924559           324  2019-05-31 23:59:46.4650  2019-06-01 00:05:11.1630   \n",
       "1924560          1926  2019-05-31 23:59:51.5060  2019-06-01 00:31:58.3920   \n",
       "1924561          2047  2019-05-31 23:59:52.4170  2019-06-01 00:34:00.1970   \n",
       "1924562           964  2019-05-31 23:59:55.5500  2019-06-01 00:15:59.8680   \n",
       "\n",
       "         start station id         start station name  start station latitude  \\\n",
       "0                     447            8 Ave & W 52 St               40.763707   \n",
       "1                    3258           W 27 St & 10 Ave               40.750182   \n",
       "2                    3093       N 6 St & Bedford Ave               40.717452   \n",
       "3                    3486  Schermerhorn St & Bond St               40.688417   \n",
       "4                     388           W 26 St & 10 Ave               40.749718   \n",
       "...                   ...                        ...                     ...   \n",
       "1924558              3175    W 70 St & Amsterdam Ave               40.777480   \n",
       "1924559              2003            1 Ave & E 18 St               40.733812   \n",
       "1924560               146       Hudson St & Reade St               40.716250   \n",
       "1924561              3658            W 18 St & 9 Ave               40.743534   \n",
       "1924562               285         Broadway & E 14 St               40.734546   \n",
       "\n",
       "         start station longitude  end station id            end station name  \\\n",
       "0                     -73.985162             423             W 54 St & 9 Ave   \n",
       "1                     -74.002184            3255             8 Ave & W 31 St   \n",
       "2                     -73.958509            3676  Van Brunt St & Van Dyke St   \n",
       "3                     -73.984517            3412      Pacific St & Nevins St   \n",
       "4                     -74.002950             494             W 26 St & 8 Ave   \n",
       "...                          ...             ...                         ...   \n",
       "1924558               -73.982886             423             W 54 St & 9 Ave   \n",
       "1924559               -73.980544             536             1 Ave & E 30 St   \n",
       "1924560               -74.009106             422            W 59 St & 10 Ave   \n",
       "1924561               -74.003676            2008       Little West St & 1 Pl   \n",
       "1924562               -73.990741            3656           E 2 St & Avenue A   \n",
       "\n",
       "         end station latitude  end station longitude  bikeid    usertype  \\\n",
       "0                   40.765849             -73.986905   31170  Subscriber   \n",
       "1                   40.750585             -73.994685   25560    Customer   \n",
       "2                   40.675833             -74.014726   33369  Subscriber   \n",
       "3                   40.685376             -73.983021   32041  Subscriber   \n",
       "4                   40.747348             -73.997236   35237  Subscriber   \n",
       "...                       ...                    ...     ...         ...   \n",
       "1924558             40.765849             -73.986905   32285  Subscriber   \n",
       "1924559             40.741444             -73.975361   33874  Subscriber   \n",
       "1924560             40.770513             -73.988038   33395  Subscriber   \n",
       "1924561             40.705693             -74.016777   27624  Subscriber   \n",
       "1924562             40.723077             -73.985836   32565  Subscriber   \n",
       "\n",
       "         birth year  gender  \n",
       "0              1983       1  \n",
       "1              1969       0  \n",
       "2              1978       1  \n",
       "3              1997       1  \n",
       "4              1967       1  \n",
       "...             ...     ...  \n",
       "1924558        1987       2  \n",
       "1924559        1994       2  \n",
       "1924560        1985       1  \n",
       "1924561        1987       0  \n",
       "1924562        1992       2  \n",
       "\n",
       "[1924563 rows x 15 columns]"
      ]
     },
     "execution_count": 130,
     "metadata": {},
     "output_type": "execute_result"
    }
   ],
   "source": [
    "datestring = '201905'\n",
    "cbMay19 = pd.read_csv(\"https://s3.amazonaws.com/tripdata/\"+ datestring + \"-citibike-tripdata.csv.zip\", compression = \"zip\");\n",
    "cbMay19"
   ]
  },
  {
   "cell_type": "markdown",
   "metadata": {
    "id": "c-Xh0btXc3UT"
   },
   "source": [
    "# Data Exploration\n",
    "\n",
    "you know what to do!"
   ]
  },
  {
   "cell_type": "code",
   "execution_count": 131,
   "metadata": {
    "colab": {
     "base_uri": "https://localhost:8080/"
    },
    "id": "uR_leB3MBT67",
    "outputId": "e2a6d8b3-5383-4bba-b434-582b147a79f6"
   },
   "outputs": [
    {
     "name": "stdout",
     "output_type": "stream",
     "text": [
      "<class 'pandas.core.frame.DataFrame'>\n",
      "RangeIndex: 1924563 entries, 0 to 1924562\n",
      "Data columns (total 15 columns):\n",
      " #   Column                   Dtype  \n",
      "---  ------                   -----  \n",
      " 0   tripduration             int64  \n",
      " 1   starttime                object \n",
      " 2   stoptime                 object \n",
      " 3   start station id         int64  \n",
      " 4   start station name       object \n",
      " 5   start station latitude   float64\n",
      " 6   start station longitude  float64\n",
      " 7   end station id           int64  \n",
      " 8   end station name         object \n",
      " 9   end station latitude     float64\n",
      " 10  end station longitude    float64\n",
      " 11  bikeid                   int64  \n",
      " 12  usertype                 object \n",
      " 13  birth year               int64  \n",
      " 14  gender                   int64  \n",
      "dtypes: float64(4), int64(6), object(5)\n",
      "memory usage: 220.2+ MB\n"
     ]
    }
   ],
   "source": [
    "cbMay19.info()"
   ]
  },
  {
   "cell_type": "code",
   "execution_count": 132,
   "metadata": {
    "colab": {
     "base_uri": "https://localhost:8080/",
     "height": 362
    },
    "id": "CysUpXIu5jpu",
    "outputId": "3300b608-5ff7-4269-e89e-5c56a991f024"
   },
   "outputs": [
    {
     "data": {
      "text/html": [
       "\n",
       "  <div id=\"df-970fb350-f23d-4bfb-a638-b1a2e8882bfc\">\n",
       "    <div class=\"colab-df-container\">\n",
       "      <div>\n",
       "<style scoped>\n",
       "    .dataframe tbody tr th:only-of-type {\n",
       "        vertical-align: middle;\n",
       "    }\n",
       "\n",
       "    .dataframe tbody tr th {\n",
       "        vertical-align: top;\n",
       "    }\n",
       "\n",
       "    .dataframe thead th {\n",
       "        text-align: right;\n",
       "    }\n",
       "</style>\n",
       "<table border=\"1\" class=\"dataframe\">\n",
       "  <thead>\n",
       "    <tr style=\"text-align: right;\">\n",
       "      <th></th>\n",
       "      <th>tripduration</th>\n",
       "      <th>start station id</th>\n",
       "      <th>start station latitude</th>\n",
       "      <th>start station longitude</th>\n",
       "      <th>end station id</th>\n",
       "      <th>end station latitude</th>\n",
       "      <th>end station longitude</th>\n",
       "      <th>bikeid</th>\n",
       "      <th>birth year</th>\n",
       "      <th>gender</th>\n",
       "    </tr>\n",
       "  </thead>\n",
       "  <tbody>\n",
       "    <tr>\n",
       "      <th>count</th>\n",
       "      <td>1.924563e+06</td>\n",
       "      <td>1.924563e+06</td>\n",
       "      <td>1.924563e+06</td>\n",
       "      <td>1.924563e+06</td>\n",
       "      <td>1.924563e+06</td>\n",
       "      <td>1.924563e+06</td>\n",
       "      <td>1.924563e+06</td>\n",
       "      <td>1.924563e+06</td>\n",
       "      <td>1.924563e+06</td>\n",
       "      <td>1.924563e+06</td>\n",
       "    </tr>\n",
       "    <tr>\n",
       "      <th>mean</th>\n",
       "      <td>1.067189e+03</td>\n",
       "      <td>1.671397e+03</td>\n",
       "      <td>4.073698e+01</td>\n",
       "      <td>-7.398223e+01</td>\n",
       "      <td>1.664596e+03</td>\n",
       "      <td>4.073675e+01</td>\n",
       "      <td>-7.398248e+01</td>\n",
       "      <td>2.712861e+04</td>\n",
       "      <td>1.979833e+03</td>\n",
       "      <td>1.152992e+00</td>\n",
       "    </tr>\n",
       "    <tr>\n",
       "      <th>std</th>\n",
       "      <td>1.254636e+04</td>\n",
       "      <td>1.473509e+03</td>\n",
       "      <td>3.062224e-02</td>\n",
       "      <td>1.970116e-02</td>\n",
       "      <td>1.473196e+03</td>\n",
       "      <td>3.048823e-02</td>\n",
       "      <td>1.976340e-02</td>\n",
       "      <td>6.404188e+03</td>\n",
       "      <td>1.199213e+01</td>\n",
       "      <td>5.516776e-01</td>\n",
       "    </tr>\n",
       "    <tr>\n",
       "      <th>min</th>\n",
       "      <td>6.100000e+01</td>\n",
       "      <td>7.200000e+01</td>\n",
       "      <td>4.065540e+01</td>\n",
       "      <td>-7.402535e+01</td>\n",
       "      <td>7.200000e+01</td>\n",
       "      <td>4.065540e+01</td>\n",
       "      <td>-7.406860e+01</td>\n",
       "      <td>1.452900e+04</td>\n",
       "      <td>1.885000e+03</td>\n",
       "      <td>0.000000e+00</td>\n",
       "    </tr>\n",
       "    <tr>\n",
       "      <th>25%</th>\n",
       "      <td>3.790000e+02</td>\n",
       "      <td>3.820000e+02</td>\n",
       "      <td>4.071740e+01</td>\n",
       "      <td>-7.399595e+01</td>\n",
       "      <td>3.800000e+02</td>\n",
       "      <td>4.071723e+01</td>\n",
       "      <td>-7.399601e+01</td>\n",
       "      <td>2.082600e+04</td>\n",
       "      <td>1.969000e+03</td>\n",
       "      <td>1.000000e+00</td>\n",
       "    </tr>\n",
       "    <tr>\n",
       "      <th>50%</th>\n",
       "      <td>6.530000e+02</td>\n",
       "      <td>5.160000e+02</td>\n",
       "      <td>4.073726e+01</td>\n",
       "      <td>-7.398518e+01</td>\n",
       "      <td>5.150000e+02</td>\n",
       "      <td>4.073705e+01</td>\n",
       "      <td>-7.398584e+01</td>\n",
       "      <td>2.878200e+04</td>\n",
       "      <td>1.982000e+03</td>\n",
       "      <td>1.000000e+00</td>\n",
       "    </tr>\n",
       "    <tr>\n",
       "      <th>75%</th>\n",
       "      <td>1.158000e+03</td>\n",
       "      <td>3.293000e+03</td>\n",
       "      <td>4.075757e+01</td>\n",
       "      <td>-7.397121e+01</td>\n",
       "      <td>3.292000e+03</td>\n",
       "      <td>4.075715e+01</td>\n",
       "      <td>-7.397152e+01</td>\n",
       "      <td>3.257600e+04</td>\n",
       "      <td>1.990000e+03</td>\n",
       "      <td>1.000000e+00</td>\n",
       "    </tr>\n",
       "    <tr>\n",
       "      <th>max</th>\n",
       "      <td>2.922656e+06</td>\n",
       "      <td>3.790000e+03</td>\n",
       "      <td>4.081439e+01</td>\n",
       "      <td>-7.390774e+01</td>\n",
       "      <td>3.790000e+03</td>\n",
       "      <td>4.081439e+01</td>\n",
       "      <td>-7.390774e+01</td>\n",
       "      <td>3.800200e+04</td>\n",
       "      <td>2.003000e+03</td>\n",
       "      <td>2.000000e+00</td>\n",
       "    </tr>\n",
       "  </tbody>\n",
       "</table>\n",
       "</div>\n",
       "      <button class=\"colab-df-convert\" onclick=\"convertToInteractive('df-970fb350-f23d-4bfb-a638-b1a2e8882bfc')\"\n",
       "              title=\"Convert this dataframe to an interactive table.\"\n",
       "              style=\"display:none;\">\n",
       "        \n",
       "  <svg xmlns=\"http://www.w3.org/2000/svg\" height=\"24px\"viewBox=\"0 0 24 24\"\n",
       "       width=\"24px\">\n",
       "    <path d=\"M0 0h24v24H0V0z\" fill=\"none\"/>\n",
       "    <path d=\"M18.56 5.44l.94 2.06.94-2.06 2.06-.94-2.06-.94-.94-2.06-.94 2.06-2.06.94zm-11 1L8.5 8.5l.94-2.06 2.06-.94-2.06-.94L8.5 2.5l-.94 2.06-2.06.94zm10 10l.94 2.06.94-2.06 2.06-.94-2.06-.94-.94-2.06-.94 2.06-2.06.94z\"/><path d=\"M17.41 7.96l-1.37-1.37c-.4-.4-.92-.59-1.43-.59-.52 0-1.04.2-1.43.59L10.3 9.45l-7.72 7.72c-.78.78-.78 2.05 0 2.83L4 21.41c.39.39.9.59 1.41.59.51 0 1.02-.2 1.41-.59l7.78-7.78 2.81-2.81c.8-.78.8-2.07 0-2.86zM5.41 20L4 18.59l7.72-7.72 1.47 1.35L5.41 20z\"/>\n",
       "  </svg>\n",
       "      </button>\n",
       "      \n",
       "  <style>\n",
       "    .colab-df-container {\n",
       "      display:flex;\n",
       "      flex-wrap:wrap;\n",
       "      gap: 12px;\n",
       "    }\n",
       "\n",
       "    .colab-df-convert {\n",
       "      background-color: #E8F0FE;\n",
       "      border: none;\n",
       "      border-radius: 50%;\n",
       "      cursor: pointer;\n",
       "      display: none;\n",
       "      fill: #1967D2;\n",
       "      height: 32px;\n",
       "      padding: 0 0 0 0;\n",
       "      width: 32px;\n",
       "    }\n",
       "\n",
       "    .colab-df-convert:hover {\n",
       "      background-color: #E2EBFA;\n",
       "      box-shadow: 0px 1px 2px rgba(60, 64, 67, 0.3), 0px 1px 3px 1px rgba(60, 64, 67, 0.15);\n",
       "      fill: #174EA6;\n",
       "    }\n",
       "\n",
       "    [theme=dark] .colab-df-convert {\n",
       "      background-color: #3B4455;\n",
       "      fill: #D2E3FC;\n",
       "    }\n",
       "\n",
       "    [theme=dark] .colab-df-convert:hover {\n",
       "      background-color: #434B5C;\n",
       "      box-shadow: 0px 1px 3px 1px rgba(0, 0, 0, 0.15);\n",
       "      filter: drop-shadow(0px 1px 2px rgba(0, 0, 0, 0.3));\n",
       "      fill: #FFFFFF;\n",
       "    }\n",
       "  </style>\n",
       "\n",
       "      <script>\n",
       "        const buttonEl =\n",
       "          document.querySelector('#df-970fb350-f23d-4bfb-a638-b1a2e8882bfc button.colab-df-convert');\n",
       "        buttonEl.style.display =\n",
       "          google.colab.kernel.accessAllowed ? 'block' : 'none';\n",
       "\n",
       "        async function convertToInteractive(key) {\n",
       "          const element = document.querySelector('#df-970fb350-f23d-4bfb-a638-b1a2e8882bfc');\n",
       "          const dataTable =\n",
       "            await google.colab.kernel.invokeFunction('convertToInteractive',\n",
       "                                                     [key], {});\n",
       "          if (!dataTable) return;\n",
       "\n",
       "          const docLinkHtml = 'Like what you see? Visit the ' +\n",
       "            '<a target=\"_blank\" href=https://colab.research.google.com/notebooks/data_table.ipynb>data table notebook</a>'\n",
       "            + ' to learn more about interactive tables.';\n",
       "          element.innerHTML = '';\n",
       "          dataTable['output_type'] = 'display_data';\n",
       "          await google.colab.output.renderOutput(dataTable, element);\n",
       "          const docLink = document.createElement('div');\n",
       "          docLink.innerHTML = docLinkHtml;\n",
       "          element.appendChild(docLink);\n",
       "        }\n",
       "      </script>\n",
       "    </div>\n",
       "  </div>\n",
       "  "
      ],
      "text/plain": [
       "       tripduration  start station id  start station latitude  \\\n",
       "count  1.924563e+06      1.924563e+06            1.924563e+06   \n",
       "mean   1.067189e+03      1.671397e+03            4.073698e+01   \n",
       "std    1.254636e+04      1.473509e+03            3.062224e-02   \n",
       "min    6.100000e+01      7.200000e+01            4.065540e+01   \n",
       "25%    3.790000e+02      3.820000e+02            4.071740e+01   \n",
       "50%    6.530000e+02      5.160000e+02            4.073726e+01   \n",
       "75%    1.158000e+03      3.293000e+03            4.075757e+01   \n",
       "max    2.922656e+06      3.790000e+03            4.081439e+01   \n",
       "\n",
       "       start station longitude  end station id  end station latitude  \\\n",
       "count             1.924563e+06    1.924563e+06          1.924563e+06   \n",
       "mean             -7.398223e+01    1.664596e+03          4.073675e+01   \n",
       "std               1.970116e-02    1.473196e+03          3.048823e-02   \n",
       "min              -7.402535e+01    7.200000e+01          4.065540e+01   \n",
       "25%              -7.399595e+01    3.800000e+02          4.071723e+01   \n",
       "50%              -7.398518e+01    5.150000e+02          4.073705e+01   \n",
       "75%              -7.397121e+01    3.292000e+03          4.075715e+01   \n",
       "max              -7.390774e+01    3.790000e+03          4.081439e+01   \n",
       "\n",
       "       end station longitude        bikeid    birth year        gender  \n",
       "count           1.924563e+06  1.924563e+06  1.924563e+06  1.924563e+06  \n",
       "mean           -7.398248e+01  2.712861e+04  1.979833e+03  1.152992e+00  \n",
       "std             1.976340e-02  6.404188e+03  1.199213e+01  5.516776e-01  \n",
       "min            -7.406860e+01  1.452900e+04  1.885000e+03  0.000000e+00  \n",
       "25%            -7.399601e+01  2.082600e+04  1.969000e+03  1.000000e+00  \n",
       "50%            -7.398584e+01  2.878200e+04  1.982000e+03  1.000000e+00  \n",
       "75%            -7.397152e+01  3.257600e+04  1.990000e+03  1.000000e+00  \n",
       "max            -7.390774e+01  3.800200e+04  2.003000e+03  2.000000e+00  "
      ]
     },
     "execution_count": 132,
     "metadata": {},
     "output_type": "execute_result"
    }
   ],
   "source": [
    "cbMay19.describe()"
   ]
  },
  {
   "cell_type": "code",
   "execution_count": 133,
   "metadata": {
    "colab": {
     "base_uri": "https://localhost:8080/"
    },
    "id": "dqg07sA5fFXK",
    "outputId": "b0327758-22f5-4c33-9d45-454da6cb7d21"
   },
   "outputs": [
    {
     "data": {
      "text/plain": [
       "(1924563, 15)"
      ]
     },
     "execution_count": 133,
     "metadata": {},
     "output_type": "execute_result"
    }
   ],
   "source": [
    "cbMay19.shape"
   ]
  },
  {
   "cell_type": "code",
   "execution_count": 134,
   "metadata": {
    "colab": {
     "base_uri": "https://localhost:8080/"
    },
    "id": "2bSCtcELXAYB",
    "outputId": "b285e387-bb9e-460c-fc67-3f1a00a9e58d"
   },
   "outputs": [
    {
     "name": "stdout",
     "output_type": "stream",
     "text": [
      "The cbMay19 dataframe has the following dimensions (1924563, 15)\n"
     ]
    }
   ],
   "source": [
    "print(\"The cbMay19 dataframe has the following dimensions \"+ format(cbMay19.shape))"
   ]
  },
  {
   "cell_type": "code",
   "execution_count": 135,
   "metadata": {
    "colab": {
     "base_uri": "https://localhost:8080/"
    },
    "id": "JPAEIVvw5L4q",
    "outputId": "063993c7-7921-49b8-8921-6cbd5ff070f6"
   },
   "outputs": [
    {
     "data": {
      "text/plain": [
       "<bound method NDFrame.head of          tripduration                 starttime                  stoptime  \\\n",
       "0                 139  2019-05-01 00:00:01.9010  2019-05-01 00:02:21.5170   \n",
       "1                 754  2019-05-01 00:00:03.0210  2019-05-01 00:12:37.6920   \n",
       "2                2308  2019-05-01 00:00:04.6270  2019-05-01 00:38:33.1710   \n",
       "3                 143  2019-05-01 00:00:19.3340  2019-05-01 00:02:42.5200   \n",
       "4                 138  2019-05-01 00:00:22.1840  2019-05-01 00:02:40.6480   \n",
       "...               ...                       ...                       ...   \n",
       "1924558           304  2019-05-31 23:59:45.5760  2019-06-01 00:04:50.4620   \n",
       "1924559           324  2019-05-31 23:59:46.4650  2019-06-01 00:05:11.1630   \n",
       "1924560          1926  2019-05-31 23:59:51.5060  2019-06-01 00:31:58.3920   \n",
       "1924561          2047  2019-05-31 23:59:52.4170  2019-06-01 00:34:00.1970   \n",
       "1924562           964  2019-05-31 23:59:55.5500  2019-06-01 00:15:59.8680   \n",
       "\n",
       "         start station id         start station name  start station latitude  \\\n",
       "0                     447            8 Ave & W 52 St               40.763707   \n",
       "1                    3258           W 27 St & 10 Ave               40.750182   \n",
       "2                    3093       N 6 St & Bedford Ave               40.717452   \n",
       "3                    3486  Schermerhorn St & Bond St               40.688417   \n",
       "4                     388           W 26 St & 10 Ave               40.749718   \n",
       "...                   ...                        ...                     ...   \n",
       "1924558              3175    W 70 St & Amsterdam Ave               40.777480   \n",
       "1924559              2003            1 Ave & E 18 St               40.733812   \n",
       "1924560               146       Hudson St & Reade St               40.716250   \n",
       "1924561              3658            W 18 St & 9 Ave               40.743534   \n",
       "1924562               285         Broadway & E 14 St               40.734546   \n",
       "\n",
       "         start station longitude  end station id            end station name  \\\n",
       "0                     -73.985162             423             W 54 St & 9 Ave   \n",
       "1                     -74.002184            3255             8 Ave & W 31 St   \n",
       "2                     -73.958509            3676  Van Brunt St & Van Dyke St   \n",
       "3                     -73.984517            3412      Pacific St & Nevins St   \n",
       "4                     -74.002950             494             W 26 St & 8 Ave   \n",
       "...                          ...             ...                         ...   \n",
       "1924558               -73.982886             423             W 54 St & 9 Ave   \n",
       "1924559               -73.980544             536             1 Ave & E 30 St   \n",
       "1924560               -74.009106             422            W 59 St & 10 Ave   \n",
       "1924561               -74.003676            2008       Little West St & 1 Pl   \n",
       "1924562               -73.990741            3656           E 2 St & Avenue A   \n",
       "\n",
       "         end station latitude  end station longitude  bikeid    usertype  \\\n",
       "0                   40.765849             -73.986905   31170  Subscriber   \n",
       "1                   40.750585             -73.994685   25560    Customer   \n",
       "2                   40.675833             -74.014726   33369  Subscriber   \n",
       "3                   40.685376             -73.983021   32041  Subscriber   \n",
       "4                   40.747348             -73.997236   35237  Subscriber   \n",
       "...                       ...                    ...     ...         ...   \n",
       "1924558             40.765849             -73.986905   32285  Subscriber   \n",
       "1924559             40.741444             -73.975361   33874  Subscriber   \n",
       "1924560             40.770513             -73.988038   33395  Subscriber   \n",
       "1924561             40.705693             -74.016777   27624  Subscriber   \n",
       "1924562             40.723077             -73.985836   32565  Subscriber   \n",
       "\n",
       "         birth year  gender  \n",
       "0              1983       1  \n",
       "1              1969       0  \n",
       "2              1978       1  \n",
       "3              1997       1  \n",
       "4              1967       1  \n",
       "...             ...     ...  \n",
       "1924558        1987       2  \n",
       "1924559        1994       2  \n",
       "1924560        1985       1  \n",
       "1924561        1987       0  \n",
       "1924562        1992       2  \n",
       "\n",
       "[1924563 rows x 15 columns]>"
      ]
     },
     "execution_count": 135,
     "metadata": {},
     "output_type": "execute_result"
    }
   ],
   "source": [
    "cbMay19.head"
   ]
  },
  {
   "cell_type": "code",
   "execution_count": 136,
   "metadata": {
    "colab": {
     "base_uri": "https://localhost:8080/"
    },
    "id": "e6xVq73J5S1Q",
    "outputId": "be4c3f98-b9ca-4fb0-b268-9f6007424b80"
   },
   "outputs": [
    {
     "data": {
      "text/plain": [
       "<bound method NDFrame.tail of          tripduration                 starttime                  stoptime  \\\n",
       "0                 139  2019-05-01 00:00:01.9010  2019-05-01 00:02:21.5170   \n",
       "1                 754  2019-05-01 00:00:03.0210  2019-05-01 00:12:37.6920   \n",
       "2                2308  2019-05-01 00:00:04.6270  2019-05-01 00:38:33.1710   \n",
       "3                 143  2019-05-01 00:00:19.3340  2019-05-01 00:02:42.5200   \n",
       "4                 138  2019-05-01 00:00:22.1840  2019-05-01 00:02:40.6480   \n",
       "...               ...                       ...                       ...   \n",
       "1924558           304  2019-05-31 23:59:45.5760  2019-06-01 00:04:50.4620   \n",
       "1924559           324  2019-05-31 23:59:46.4650  2019-06-01 00:05:11.1630   \n",
       "1924560          1926  2019-05-31 23:59:51.5060  2019-06-01 00:31:58.3920   \n",
       "1924561          2047  2019-05-31 23:59:52.4170  2019-06-01 00:34:00.1970   \n",
       "1924562           964  2019-05-31 23:59:55.5500  2019-06-01 00:15:59.8680   \n",
       "\n",
       "         start station id         start station name  start station latitude  \\\n",
       "0                     447            8 Ave & W 52 St               40.763707   \n",
       "1                    3258           W 27 St & 10 Ave               40.750182   \n",
       "2                    3093       N 6 St & Bedford Ave               40.717452   \n",
       "3                    3486  Schermerhorn St & Bond St               40.688417   \n",
       "4                     388           W 26 St & 10 Ave               40.749718   \n",
       "...                   ...                        ...                     ...   \n",
       "1924558              3175    W 70 St & Amsterdam Ave               40.777480   \n",
       "1924559              2003            1 Ave & E 18 St               40.733812   \n",
       "1924560               146       Hudson St & Reade St               40.716250   \n",
       "1924561              3658            W 18 St & 9 Ave               40.743534   \n",
       "1924562               285         Broadway & E 14 St               40.734546   \n",
       "\n",
       "         start station longitude  end station id            end station name  \\\n",
       "0                     -73.985162             423             W 54 St & 9 Ave   \n",
       "1                     -74.002184            3255             8 Ave & W 31 St   \n",
       "2                     -73.958509            3676  Van Brunt St & Van Dyke St   \n",
       "3                     -73.984517            3412      Pacific St & Nevins St   \n",
       "4                     -74.002950             494             W 26 St & 8 Ave   \n",
       "...                          ...             ...                         ...   \n",
       "1924558               -73.982886             423             W 54 St & 9 Ave   \n",
       "1924559               -73.980544             536             1 Ave & E 30 St   \n",
       "1924560               -74.009106             422            W 59 St & 10 Ave   \n",
       "1924561               -74.003676            2008       Little West St & 1 Pl   \n",
       "1924562               -73.990741            3656           E 2 St & Avenue A   \n",
       "\n",
       "         end station latitude  end station longitude  bikeid    usertype  \\\n",
       "0                   40.765849             -73.986905   31170  Subscriber   \n",
       "1                   40.750585             -73.994685   25560    Customer   \n",
       "2                   40.675833             -74.014726   33369  Subscriber   \n",
       "3                   40.685376             -73.983021   32041  Subscriber   \n",
       "4                   40.747348             -73.997236   35237  Subscriber   \n",
       "...                       ...                    ...     ...         ...   \n",
       "1924558             40.765849             -73.986905   32285  Subscriber   \n",
       "1924559             40.741444             -73.975361   33874  Subscriber   \n",
       "1924560             40.770513             -73.988038   33395  Subscriber   \n",
       "1924561             40.705693             -74.016777   27624  Subscriber   \n",
       "1924562             40.723077             -73.985836   32565  Subscriber   \n",
       "\n",
       "         birth year  gender  \n",
       "0              1983       1  \n",
       "1              1969       0  \n",
       "2              1978       1  \n",
       "3              1997       1  \n",
       "4              1967       1  \n",
       "...             ...     ...  \n",
       "1924558        1987       2  \n",
       "1924559        1994       2  \n",
       "1924560        1985       1  \n",
       "1924561        1987       0  \n",
       "1924562        1992       2  \n",
       "\n",
       "[1924563 rows x 15 columns]>"
      ]
     },
     "execution_count": 136,
     "metadata": {},
     "output_type": "execute_result"
    }
   ],
   "source": [
    "cbMay19.tail"
   ]
  },
  {
   "cell_type": "markdown",
   "metadata": {},
   "source": [
    "# <mark>WFF</mark> You did all of the technically correct things when exploring this data, but the way you did it makes it really hard to actually analyse. It is printing out in a way that is difficult to read, so in the future it may be important for you to actually."
   ]
  },
  {
   "cell_type": "code",
   "execution_count": 137,
   "metadata": {
    "colab": {
     "base_uri": "https://localhost:8080/",
     "height": 835
    },
    "id": "EpgbtDIV5Zrz",
    "outputId": "1dcb6137-31d0-4843-b53a-392594b3ca1e"
   },
   "outputs": [
    {
     "data": {
      "text/html": [
       "\n",
       "  <div id=\"df-ee8f9820-0b85-4ec1-8703-caa4e04dce9c\">\n",
       "    <div class=\"colab-df-container\">\n",
       "      <div>\n",
       "<style scoped>\n",
       "    .dataframe tbody tr th:only-of-type {\n",
       "        vertical-align: middle;\n",
       "    }\n",
       "\n",
       "    .dataframe tbody tr th {\n",
       "        vertical-align: top;\n",
       "    }\n",
       "\n",
       "    .dataframe thead th {\n",
       "        text-align: right;\n",
       "    }\n",
       "</style>\n",
       "<table border=\"1\" class=\"dataframe\">\n",
       "  <thead>\n",
       "    <tr style=\"text-align: right;\">\n",
       "      <th></th>\n",
       "      <th>tripduration</th>\n",
       "      <th>starttime</th>\n",
       "      <th>stoptime</th>\n",
       "      <th>start station id</th>\n",
       "      <th>start station name</th>\n",
       "      <th>start station latitude</th>\n",
       "      <th>start station longitude</th>\n",
       "      <th>end station id</th>\n",
       "      <th>end station name</th>\n",
       "      <th>end station latitude</th>\n",
       "      <th>end station longitude</th>\n",
       "      <th>bikeid</th>\n",
       "      <th>usertype</th>\n",
       "      <th>birth year</th>\n",
       "      <th>gender</th>\n",
       "    </tr>\n",
       "  </thead>\n",
       "  <tbody>\n",
       "    <tr>\n",
       "      <th>0</th>\n",
       "      <td>139</td>\n",
       "      <td>2019-05-01 00:00:01.9010</td>\n",
       "      <td>2019-05-01 00:02:21.5170</td>\n",
       "      <td>447</td>\n",
       "      <td>8 Ave &amp; W 52 St</td>\n",
       "      <td>40.763707</td>\n",
       "      <td>-73.985162</td>\n",
       "      <td>423</td>\n",
       "      <td>W 54 St &amp; 9 Ave</td>\n",
       "      <td>40.765849</td>\n",
       "      <td>-73.986905</td>\n",
       "      <td>31170</td>\n",
       "      <td>Subscriber</td>\n",
       "      <td>1983</td>\n",
       "      <td>1</td>\n",
       "    </tr>\n",
       "    <tr>\n",
       "      <th>1</th>\n",
       "      <td>754</td>\n",
       "      <td>2019-05-01 00:00:03.0210</td>\n",
       "      <td>2019-05-01 00:12:37.6920</td>\n",
       "      <td>3258</td>\n",
       "      <td>W 27 St &amp; 10 Ave</td>\n",
       "      <td>40.750182</td>\n",
       "      <td>-74.002184</td>\n",
       "      <td>3255</td>\n",
       "      <td>8 Ave &amp; W 31 St</td>\n",
       "      <td>40.750585</td>\n",
       "      <td>-73.994685</td>\n",
       "      <td>25560</td>\n",
       "      <td>Customer</td>\n",
       "      <td>1969</td>\n",
       "      <td>0</td>\n",
       "    </tr>\n",
       "    <tr>\n",
       "      <th>2</th>\n",
       "      <td>2308</td>\n",
       "      <td>2019-05-01 00:00:04.6270</td>\n",
       "      <td>2019-05-01 00:38:33.1710</td>\n",
       "      <td>3093</td>\n",
       "      <td>N 6 St &amp; Bedford Ave</td>\n",
       "      <td>40.717452</td>\n",
       "      <td>-73.958509</td>\n",
       "      <td>3676</td>\n",
       "      <td>Van Brunt St &amp; Van Dyke St</td>\n",
       "      <td>40.675833</td>\n",
       "      <td>-74.014726</td>\n",
       "      <td>33369</td>\n",
       "      <td>Subscriber</td>\n",
       "      <td>1978</td>\n",
       "      <td>1</td>\n",
       "    </tr>\n",
       "    <tr>\n",
       "      <th>3</th>\n",
       "      <td>143</td>\n",
       "      <td>2019-05-01 00:00:19.3340</td>\n",
       "      <td>2019-05-01 00:02:42.5200</td>\n",
       "      <td>3486</td>\n",
       "      <td>Schermerhorn St &amp; Bond St</td>\n",
       "      <td>40.688417</td>\n",
       "      <td>-73.984517</td>\n",
       "      <td>3412</td>\n",
       "      <td>Pacific St &amp; Nevins St</td>\n",
       "      <td>40.685376</td>\n",
       "      <td>-73.983021</td>\n",
       "      <td>32041</td>\n",
       "      <td>Subscriber</td>\n",
       "      <td>1997</td>\n",
       "      <td>1</td>\n",
       "    </tr>\n",
       "    <tr>\n",
       "      <th>4</th>\n",
       "      <td>138</td>\n",
       "      <td>2019-05-01 00:00:22.1840</td>\n",
       "      <td>2019-05-01 00:02:40.6480</td>\n",
       "      <td>388</td>\n",
       "      <td>W 26 St &amp; 10 Ave</td>\n",
       "      <td>40.749718</td>\n",
       "      <td>-74.002950</td>\n",
       "      <td>494</td>\n",
       "      <td>W 26 St &amp; 8 Ave</td>\n",
       "      <td>40.747348</td>\n",
       "      <td>-73.997236</td>\n",
       "      <td>35237</td>\n",
       "      <td>Subscriber</td>\n",
       "      <td>1967</td>\n",
       "      <td>1</td>\n",
       "    </tr>\n",
       "    <tr>\n",
       "      <th>...</th>\n",
       "      <td>...</td>\n",
       "      <td>...</td>\n",
       "      <td>...</td>\n",
       "      <td>...</td>\n",
       "      <td>...</td>\n",
       "      <td>...</td>\n",
       "      <td>...</td>\n",
       "      <td>...</td>\n",
       "      <td>...</td>\n",
       "      <td>...</td>\n",
       "      <td>...</td>\n",
       "      <td>...</td>\n",
       "      <td>...</td>\n",
       "      <td>...</td>\n",
       "      <td>...</td>\n",
       "    </tr>\n",
       "    <tr>\n",
       "      <th>1924558</th>\n",
       "      <td>304</td>\n",
       "      <td>2019-05-31 23:59:45.5760</td>\n",
       "      <td>2019-06-01 00:04:50.4620</td>\n",
       "      <td>3175</td>\n",
       "      <td>W 70 St &amp; Amsterdam Ave</td>\n",
       "      <td>40.777480</td>\n",
       "      <td>-73.982886</td>\n",
       "      <td>423</td>\n",
       "      <td>W 54 St &amp; 9 Ave</td>\n",
       "      <td>40.765849</td>\n",
       "      <td>-73.986905</td>\n",
       "      <td>32285</td>\n",
       "      <td>Subscriber</td>\n",
       "      <td>1987</td>\n",
       "      <td>2</td>\n",
       "    </tr>\n",
       "    <tr>\n",
       "      <th>1924559</th>\n",
       "      <td>324</td>\n",
       "      <td>2019-05-31 23:59:46.4650</td>\n",
       "      <td>2019-06-01 00:05:11.1630</td>\n",
       "      <td>2003</td>\n",
       "      <td>1 Ave &amp; E 18 St</td>\n",
       "      <td>40.733812</td>\n",
       "      <td>-73.980544</td>\n",
       "      <td>536</td>\n",
       "      <td>1 Ave &amp; E 30 St</td>\n",
       "      <td>40.741444</td>\n",
       "      <td>-73.975361</td>\n",
       "      <td>33874</td>\n",
       "      <td>Subscriber</td>\n",
       "      <td>1994</td>\n",
       "      <td>2</td>\n",
       "    </tr>\n",
       "    <tr>\n",
       "      <th>1924560</th>\n",
       "      <td>1926</td>\n",
       "      <td>2019-05-31 23:59:51.5060</td>\n",
       "      <td>2019-06-01 00:31:58.3920</td>\n",
       "      <td>146</td>\n",
       "      <td>Hudson St &amp; Reade St</td>\n",
       "      <td>40.716250</td>\n",
       "      <td>-74.009106</td>\n",
       "      <td>422</td>\n",
       "      <td>W 59 St &amp; 10 Ave</td>\n",
       "      <td>40.770513</td>\n",
       "      <td>-73.988038</td>\n",
       "      <td>33395</td>\n",
       "      <td>Subscriber</td>\n",
       "      <td>1985</td>\n",
       "      <td>1</td>\n",
       "    </tr>\n",
       "    <tr>\n",
       "      <th>1924561</th>\n",
       "      <td>2047</td>\n",
       "      <td>2019-05-31 23:59:52.4170</td>\n",
       "      <td>2019-06-01 00:34:00.1970</td>\n",
       "      <td>3658</td>\n",
       "      <td>W 18 St &amp; 9 Ave</td>\n",
       "      <td>40.743534</td>\n",
       "      <td>-74.003676</td>\n",
       "      <td>2008</td>\n",
       "      <td>Little West St &amp; 1 Pl</td>\n",
       "      <td>40.705693</td>\n",
       "      <td>-74.016777</td>\n",
       "      <td>27624</td>\n",
       "      <td>Subscriber</td>\n",
       "      <td>1987</td>\n",
       "      <td>0</td>\n",
       "    </tr>\n",
       "    <tr>\n",
       "      <th>1924562</th>\n",
       "      <td>964</td>\n",
       "      <td>2019-05-31 23:59:55.5500</td>\n",
       "      <td>2019-06-01 00:15:59.8680</td>\n",
       "      <td>285</td>\n",
       "      <td>Broadway &amp; E 14 St</td>\n",
       "      <td>40.734546</td>\n",
       "      <td>-73.990741</td>\n",
       "      <td>3656</td>\n",
       "      <td>E 2 St &amp; Avenue A</td>\n",
       "      <td>40.723077</td>\n",
       "      <td>-73.985836</td>\n",
       "      <td>32565</td>\n",
       "      <td>Subscriber</td>\n",
       "      <td>1992</td>\n",
       "      <td>2</td>\n",
       "    </tr>\n",
       "  </tbody>\n",
       "</table>\n",
       "<p>1924563 rows × 15 columns</p>\n",
       "</div>\n",
       "      <button class=\"colab-df-convert\" onclick=\"convertToInteractive('df-ee8f9820-0b85-4ec1-8703-caa4e04dce9c')\"\n",
       "              title=\"Convert this dataframe to an interactive table.\"\n",
       "              style=\"display:none;\">\n",
       "        \n",
       "  <svg xmlns=\"http://www.w3.org/2000/svg\" height=\"24px\"viewBox=\"0 0 24 24\"\n",
       "       width=\"24px\">\n",
       "    <path d=\"M0 0h24v24H0V0z\" fill=\"none\"/>\n",
       "    <path d=\"M18.56 5.44l.94 2.06.94-2.06 2.06-.94-2.06-.94-.94-2.06-.94 2.06-2.06.94zm-11 1L8.5 8.5l.94-2.06 2.06-.94-2.06-.94L8.5 2.5l-.94 2.06-2.06.94zm10 10l.94 2.06.94-2.06 2.06-.94-2.06-.94-.94-2.06-.94 2.06-2.06.94z\"/><path d=\"M17.41 7.96l-1.37-1.37c-.4-.4-.92-.59-1.43-.59-.52 0-1.04.2-1.43.59L10.3 9.45l-7.72 7.72c-.78.78-.78 2.05 0 2.83L4 21.41c.39.39.9.59 1.41.59.51 0 1.02-.2 1.41-.59l7.78-7.78 2.81-2.81c.8-.78.8-2.07 0-2.86zM5.41 20L4 18.59l7.72-7.72 1.47 1.35L5.41 20z\"/>\n",
       "  </svg>\n",
       "      </button>\n",
       "      \n",
       "  <style>\n",
       "    .colab-df-container {\n",
       "      display:flex;\n",
       "      flex-wrap:wrap;\n",
       "      gap: 12px;\n",
       "    }\n",
       "\n",
       "    .colab-df-convert {\n",
       "      background-color: #E8F0FE;\n",
       "      border: none;\n",
       "      border-radius: 50%;\n",
       "      cursor: pointer;\n",
       "      display: none;\n",
       "      fill: #1967D2;\n",
       "      height: 32px;\n",
       "      padding: 0 0 0 0;\n",
       "      width: 32px;\n",
       "    }\n",
       "\n",
       "    .colab-df-convert:hover {\n",
       "      background-color: #E2EBFA;\n",
       "      box-shadow: 0px 1px 2px rgba(60, 64, 67, 0.3), 0px 1px 3px 1px rgba(60, 64, 67, 0.15);\n",
       "      fill: #174EA6;\n",
       "    }\n",
       "\n",
       "    [theme=dark] .colab-df-convert {\n",
       "      background-color: #3B4455;\n",
       "      fill: #D2E3FC;\n",
       "    }\n",
       "\n",
       "    [theme=dark] .colab-df-convert:hover {\n",
       "      background-color: #434B5C;\n",
       "      box-shadow: 0px 1px 3px 1px rgba(0, 0, 0, 0.15);\n",
       "      filter: drop-shadow(0px 1px 2px rgba(0, 0, 0, 0.3));\n",
       "      fill: #FFFFFF;\n",
       "    }\n",
       "  </style>\n",
       "\n",
       "      <script>\n",
       "        const buttonEl =\n",
       "          document.querySelector('#df-ee8f9820-0b85-4ec1-8703-caa4e04dce9c button.colab-df-convert');\n",
       "        buttonEl.style.display =\n",
       "          google.colab.kernel.accessAllowed ? 'block' : 'none';\n",
       "\n",
       "        async function convertToInteractive(key) {\n",
       "          const element = document.querySelector('#df-ee8f9820-0b85-4ec1-8703-caa4e04dce9c');\n",
       "          const dataTable =\n",
       "            await google.colab.kernel.invokeFunction('convertToInteractive',\n",
       "                                                     [key], {});\n",
       "          if (!dataTable) return;\n",
       "\n",
       "          const docLinkHtml = 'Like what you see? Visit the ' +\n",
       "            '<a target=\"_blank\" href=https://colab.research.google.com/notebooks/data_table.ipynb>data table notebook</a>'\n",
       "            + ' to learn more about interactive tables.';\n",
       "          element.innerHTML = '';\n",
       "          dataTable['output_type'] = 'display_data';\n",
       "          await google.colab.output.renderOutput(dataTable, element);\n",
       "          const docLink = document.createElement('div');\n",
       "          docLink.innerHTML = docLinkHtml;\n",
       "          element.appendChild(docLink);\n",
       "        }\n",
       "      </script>\n",
       "    </div>\n",
       "  </div>\n",
       "  "
      ],
      "text/plain": [
       "         tripduration                 starttime                  stoptime  \\\n",
       "0                 139  2019-05-01 00:00:01.9010  2019-05-01 00:02:21.5170   \n",
       "1                 754  2019-05-01 00:00:03.0210  2019-05-01 00:12:37.6920   \n",
       "2                2308  2019-05-01 00:00:04.6270  2019-05-01 00:38:33.1710   \n",
       "3                 143  2019-05-01 00:00:19.3340  2019-05-01 00:02:42.5200   \n",
       "4                 138  2019-05-01 00:00:22.1840  2019-05-01 00:02:40.6480   \n",
       "...               ...                       ...                       ...   \n",
       "1924558           304  2019-05-31 23:59:45.5760  2019-06-01 00:04:50.4620   \n",
       "1924559           324  2019-05-31 23:59:46.4650  2019-06-01 00:05:11.1630   \n",
       "1924560          1926  2019-05-31 23:59:51.5060  2019-06-01 00:31:58.3920   \n",
       "1924561          2047  2019-05-31 23:59:52.4170  2019-06-01 00:34:00.1970   \n",
       "1924562           964  2019-05-31 23:59:55.5500  2019-06-01 00:15:59.8680   \n",
       "\n",
       "         start station id         start station name  start station latitude  \\\n",
       "0                     447            8 Ave & W 52 St               40.763707   \n",
       "1                    3258           W 27 St & 10 Ave               40.750182   \n",
       "2                    3093       N 6 St & Bedford Ave               40.717452   \n",
       "3                    3486  Schermerhorn St & Bond St               40.688417   \n",
       "4                     388           W 26 St & 10 Ave               40.749718   \n",
       "...                   ...                        ...                     ...   \n",
       "1924558              3175    W 70 St & Amsterdam Ave               40.777480   \n",
       "1924559              2003            1 Ave & E 18 St               40.733812   \n",
       "1924560               146       Hudson St & Reade St               40.716250   \n",
       "1924561              3658            W 18 St & 9 Ave               40.743534   \n",
       "1924562               285         Broadway & E 14 St               40.734546   \n",
       "\n",
       "         start station longitude  end station id            end station name  \\\n",
       "0                     -73.985162             423             W 54 St & 9 Ave   \n",
       "1                     -74.002184            3255             8 Ave & W 31 St   \n",
       "2                     -73.958509            3676  Van Brunt St & Van Dyke St   \n",
       "3                     -73.984517            3412      Pacific St & Nevins St   \n",
       "4                     -74.002950             494             W 26 St & 8 Ave   \n",
       "...                          ...             ...                         ...   \n",
       "1924558               -73.982886             423             W 54 St & 9 Ave   \n",
       "1924559               -73.980544             536             1 Ave & E 30 St   \n",
       "1924560               -74.009106             422            W 59 St & 10 Ave   \n",
       "1924561               -74.003676            2008       Little West St & 1 Pl   \n",
       "1924562               -73.990741            3656           E 2 St & Avenue A   \n",
       "\n",
       "         end station latitude  end station longitude  bikeid    usertype  \\\n",
       "0                   40.765849             -73.986905   31170  Subscriber   \n",
       "1                   40.750585             -73.994685   25560    Customer   \n",
       "2                   40.675833             -74.014726   33369  Subscriber   \n",
       "3                   40.685376             -73.983021   32041  Subscriber   \n",
       "4                   40.747348             -73.997236   35237  Subscriber   \n",
       "...                       ...                    ...     ...         ...   \n",
       "1924558             40.765849             -73.986905   32285  Subscriber   \n",
       "1924559             40.741444             -73.975361   33874  Subscriber   \n",
       "1924560             40.770513             -73.988038   33395  Subscriber   \n",
       "1924561             40.705693             -74.016777   27624  Subscriber   \n",
       "1924562             40.723077             -73.985836   32565  Subscriber   \n",
       "\n",
       "         birth year  gender  \n",
       "0              1983       1  \n",
       "1              1969       0  \n",
       "2              1978       1  \n",
       "3              1997       1  \n",
       "4              1967       1  \n",
       "...             ...     ...  \n",
       "1924558        1987       2  \n",
       "1924559        1994       2  \n",
       "1924560        1985       1  \n",
       "1924561        1987       0  \n",
       "1924562        1992       2  \n",
       "\n",
       "[1924563 rows x 15 columns]"
      ]
     },
     "execution_count": 137,
     "metadata": {},
     "output_type": "execute_result"
    }
   ],
   "source": [
    "columns = cbMay19\n",
    "columns"
   ]
  },
  {
   "cell_type": "markdown",
   "metadata": {},
   "source": [
    "# <mark>WFF</mark> You called this variable columns but it does not contain the columns."
   ]
  },
  {
   "cell_type": "code",
   "execution_count": 138,
   "metadata": {
    "colab": {
     "base_uri": "https://localhost:8080/",
     "height": 800
    },
    "id": "iZGU_hogFWRr",
    "outputId": "42128003-350f-4ed2-fc20-ced5ce7d796b"
   },
   "outputs": [
    {
     "data": {
      "text/html": [
       "\n",
       "  <div id=\"df-01e3bf2b-af9b-420b-9e66-4726956759d2\">\n",
       "    <div class=\"colab-df-container\">\n",
       "      <div>\n",
       "<style scoped>\n",
       "    .dataframe tbody tr th:only-of-type {\n",
       "        vertical-align: middle;\n",
       "    }\n",
       "\n",
       "    .dataframe tbody tr th {\n",
       "        vertical-align: top;\n",
       "    }\n",
       "\n",
       "    .dataframe thead th {\n",
       "        text-align: right;\n",
       "    }\n",
       "</style>\n",
       "<table border=\"1\" class=\"dataframe\">\n",
       "  <thead>\n",
       "    <tr style=\"text-align: right;\">\n",
       "      <th></th>\n",
       "      <th>tripduration</th>\n",
       "      <th>starttime</th>\n",
       "      <th>stoptime</th>\n",
       "      <th>start station id</th>\n",
       "      <th>start station name</th>\n",
       "      <th>start station latitude</th>\n",
       "      <th>start station longitude</th>\n",
       "      <th>end station id</th>\n",
       "      <th>end station name</th>\n",
       "      <th>end station latitude</th>\n",
       "      <th>end station longitude</th>\n",
       "      <th>bikeid</th>\n",
       "      <th>usertype</th>\n",
       "      <th>birth year</th>\n",
       "      <th>gender</th>\n",
       "    </tr>\n",
       "  </thead>\n",
       "  <tbody>\n",
       "    <tr>\n",
       "      <th>9</th>\n",
       "      <td>2733</td>\n",
       "      <td>2019-05-01 00:01:30.8120</td>\n",
       "      <td>2019-05-01 00:47:04.3080</td>\n",
       "      <td>3630</td>\n",
       "      <td>Frederick Douglass Blvd &amp; W 115 St</td>\n",
       "      <td>40.803865</td>\n",
       "      <td>-73.955931</td>\n",
       "      <td>3628</td>\n",
       "      <td>Lenox Ave &amp; W 117 St</td>\n",
       "      <td>40.802557</td>\n",
       "      <td>-73.949078</td>\n",
       "      <td>33792</td>\n",
       "      <td>Subscriber</td>\n",
       "      <td>1985</td>\n",
       "      <td>2</td>\n",
       "    </tr>\n",
       "    <tr>\n",
       "      <th>10</th>\n",
       "      <td>236</td>\n",
       "      <td>2019-05-01 00:01:36.4020</td>\n",
       "      <td>2019-05-01 00:05:33.1980</td>\n",
       "      <td>3232</td>\n",
       "      <td>Bond St &amp; Fulton St</td>\n",
       "      <td>40.689622</td>\n",
       "      <td>-73.983043</td>\n",
       "      <td>3411</td>\n",
       "      <td>Bond St &amp; Bergen St</td>\n",
       "      <td>40.684967</td>\n",
       "      <td>-73.986208</td>\n",
       "      <td>34411</td>\n",
       "      <td>Subscriber</td>\n",
       "      <td>1957</td>\n",
       "      <td>2</td>\n",
       "    </tr>\n",
       "    <tr>\n",
       "      <th>12</th>\n",
       "      <td>536</td>\n",
       "      <td>2019-05-01 00:01:44.6580</td>\n",
       "      <td>2019-05-01 00:10:41.3390</td>\n",
       "      <td>243</td>\n",
       "      <td>Fulton St &amp; Rockwell Pl</td>\n",
       "      <td>40.688410</td>\n",
       "      <td>-73.979458</td>\n",
       "      <td>397</td>\n",
       "      <td>Fulton St &amp; Clermont Ave</td>\n",
       "      <td>40.684157</td>\n",
       "      <td>-73.969223</td>\n",
       "      <td>30962</td>\n",
       "      <td>Subscriber</td>\n",
       "      <td>1974</td>\n",
       "      <td>2</td>\n",
       "    </tr>\n",
       "    <tr>\n",
       "      <th>20</th>\n",
       "      <td>290</td>\n",
       "      <td>2019-05-01 00:02:27.8000</td>\n",
       "      <td>2019-05-01 00:07:18.1110</td>\n",
       "      <td>346</td>\n",
       "      <td>Bank St &amp; Hudson St</td>\n",
       "      <td>40.736529</td>\n",
       "      <td>-74.006180</td>\n",
       "      <td>168</td>\n",
       "      <td>W 18 St &amp; 6 Ave</td>\n",
       "      <td>40.739713</td>\n",
       "      <td>-73.994564</td>\n",
       "      <td>30209</td>\n",
       "      <td>Subscriber</td>\n",
       "      <td>1984</td>\n",
       "      <td>2</td>\n",
       "    </tr>\n",
       "    <tr>\n",
       "      <th>22</th>\n",
       "      <td>553</td>\n",
       "      <td>2019-05-01 00:02:37.0480</td>\n",
       "      <td>2019-05-01 00:11:50.9870</td>\n",
       "      <td>448</td>\n",
       "      <td>W 37 St &amp; 10 Ave</td>\n",
       "      <td>40.756604</td>\n",
       "      <td>-73.997901</td>\n",
       "      <td>485</td>\n",
       "      <td>W 37 St &amp; 5 Ave</td>\n",
       "      <td>40.750380</td>\n",
       "      <td>-73.983390</td>\n",
       "      <td>21028</td>\n",
       "      <td>Subscriber</td>\n",
       "      <td>1989</td>\n",
       "      <td>2</td>\n",
       "    </tr>\n",
       "    <tr>\n",
       "      <th>...</th>\n",
       "      <td>...</td>\n",
       "      <td>...</td>\n",
       "      <td>...</td>\n",
       "      <td>...</td>\n",
       "      <td>...</td>\n",
       "      <td>...</td>\n",
       "      <td>...</td>\n",
       "      <td>...</td>\n",
       "      <td>...</td>\n",
       "      <td>...</td>\n",
       "      <td>...</td>\n",
       "      <td>...</td>\n",
       "      <td>...</td>\n",
       "      <td>...</td>\n",
       "      <td>...</td>\n",
       "    </tr>\n",
       "    <tr>\n",
       "      <th>1924554</th>\n",
       "      <td>699</td>\n",
       "      <td>2019-05-31 23:59:40.5130</td>\n",
       "      <td>2019-06-01 00:11:20.1020</td>\n",
       "      <td>368</td>\n",
       "      <td>Carmine St &amp; 6 Ave</td>\n",
       "      <td>40.730386</td>\n",
       "      <td>-74.002150</td>\n",
       "      <td>470</td>\n",
       "      <td>W 20 St &amp; 8 Ave</td>\n",
       "      <td>40.743453</td>\n",
       "      <td>-74.000040</td>\n",
       "      <td>16373</td>\n",
       "      <td>Subscriber</td>\n",
       "      <td>1976</td>\n",
       "      <td>2</td>\n",
       "    </tr>\n",
       "    <tr>\n",
       "      <th>1924556</th>\n",
       "      <td>432</td>\n",
       "      <td>2019-05-31 23:59:42.1250</td>\n",
       "      <td>2019-06-01 00:06:54.9420</td>\n",
       "      <td>358</td>\n",
       "      <td>Christopher St &amp; Greenwich St</td>\n",
       "      <td>40.732916</td>\n",
       "      <td>-74.007114</td>\n",
       "      <td>405</td>\n",
       "      <td>Washington St &amp; Gansevoort St</td>\n",
       "      <td>40.739323</td>\n",
       "      <td>-74.008119</td>\n",
       "      <td>34352</td>\n",
       "      <td>Customer</td>\n",
       "      <td>1985</td>\n",
       "      <td>2</td>\n",
       "    </tr>\n",
       "    <tr>\n",
       "      <th>1924558</th>\n",
       "      <td>304</td>\n",
       "      <td>2019-05-31 23:59:45.5760</td>\n",
       "      <td>2019-06-01 00:04:50.4620</td>\n",
       "      <td>3175</td>\n",
       "      <td>W 70 St &amp; Amsterdam Ave</td>\n",
       "      <td>40.777480</td>\n",
       "      <td>-73.982886</td>\n",
       "      <td>423</td>\n",
       "      <td>W 54 St &amp; 9 Ave</td>\n",
       "      <td>40.765849</td>\n",
       "      <td>-73.986905</td>\n",
       "      <td>32285</td>\n",
       "      <td>Subscriber</td>\n",
       "      <td>1987</td>\n",
       "      <td>2</td>\n",
       "    </tr>\n",
       "    <tr>\n",
       "      <th>1924559</th>\n",
       "      <td>324</td>\n",
       "      <td>2019-05-31 23:59:46.4650</td>\n",
       "      <td>2019-06-01 00:05:11.1630</td>\n",
       "      <td>2003</td>\n",
       "      <td>1 Ave &amp; E 18 St</td>\n",
       "      <td>40.733812</td>\n",
       "      <td>-73.980544</td>\n",
       "      <td>536</td>\n",
       "      <td>1 Ave &amp; E 30 St</td>\n",
       "      <td>40.741444</td>\n",
       "      <td>-73.975361</td>\n",
       "      <td>33874</td>\n",
       "      <td>Subscriber</td>\n",
       "      <td>1994</td>\n",
       "      <td>2</td>\n",
       "    </tr>\n",
       "    <tr>\n",
       "      <th>1924562</th>\n",
       "      <td>964</td>\n",
       "      <td>2019-05-31 23:59:55.5500</td>\n",
       "      <td>2019-06-01 00:15:59.8680</td>\n",
       "      <td>285</td>\n",
       "      <td>Broadway &amp; E 14 St</td>\n",
       "      <td>40.734546</td>\n",
       "      <td>-73.990741</td>\n",
       "      <td>3656</td>\n",
       "      <td>E 2 St &amp; Avenue A</td>\n",
       "      <td>40.723077</td>\n",
       "      <td>-73.985836</td>\n",
       "      <td>32565</td>\n",
       "      <td>Subscriber</td>\n",
       "      <td>1992</td>\n",
       "      <td>2</td>\n",
       "    </tr>\n",
       "  </tbody>\n",
       "</table>\n",
       "<p>462613 rows × 15 columns</p>\n",
       "</div>\n",
       "      <button class=\"colab-df-convert\" onclick=\"convertToInteractive('df-01e3bf2b-af9b-420b-9e66-4726956759d2')\"\n",
       "              title=\"Convert this dataframe to an interactive table.\"\n",
       "              style=\"display:none;\">\n",
       "        \n",
       "  <svg xmlns=\"http://www.w3.org/2000/svg\" height=\"24px\"viewBox=\"0 0 24 24\"\n",
       "       width=\"24px\">\n",
       "    <path d=\"M0 0h24v24H0V0z\" fill=\"none\"/>\n",
       "    <path d=\"M18.56 5.44l.94 2.06.94-2.06 2.06-.94-2.06-.94-.94-2.06-.94 2.06-2.06.94zm-11 1L8.5 8.5l.94-2.06 2.06-.94-2.06-.94L8.5 2.5l-.94 2.06-2.06.94zm10 10l.94 2.06.94-2.06 2.06-.94-2.06-.94-.94-2.06-.94 2.06-2.06.94z\"/><path d=\"M17.41 7.96l-1.37-1.37c-.4-.4-.92-.59-1.43-.59-.52 0-1.04.2-1.43.59L10.3 9.45l-7.72 7.72c-.78.78-.78 2.05 0 2.83L4 21.41c.39.39.9.59 1.41.59.51 0 1.02-.2 1.41-.59l7.78-7.78 2.81-2.81c.8-.78.8-2.07 0-2.86zM5.41 20L4 18.59l7.72-7.72 1.47 1.35L5.41 20z\"/>\n",
       "  </svg>\n",
       "      </button>\n",
       "      \n",
       "  <style>\n",
       "    .colab-df-container {\n",
       "      display:flex;\n",
       "      flex-wrap:wrap;\n",
       "      gap: 12px;\n",
       "    }\n",
       "\n",
       "    .colab-df-convert {\n",
       "      background-color: #E8F0FE;\n",
       "      border: none;\n",
       "      border-radius: 50%;\n",
       "      cursor: pointer;\n",
       "      display: none;\n",
       "      fill: #1967D2;\n",
       "      height: 32px;\n",
       "      padding: 0 0 0 0;\n",
       "      width: 32px;\n",
       "    }\n",
       "\n",
       "    .colab-df-convert:hover {\n",
       "      background-color: #E2EBFA;\n",
       "      box-shadow: 0px 1px 2px rgba(60, 64, 67, 0.3), 0px 1px 3px 1px rgba(60, 64, 67, 0.15);\n",
       "      fill: #174EA6;\n",
       "    }\n",
       "\n",
       "    [theme=dark] .colab-df-convert {\n",
       "      background-color: #3B4455;\n",
       "      fill: #D2E3FC;\n",
       "    }\n",
       "\n",
       "    [theme=dark] .colab-df-convert:hover {\n",
       "      background-color: #434B5C;\n",
       "      box-shadow: 0px 1px 3px 1px rgba(0, 0, 0, 0.15);\n",
       "      filter: drop-shadow(0px 1px 2px rgba(0, 0, 0, 0.3));\n",
       "      fill: #FFFFFF;\n",
       "    }\n",
       "  </style>\n",
       "\n",
       "      <script>\n",
       "        const buttonEl =\n",
       "          document.querySelector('#df-01e3bf2b-af9b-420b-9e66-4726956759d2 button.colab-df-convert');\n",
       "        buttonEl.style.display =\n",
       "          google.colab.kernel.accessAllowed ? 'block' : 'none';\n",
       "\n",
       "        async function convertToInteractive(key) {\n",
       "          const element = document.querySelector('#df-01e3bf2b-af9b-420b-9e66-4726956759d2');\n",
       "          const dataTable =\n",
       "            await google.colab.kernel.invokeFunction('convertToInteractive',\n",
       "                                                     [key], {});\n",
       "          if (!dataTable) return;\n",
       "\n",
       "          const docLinkHtml = 'Like what you see? Visit the ' +\n",
       "            '<a target=\"_blank\" href=https://colab.research.google.com/notebooks/data_table.ipynb>data table notebook</a>'\n",
       "            + ' to learn more about interactive tables.';\n",
       "          element.innerHTML = '';\n",
       "          dataTable['output_type'] = 'display_data';\n",
       "          await google.colab.output.renderOutput(dataTable, element);\n",
       "          const docLink = document.createElement('div');\n",
       "          docLink.innerHTML = docLinkHtml;\n",
       "          element.appendChild(docLink);\n",
       "        }\n",
       "      </script>\n",
       "    </div>\n",
       "  </div>\n",
       "  "
      ],
      "text/plain": [
       "         tripduration                 starttime                  stoptime  \\\n",
       "9                2733  2019-05-01 00:01:30.8120  2019-05-01 00:47:04.3080   \n",
       "10                236  2019-05-01 00:01:36.4020  2019-05-01 00:05:33.1980   \n",
       "12                536  2019-05-01 00:01:44.6580  2019-05-01 00:10:41.3390   \n",
       "20                290  2019-05-01 00:02:27.8000  2019-05-01 00:07:18.1110   \n",
       "22                553  2019-05-01 00:02:37.0480  2019-05-01 00:11:50.9870   \n",
       "...               ...                       ...                       ...   \n",
       "1924554           699  2019-05-31 23:59:40.5130  2019-06-01 00:11:20.1020   \n",
       "1924556           432  2019-05-31 23:59:42.1250  2019-06-01 00:06:54.9420   \n",
       "1924558           304  2019-05-31 23:59:45.5760  2019-06-01 00:04:50.4620   \n",
       "1924559           324  2019-05-31 23:59:46.4650  2019-06-01 00:05:11.1630   \n",
       "1924562           964  2019-05-31 23:59:55.5500  2019-06-01 00:15:59.8680   \n",
       "\n",
       "         start station id                  start station name  \\\n",
       "9                    3630  Frederick Douglass Blvd & W 115 St   \n",
       "10                   3232                 Bond St & Fulton St   \n",
       "12                    243             Fulton St & Rockwell Pl   \n",
       "20                    346                 Bank St & Hudson St   \n",
       "22                    448                    W 37 St & 10 Ave   \n",
       "...                   ...                                 ...   \n",
       "1924554               368                  Carmine St & 6 Ave   \n",
       "1924556               358       Christopher St & Greenwich St   \n",
       "1924558              3175             W 70 St & Amsterdam Ave   \n",
       "1924559              2003                     1 Ave & E 18 St   \n",
       "1924562               285                  Broadway & E 14 St   \n",
       "\n",
       "         start station latitude  start station longitude  end station id  \\\n",
       "9                     40.803865               -73.955931            3628   \n",
       "10                    40.689622               -73.983043            3411   \n",
       "12                    40.688410               -73.979458             397   \n",
       "20                    40.736529               -74.006180             168   \n",
       "22                    40.756604               -73.997901             485   \n",
       "...                         ...                      ...             ...   \n",
       "1924554               40.730386               -74.002150             470   \n",
       "1924556               40.732916               -74.007114             405   \n",
       "1924558               40.777480               -73.982886             423   \n",
       "1924559               40.733812               -73.980544             536   \n",
       "1924562               40.734546               -73.990741            3656   \n",
       "\n",
       "                      end station name  end station latitude  \\\n",
       "9                 Lenox Ave & W 117 St             40.802557   \n",
       "10                 Bond St & Bergen St             40.684967   \n",
       "12            Fulton St & Clermont Ave             40.684157   \n",
       "20                     W 18 St & 6 Ave             40.739713   \n",
       "22                     W 37 St & 5 Ave             40.750380   \n",
       "...                                ...                   ...   \n",
       "1924554                W 20 St & 8 Ave             40.743453   \n",
       "1924556  Washington St & Gansevoort St             40.739323   \n",
       "1924558                W 54 St & 9 Ave             40.765849   \n",
       "1924559                1 Ave & E 30 St             40.741444   \n",
       "1924562              E 2 St & Avenue A             40.723077   \n",
       "\n",
       "         end station longitude  bikeid    usertype  birth year  gender  \n",
       "9                   -73.949078   33792  Subscriber        1985       2  \n",
       "10                  -73.986208   34411  Subscriber        1957       2  \n",
       "12                  -73.969223   30962  Subscriber        1974       2  \n",
       "20                  -73.994564   30209  Subscriber        1984       2  \n",
       "22                  -73.983390   21028  Subscriber        1989       2  \n",
       "...                        ...     ...         ...         ...     ...  \n",
       "1924554             -74.000040   16373  Subscriber        1976       2  \n",
       "1924556             -74.008119   34352    Customer        1985       2  \n",
       "1924558             -73.986905   32285  Subscriber        1987       2  \n",
       "1924559             -73.975361   33874  Subscriber        1994       2  \n",
       "1924562             -73.985836   32565  Subscriber        1992       2  \n",
       "\n",
       "[462613 rows x 15 columns]"
      ]
     },
     "execution_count": 138,
     "metadata": {},
     "output_type": "execute_result"
    }
   ],
   "source": [
    "tripdurationmax = cbMay19[cbMay19[\"gender\"] == cbMay19[\"gender\"].max()]\n",
    "tripdurationmax"
   ]
  },
  {
   "cell_type": "markdown",
   "metadata": {
    "id": "CS3tzONafwg0"
   },
   "source": [
    "You should have noticed the column gender: its encoded as a binary - 1 is for customers that identified as male, 2 for customers that identified as female. 0 is for non-binary and not registered genders"
   ]
  },
  {
   "cell_type": "markdown",
   "metadata": {
    "id": "VG0ywkiUBfXP"
   },
   "source": [
    "Because your variable of interest is \"tripduration\" explore this variable in some more detail. "
   ]
  },
  {
   "cell_type": "markdown",
   "metadata": {
    "id": "w72NVQw1BlQT"
   },
   "source": [
    "## Plot the trip duration distribution\n",
    "\n",
    "hint: when I say plot the distribution generally that means make a histogram\n"
   ]
  },
  {
   "cell_type": "markdown",
   "metadata": {
    "id": "k67tIw-hB9ea"
   },
   "source": [
    "Figure 1:. ..."
   ]
  },
  {
   "cell_type": "code",
   "execution_count": 139,
   "metadata": {
    "colab": {
     "base_uri": "https://localhost:8080/",
     "height": 289
    },
    "id": "3GAR8n_C5GHx",
    "outputId": "0e2ff604-ef3a-4b0c-d25a-9275f5ec4349"
   },
   "outputs": [
    {
     "data": {
      "image/png": "[encoded data removed]",
      "text/plain": [
       "<Figure size 432x288 with 1 Axes>"
      ]
     },
     "metadata": {
      "needs_background": "light"
     },
     "output_type": "display_data"
    }
   ],
   "source": [
    "plt.hist(cbMay19.tripduration);"
   ]
  },
  {
   "cell_type": "markdown",
   "metadata": {},
   "source": [
    "# <mark>WFF</mark> Missing figure captions here. Captions should be descriptive and explain the significance of the plot."
   ]
  },
  {
   "cell_type": "code",
   "execution_count": 139,
   "metadata": {
    "id": "myzuKkmEFjC_"
   },
   "outputs": [],
   "source": []
  },
  {
   "cell_type": "markdown",
   "metadata": {
    "id": "PJ05tSklhdtJ"
   },
   "source": [
    "there are some really large numbers... trips that last >1000000 minutes...  clearly this is a data curation issue. \n",
    "\n",
    "You need to clean the data by removing all data for which tripduration > 1 day (remember the duration is in minutes) and remake the plot\n",
    "\n",
    "\n",
    "You can do it by setting the condition \n",
    "\n",
    "```cbMay19[\"tripduration\"] < ...```\n",
    "\n",
    "and using this condition as an index\n",
    "\n",
    "```cbMay19_clean = cbMay19[cbMay19[\"tripduration\"]....```\n",
    "\n",
    "Remake the histogram, now the shape of the tripduration distribution should be much clearer"
   ]
  },
  {
   "cell_type": "code",
   "execution_count": 140,
   "metadata": {
    "id": "-kgSltXXCl6L"
   },
   "outputs": [],
   "source": [
    "cbMay19_clean = cbMay19[cbMay19[\"tripduration\"]<1440]"
   ]
  },
  {
   "cell_type": "markdown",
   "metadata": {
    "id": "4CWrVbvFCnmJ"
   },
   "source": [
    "Figure 2: ..."
   ]
  },
  {
   "cell_type": "code",
   "execution_count": 141,
   "metadata": {
    "colab": {
     "base_uri": "https://localhost:8080/",
     "height": 265
    },
    "id": "_Ngm-HDPLMtb",
    "outputId": "0e14d292-7b6c-4220-d66c-6f3563492ef9"
   },
   "outputs": [
    {
     "data": {
      "image/png": "[encoded data removed]",
      "text/plain": [
       "<Figure size 432x288 with 1 Axes>"
      ]
     },
     "metadata": {
      "needs_background": "light"
     },
     "output_type": "display_data"
    }
   ],
   "source": [
    "plt.hist(cbMay19_clean[\"tripduration\"]);"
   ]
  },
  {
   "cell_type": "markdown",
   "metadata": {},
   "source": [
    "# <mark>WFF</mark> Missing captions again"
   ]
  },
  {
   "cell_type": "markdown",
   "metadata": {
    "id": "MNdxEpGHc3Uy"
   },
   "source": [
    "# Data Wrangling \n",
    "\n",
    "Split the data into two dataframes by gender\n",
    "save the data corresponding to \"gender\" == 1 and the data corresponding to \"gender\" == 2 into two separate dataframes. Again you can do it by setting a condition on the column ```[\"gender\"]```"
   ]
  },
  {
   "cell_type": "code",
   "execution_count": 142,
   "metadata": {
    "colab": {
     "base_uri": "https://localhost:8080/"
    },
    "id": "_JAydQ9bGi1O",
    "outputId": "4174d38a-63a9-44b8-fd7f-3d9bdf154547"
   },
   "outputs": [
    {
     "data": {
      "text/plain": [
       "0          1\n",
       "1          0\n",
       "2          1\n",
       "3          1\n",
       "4          1\n",
       "          ..\n",
       "1924558    2\n",
       "1924559    2\n",
       "1924560    1\n",
       "1924561    0\n",
       "1924562    2\n",
       "Name: gender, Length: 1924563, dtype: int64"
      ]
     },
     "execution_count": 142,
     "metadata": {},
     "output_type": "execute_result"
    }
   ],
   "source": [
    "gender = cbMay19.gender\n",
    "gender"
   ]
  },
  {
   "cell_type": "code",
   "execution_count": 143,
   "metadata": {
    "id": "o2RkNEXQOEAV"
   },
   "outputs": [],
   "source": [
    "male = cbMay19_clean[cbMay19_clean['gender']==1]"
   ]
  },
  {
   "cell_type": "code",
   "execution_count": 144,
   "metadata": {
    "id": "yi7Phwl6OcEj"
   },
   "outputs": [],
   "source": [
    "female = cbMay19_clean[cbMay19_clean['gender']==2]"
   ]
  },
  {
   "cell_type": "markdown",
   "metadata": {
    "id": "UOnTTHS7hQry"
   },
   "source": [
    "Plotting the trip duration distributions for gender=1 and gender=2\n",
    "\n"
   ]
  },
  {
   "cell_type": "markdown",
   "metadata": {
    "id": "iKCrWQq0Dcs6"
   },
   "source": [
    "Figure 3:..."
   ]
  },
  {
   "cell_type": "code",
   "execution_count": 145,
   "metadata": {
    "colab": {
     "base_uri": "https://localhost:8080/",
     "height": 312
    },
    "id": "opjwo2PQhUM3",
    "outputId": "39d09edd-5e50-4154-db70-d1b3928515f4"
   },
   "outputs": [
    {
     "data": {
      "text/plain": [
       "Text(0, 0.5, 'Number of trips recorded')"
      ]
     },
     "execution_count": 145,
     "metadata": {},
     "output_type": "execute_result"
    },
    {
     "data": {
      "image/png": "[encoded data removed]",
      "text/plain": [
       "<Figure size 432x288 with 1 Axes>"
      ]
     },
     "metadata": {
      "needs_background": "light"
     },
     "output_type": "display_data"
    }
   ],
   "source": [
    "plt.hist(male['tripduration'])\n",
    "plt.hist(female['tripduration'])\n",
    "plt.title(\"Plot of number of trips recorded vs trip duration in minutes\")\n",
    "plt.xlabel(\"Trip duration in minutes\")\n",
    "plt.ylabel(\"Number of trips recorded\")"
   ]
  },
  {
   "cell_type": "markdown",
   "metadata": {
    "id": "vayb-uH1hbnc"
   },
   "source": [
    "The two histograms have different heights because the male category(blue colored bars) has more trips than the female category(orange colored bars)"
   ]
  },
  {
   "cell_type": "markdown",
   "metadata": {},
   "source": [
    "# <mark>WFF</mark> Missing captions"
   ]
  },
  {
   "cell_type": "markdown",
   "metadata": {
    "id": "4AA7Qgp02wLa"
   },
   "source": [
    "# Statistical analysis\n",
    "Run two statistical tests: the t-test and the KS-test. \n"
   ]
  },
  {
   "cell_type": "markdown",
   "metadata": {
    "id": "DaybiE919rsy"
   },
   "source": [
    "\n",
    "To answer the question more formally  test you can use the t-test. You can use the ```ttest_ind`` function in python ```scipy.stats.ttest_ind()``` passing the first sample for a and the other for b (ind stands for independent, i.e. the assumption is that the sample are independent samples)"
   ]
  },
  {
   "cell_type": "code",
   "execution_count": 146,
   "metadata": {
    "colab": {
     "base_uri": "https://localhost:8080/"
    },
    "id": "jmgUz1XH41q9",
    "outputId": "2206a924-fd1b-4098-8305-82d60709ae5d"
   },
   "outputs": [
    {
     "data": {
      "text/plain": [
       "Ttest_indResult(statistic=-100.84403665697793, pvalue=0.0)"
      ]
     },
     "execution_count": 146,
     "metadata": {},
     "output_type": "execute_result"
    }
   ],
   "source": [
    "# get the usage information for the function here or on the webpage of the function\n",
    "stats.ttest_ind(male['tripduration'], female['tripduration'])"
   ]
  },
  {
   "cell_type": "code",
   "execution_count": 147,
   "metadata": {
    "colab": {
     "base_uri": "https://localhost:8080/"
    },
    "id": "L64xiLnF3vuq",
    "outputId": "237f259f-3bb9-41c1-8e50-52a0383efc57"
   },
   "outputs": [
    {
     "data": {
      "text/plain": [
       "KstestResult(statistic=0.08422140452629323, pvalue=0.0)"
      ]
     },
     "execution_count": 147,
     "metadata": {},
     "output_type": "execute_result"
    }
   ],
   "source": [
    "stats.ks_2samp(male[\"tripduration\"], female[\"tripduration\"])"
   ]
  },
  {
   "cell_type": "markdown",
   "metadata": {
    "id": "EWHoC6yP929C"
   },
   "source": [
    "Pvalue of zero in both tests shows that we can reject the null hypothesis\n",
    "\n",
    "\n"
   ]
  },
  {
   "cell_type": "markdown",
   "metadata": {},
   "source": [
    "# <mark>WFF</mark> We are missing an explicit statement of your H0 and HA for your t-test. When you say that \"we can reject the null hypothesis\" you need to be more specific because the null hypothesis is different for the t-test (that the two means are the same) and for the ks-test (that the two samples come from the same distribution)."
   ]
  },
  {
   "cell_type": "markdown",
   "metadata": {
    "id": "p3A3h0AX3fyc"
   },
   "source": [
    "# Are the sample coming from the same parent distribution\n",
    "\n",
    "The next test answers the questions: do the samples come from the same generative process (or \"parent function\"). Often we write the hypothesis for this test more simple as \"are the distributions the same\"\n",
    "\n",
    "\n",
    "\n"
   ]
  },
  {
   "cell_type": "markdown",
   "metadata": {
    "id": "4AdnfZpA-E0Y"
   },
   "source": [
    "Write the NULL and Alternative hypothesis here"
   ]
  },
  {
   "cell_type": "markdown",
   "metadata": {
    "id": "Uej9-Fp4-I_M"
   },
   "source": [
    "Run the test ```stats.ks_2samp```"
   ]
  },
  {
   "cell_type": "code",
   "execution_count": 148,
   "metadata": {
    "colab": {
     "base_uri": "https://localhost:8080/"
    },
    "id": "rT58jrwfiWE0",
    "outputId": "19574a04-e43a-4fb1-9f23-5e244a2b45c6"
   },
   "outputs": [
    {
     "data": {
      "text/plain": [
       "KstestResult(statistic=0.08422140452629323, pvalue=0.0)"
      ]
     },
     "execution_count": 148,
     "metadata": {},
     "output_type": "execute_result"
    }
   ],
   "source": [
    "stats.ks_2samp(male[\"tripduration\"], female[\"tripduration\"])"
   ]
  },
  {
   "cell_type": "markdown",
   "metadata": {
    "id": "8SJCLvi_-OE1"
   },
   "source": [
    "In fact this test is very sensitive to differences in the mean of the sample. To use the test properly one should first normalize the data. That is: subtract the mean and divide by the standard deviation. This is how you would do it (my two clean samples for gender = 1 and gender = 2 are called cbMay19_m and cbMay19_f, yours will be possibly called differently)"
   ]
  },
  {
   "cell_type": "code",
   "execution_count": 149,
   "metadata": {
    "colab": {
     "base_uri": "https://localhost:8080/"
    },
    "id": "B6PxnXmjfPRo",
    "outputId": "f925a7ee-ff00-4bc5-f518-61c7ff04c394"
   },
   "outputs": [
    {
     "data": {
      "text/plain": [
       "588.2070911461445"
      ]
     },
     "execution_count": 149,
     "metadata": {},
     "output_type": "execute_result"
    }
   ],
   "source": [
    "male[\"tripduration\"].mean()"
   ]
  },
  {
   "cell_type": "code",
   "execution_count": 150,
   "metadata": {
    "colab": {
     "base_uri": "https://localhost:8080/"
    },
    "id": "wT8StdJJfATg",
    "outputId": "37e65fee-1dfa-405c-9c7c-084de792910b"
   },
   "outputs": [
    {
     "data": {
      "text/plain": [
       "652.1760137019039"
      ]
     },
     "execution_count": 150,
     "metadata": {},
     "output_type": "execute_result"
    }
   ],
   "source": [
    "female[\"tripduration\"].mean()"
   ]
  },
  {
   "cell_type": "code",
   "execution_count": 151,
   "metadata": {
    "id": "7M1cvMNi-XNH"
   },
   "outputs": [],
   "source": [
    "normed_female = (female[\"tripduration\"] - female[\"tripduration\"].mean()) / female[\"tripduration\"].std()\n",
    "normed_male = (male[\"tripduration\"] - male[\"tripduration\"].mean()) / male[\"tripduration\"].std()"
   ]
  },
  {
   "cell_type": "markdown",
   "metadata": {
    "id": "AYgiRMrA-7HD"
   },
   "source": [
    "rerun the test after normalizing, did the conclusion change?"
   ]
  },
  {
   "cell_type": "code",
   "execution_count": 152,
   "metadata": {
    "colab": {
     "base_uri": "https://localhost:8080/"
    },
    "id": "9jXluvjE-6mD",
    "outputId": "158b168e-721e-47d1-ed96-608836b3d8ad"
   },
   "outputs": [
    {
     "data": {
      "text/plain": [
       "KstestResult(statistic=0.08422140452629323, pvalue=0.0)"
      ]
     },
     "execution_count": 152,
     "metadata": {},
     "output_type": "execute_result"
    }
   ],
   "source": [
    "stats.ks_2samp(male[\"tripduration\"], female[\"tripduration\"])"
   ]
  },
  {
   "cell_type": "markdown",
   "metadata": {},
   "source": [
    "# <mark>WFF</mark> You did not end up using the normalized statistics for computing the ks-test this time."
   ]
  },
  {
   "cell_type": "markdown",
   "metadata": {
    "id": "ijrZL5o8gD_O"
   },
   "source": [
    "The conclusion remained unchanged"
   ]
  },
  {
   "cell_type": "markdown",
   "metadata": {
    "id": "1mi3yn645F7D"
   },
   "source": [
    "# Extra Credit : do the same for week days only and weekends only"
   ]
  },
  {
   "cell_type": "code",
   "execution_count": 153,
   "metadata": {
    "colab": {
     "base_uri": "https://localhost:8080/"
    },
    "id": "9rOLXJgg5Z9B",
    "outputId": "3e910b6d-ba81-45f3-da7d-6c41fc94f64d"
   },
   "outputs": [
    {
     "data": {
      "text/plain": [
       "0          2019-05-01 00:00:01.9010\n",
       "1          2019-05-01 00:00:03.0210\n",
       "3          2019-05-01 00:00:19.3340\n",
       "4          2019-05-01 00:00:22.1840\n",
       "6          2019-05-01 00:01:06.0520\n",
       "                     ...           \n",
       "1924555    2019-05-31 23:59:41.6790\n",
       "1924556    2019-05-31 23:59:42.1250\n",
       "1924558    2019-05-31 23:59:45.5760\n",
       "1924559    2019-05-31 23:59:46.4650\n",
       "1924562    2019-05-31 23:59:55.5500\n",
       "Name: starttime, Length: 1601848, dtype: object"
      ]
     },
     "execution_count": 153,
     "metadata": {},
     "output_type": "execute_result"
    }
   ],
   "source": [
    "cbMay19_clean[\"starttime\"]"
   ]
  },
  {
   "cell_type": "code",
   "execution_count": 154,
   "metadata": {
    "colab": {
     "base_uri": "https://localhost:8080/"
    },
    "id": "H77q8aL75qSk",
    "outputId": "66e38237-6015-4152-c1f7-d4f8dc0ae0c5"
   },
   "outputs": [
    {
     "name": "stderr",
     "output_type": "stream",
     "text": [
      "/usr/local/lib/python3.7/dist-packages/ipykernel_launcher.py:1: SettingWithCopyWarning: \n",
      "A value is trying to be set on a copy of a slice from a DataFrame.\n",
      "Try using .loc[row_indexer,col_indexer] = value instead\n",
      "\n",
      "See the caveats in the documentation: https://pandas.pydata.org/pandas-docs/stable/user_guide/indexing.html#returning-a-view-versus-a-copy\n",
      "  \"\"\"Entry point for launching an IPython kernel.\n"
     ]
    },
    {
     "data": {
      "text/plain": [
       "0         2019-05-01 00:00:01.901\n",
       "1         2019-05-01 00:00:03.021\n",
       "3         2019-05-01 00:00:19.334\n",
       "4         2019-05-01 00:00:22.184\n",
       "6         2019-05-01 00:01:06.052\n",
       "                    ...          \n",
       "1924555   2019-05-31 23:59:41.679\n",
       "1924556   2019-05-31 23:59:42.125\n",
       "1924558   2019-05-31 23:59:45.576\n",
       "1924559   2019-05-31 23:59:46.465\n",
       "1924562   2019-05-31 23:59:55.550\n",
       "Name: tripdate, Length: 1601848, dtype: datetime64[ns]"
      ]
     },
     "execution_count": 154,
     "metadata": {},
     "output_type": "execute_result"
    }
   ],
   "source": [
    "cbMay19_clean[\"tripdate\"] = pd.to_datetime(cbMay19_clean.starttime)\n",
    "cbMay19_clean[\"tripdate\"]"
   ]
  },
  {
   "cell_type": "code",
   "execution_count": 155,
   "metadata": {
    "colab": {
     "base_uri": "https://localhost:8080/",
     "height": 783
    },
    "id": "vkZZ2sjbhPOt",
    "outputId": "51333be2-93ff-44cf-bfdf-f86b479f8c6d"
   },
   "outputs": [
    {
     "data": {
      "text/html": [
       "\n",
       "  <div id=\"df-b042b9d1-fa34-461b-8f44-919447459331\">\n",
       "    <div class=\"colab-df-container\">\n",
       "      <div>\n",
       "<style scoped>\n",
       "    .dataframe tbody tr th:only-of-type {\n",
       "        vertical-align: middle;\n",
       "    }\n",
       "\n",
       "    .dataframe tbody tr th {\n",
       "        vertical-align: top;\n",
       "    }\n",
       "\n",
       "    .dataframe thead th {\n",
       "        text-align: right;\n",
       "    }\n",
       "</style>\n",
       "<table border=\"1\" class=\"dataframe\">\n",
       "  <thead>\n",
       "    <tr style=\"text-align: right;\">\n",
       "      <th></th>\n",
       "      <th>tripduration</th>\n",
       "      <th>starttime</th>\n",
       "      <th>stoptime</th>\n",
       "      <th>start station id</th>\n",
       "      <th>start station name</th>\n",
       "      <th>start station latitude</th>\n",
       "      <th>start station longitude</th>\n",
       "      <th>end station id</th>\n",
       "      <th>end station name</th>\n",
       "      <th>end station latitude</th>\n",
       "      <th>end station longitude</th>\n",
       "      <th>bikeid</th>\n",
       "      <th>usertype</th>\n",
       "      <th>birth year</th>\n",
       "      <th>gender</th>\n",
       "      <th>tripdate</th>\n",
       "    </tr>\n",
       "  </thead>\n",
       "  <tbody>\n",
       "    <tr>\n",
       "      <th>0</th>\n",
       "      <td>139</td>\n",
       "      <td>2019-05-01 00:00:01.9010</td>\n",
       "      <td>2019-05-01 00:02:21.5170</td>\n",
       "      <td>447</td>\n",
       "      <td>8 Ave &amp; W 52 St</td>\n",
       "      <td>40.763707</td>\n",
       "      <td>-73.985162</td>\n",
       "      <td>423</td>\n",
       "      <td>W 54 St &amp; 9 Ave</td>\n",
       "      <td>40.765849</td>\n",
       "      <td>-73.986905</td>\n",
       "      <td>31170</td>\n",
       "      <td>Subscriber</td>\n",
       "      <td>1983</td>\n",
       "      <td>1</td>\n",
       "      <td>2019-05-01 00:00:01.901</td>\n",
       "    </tr>\n",
       "    <tr>\n",
       "      <th>1</th>\n",
       "      <td>754</td>\n",
       "      <td>2019-05-01 00:00:03.0210</td>\n",
       "      <td>2019-05-01 00:12:37.6920</td>\n",
       "      <td>3258</td>\n",
       "      <td>W 27 St &amp; 10 Ave</td>\n",
       "      <td>40.750182</td>\n",
       "      <td>-74.002184</td>\n",
       "      <td>3255</td>\n",
       "      <td>8 Ave &amp; W 31 St</td>\n",
       "      <td>40.750585</td>\n",
       "      <td>-73.994685</td>\n",
       "      <td>25560</td>\n",
       "      <td>Customer</td>\n",
       "      <td>1969</td>\n",
       "      <td>0</td>\n",
       "      <td>2019-05-01 00:00:03.021</td>\n",
       "    </tr>\n",
       "    <tr>\n",
       "      <th>3</th>\n",
       "      <td>143</td>\n",
       "      <td>2019-05-01 00:00:19.3340</td>\n",
       "      <td>2019-05-01 00:02:42.5200</td>\n",
       "      <td>3486</td>\n",
       "      <td>Schermerhorn St &amp; Bond St</td>\n",
       "      <td>40.688417</td>\n",
       "      <td>-73.984517</td>\n",
       "      <td>3412</td>\n",
       "      <td>Pacific St &amp; Nevins St</td>\n",
       "      <td>40.685376</td>\n",
       "      <td>-73.983021</td>\n",
       "      <td>32041</td>\n",
       "      <td>Subscriber</td>\n",
       "      <td>1997</td>\n",
       "      <td>1</td>\n",
       "      <td>2019-05-01 00:00:19.334</td>\n",
       "    </tr>\n",
       "    <tr>\n",
       "      <th>4</th>\n",
       "      <td>138</td>\n",
       "      <td>2019-05-01 00:00:22.1840</td>\n",
       "      <td>2019-05-01 00:02:40.6480</td>\n",
       "      <td>388</td>\n",
       "      <td>W 26 St &amp; 10 Ave</td>\n",
       "      <td>40.749718</td>\n",
       "      <td>-74.002950</td>\n",
       "      <td>494</td>\n",
       "      <td>W 26 St &amp; 8 Ave</td>\n",
       "      <td>40.747348</td>\n",
       "      <td>-73.997236</td>\n",
       "      <td>35237</td>\n",
       "      <td>Subscriber</td>\n",
       "      <td>1967</td>\n",
       "      <td>1</td>\n",
       "      <td>2019-05-01 00:00:22.184</td>\n",
       "    </tr>\n",
       "    <tr>\n",
       "      <th>6</th>\n",
       "      <td>514</td>\n",
       "      <td>2019-05-01 00:01:06.0520</td>\n",
       "      <td>2019-05-01 00:09:40.1670</td>\n",
       "      <td>439</td>\n",
       "      <td>E 4 St &amp; 2 Ave</td>\n",
       "      <td>40.726281</td>\n",
       "      <td>-73.989780</td>\n",
       "      <td>336</td>\n",
       "      <td>Sullivan St &amp; Washington Sq</td>\n",
       "      <td>40.730477</td>\n",
       "      <td>-73.999061</td>\n",
       "      <td>15160</td>\n",
       "      <td>Subscriber</td>\n",
       "      <td>1988</td>\n",
       "      <td>1</td>\n",
       "      <td>2019-05-01 00:01:06.052</td>\n",
       "    </tr>\n",
       "    <tr>\n",
       "      <th>...</th>\n",
       "      <td>...</td>\n",
       "      <td>...</td>\n",
       "      <td>...</td>\n",
       "      <td>...</td>\n",
       "      <td>...</td>\n",
       "      <td>...</td>\n",
       "      <td>...</td>\n",
       "      <td>...</td>\n",
       "      <td>...</td>\n",
       "      <td>...</td>\n",
       "      <td>...</td>\n",
       "      <td>...</td>\n",
       "      <td>...</td>\n",
       "      <td>...</td>\n",
       "      <td>...</td>\n",
       "      <td>...</td>\n",
       "    </tr>\n",
       "    <tr>\n",
       "      <th>1924555</th>\n",
       "      <td>432</td>\n",
       "      <td>2019-05-31 23:59:41.6790</td>\n",
       "      <td>2019-06-01 00:06:54.2000</td>\n",
       "      <td>382</td>\n",
       "      <td>University Pl &amp; E 14 St</td>\n",
       "      <td>40.734927</td>\n",
       "      <td>-73.992005</td>\n",
       "      <td>507</td>\n",
       "      <td>E 25 St &amp; 2 Ave</td>\n",
       "      <td>40.739126</td>\n",
       "      <td>-73.979738</td>\n",
       "      <td>21562</td>\n",
       "      <td>Subscriber</td>\n",
       "      <td>1995</td>\n",
       "      <td>1</td>\n",
       "      <td>2019-05-31 23:59:41.679</td>\n",
       "    </tr>\n",
       "    <tr>\n",
       "      <th>1924556</th>\n",
       "      <td>432</td>\n",
       "      <td>2019-05-31 23:59:42.1250</td>\n",
       "      <td>2019-06-01 00:06:54.9420</td>\n",
       "      <td>358</td>\n",
       "      <td>Christopher St &amp; Greenwich St</td>\n",
       "      <td>40.732916</td>\n",
       "      <td>-74.007114</td>\n",
       "      <td>405</td>\n",
       "      <td>Washington St &amp; Gansevoort St</td>\n",
       "      <td>40.739323</td>\n",
       "      <td>-74.008119</td>\n",
       "      <td>34352</td>\n",
       "      <td>Customer</td>\n",
       "      <td>1985</td>\n",
       "      <td>2</td>\n",
       "      <td>2019-05-31 23:59:42.125</td>\n",
       "    </tr>\n",
       "    <tr>\n",
       "      <th>1924558</th>\n",
       "      <td>304</td>\n",
       "      <td>2019-05-31 23:59:45.5760</td>\n",
       "      <td>2019-06-01 00:04:50.4620</td>\n",
       "      <td>3175</td>\n",
       "      <td>W 70 St &amp; Amsterdam Ave</td>\n",
       "      <td>40.777480</td>\n",
       "      <td>-73.982886</td>\n",
       "      <td>423</td>\n",
       "      <td>W 54 St &amp; 9 Ave</td>\n",
       "      <td>40.765849</td>\n",
       "      <td>-73.986905</td>\n",
       "      <td>32285</td>\n",
       "      <td>Subscriber</td>\n",
       "      <td>1987</td>\n",
       "      <td>2</td>\n",
       "      <td>2019-05-31 23:59:45.576</td>\n",
       "    </tr>\n",
       "    <tr>\n",
       "      <th>1924559</th>\n",
       "      <td>324</td>\n",
       "      <td>2019-05-31 23:59:46.4650</td>\n",
       "      <td>2019-06-01 00:05:11.1630</td>\n",
       "      <td>2003</td>\n",
       "      <td>1 Ave &amp; E 18 St</td>\n",
       "      <td>40.733812</td>\n",
       "      <td>-73.980544</td>\n",
       "      <td>536</td>\n",
       "      <td>1 Ave &amp; E 30 St</td>\n",
       "      <td>40.741444</td>\n",
       "      <td>-73.975361</td>\n",
       "      <td>33874</td>\n",
       "      <td>Subscriber</td>\n",
       "      <td>1994</td>\n",
       "      <td>2</td>\n",
       "      <td>2019-05-31 23:59:46.465</td>\n",
       "    </tr>\n",
       "    <tr>\n",
       "      <th>1924562</th>\n",
       "      <td>964</td>\n",
       "      <td>2019-05-31 23:59:55.5500</td>\n",
       "      <td>2019-06-01 00:15:59.8680</td>\n",
       "      <td>285</td>\n",
       "      <td>Broadway &amp; E 14 St</td>\n",
       "      <td>40.734546</td>\n",
       "      <td>-73.990741</td>\n",
       "      <td>3656</td>\n",
       "      <td>E 2 St &amp; Avenue A</td>\n",
       "      <td>40.723077</td>\n",
       "      <td>-73.985836</td>\n",
       "      <td>32565</td>\n",
       "      <td>Subscriber</td>\n",
       "      <td>1992</td>\n",
       "      <td>2</td>\n",
       "      <td>2019-05-31 23:59:55.550</td>\n",
       "    </tr>\n",
       "  </tbody>\n",
       "</table>\n",
       "<p>1292882 rows × 16 columns</p>\n",
       "</div>\n",
       "      <button class=\"colab-df-convert\" onclick=\"convertToInteractive('df-b042b9d1-fa34-461b-8f44-919447459331')\"\n",
       "              title=\"Convert this dataframe to an interactive table.\"\n",
       "              style=\"display:none;\">\n",
       "        \n",
       "  <svg xmlns=\"http://www.w3.org/2000/svg\" height=\"24px\"viewBox=\"0 0 24 24\"\n",
       "       width=\"24px\">\n",
       "    <path d=\"M0 0h24v24H0V0z\" fill=\"none\"/>\n",
       "    <path d=\"M18.56 5.44l.94 2.06.94-2.06 2.06-.94-2.06-.94-.94-2.06-.94 2.06-2.06.94zm-11 1L8.5 8.5l.94-2.06 2.06-.94-2.06-.94L8.5 2.5l-.94 2.06-2.06.94zm10 10l.94 2.06.94-2.06 2.06-.94-2.06-.94-.94-2.06-.94 2.06-2.06.94z\"/><path d=\"M17.41 7.96l-1.37-1.37c-.4-.4-.92-.59-1.43-.59-.52 0-1.04.2-1.43.59L10.3 9.45l-7.72 7.72c-.78.78-.78 2.05 0 2.83L4 21.41c.39.39.9.59 1.41.59.51 0 1.02-.2 1.41-.59l7.78-7.78 2.81-2.81c.8-.78.8-2.07 0-2.86zM5.41 20L4 18.59l7.72-7.72 1.47 1.35L5.41 20z\"/>\n",
       "  </svg>\n",
       "      </button>\n",
       "      \n",
       "  <style>\n",
       "    .colab-df-container {\n",
       "      display:flex;\n",
       "      flex-wrap:wrap;\n",
       "      gap: 12px;\n",
       "    }\n",
       "\n",
       "    .colab-df-convert {\n",
       "      background-color: #E8F0FE;\n",
       "      border: none;\n",
       "      border-radius: 50%;\n",
       "      cursor: pointer;\n",
       "      display: none;\n",
       "      fill: #1967D2;\n",
       "      height: 32px;\n",
       "      padding: 0 0 0 0;\n",
       "      width: 32px;\n",
       "    }\n",
       "\n",
       "    .colab-df-convert:hover {\n",
       "      background-color: #E2EBFA;\n",
       "      box-shadow: 0px 1px 2px rgba(60, 64, 67, 0.3), 0px 1px 3px 1px rgba(60, 64, 67, 0.15);\n",
       "      fill: #174EA6;\n",
       "    }\n",
       "\n",
       "    [theme=dark] .colab-df-convert {\n",
       "      background-color: #3B4455;\n",
       "      fill: #D2E3FC;\n",
       "    }\n",
       "\n",
       "    [theme=dark] .colab-df-convert:hover {\n",
       "      background-color: #434B5C;\n",
       "      box-shadow: 0px 1px 3px 1px rgba(0, 0, 0, 0.15);\n",
       "      filter: drop-shadow(0px 1px 2px rgba(0, 0, 0, 0.3));\n",
       "      fill: #FFFFFF;\n",
       "    }\n",
       "  </style>\n",
       "\n",
       "      <script>\n",
       "        const buttonEl =\n",
       "          document.querySelector('#df-b042b9d1-fa34-461b-8f44-919447459331 button.colab-df-convert');\n",
       "        buttonEl.style.display =\n",
       "          google.colab.kernel.accessAllowed ? 'block' : 'none';\n",
       "\n",
       "        async function convertToInteractive(key) {\n",
       "          const element = document.querySelector('#df-b042b9d1-fa34-461b-8f44-919447459331');\n",
       "          const dataTable =\n",
       "            await google.colab.kernel.invokeFunction('convertToInteractive',\n",
       "                                                     [key], {});\n",
       "          if (!dataTable) return;\n",
       "\n",
       "          const docLinkHtml = 'Like what you see? Visit the ' +\n",
       "            '<a target=\"_blank\" href=https://colab.research.google.com/notebooks/data_table.ipynb>data table notebook</a>'\n",
       "            + ' to learn more about interactive tables.';\n",
       "          element.innerHTML = '';\n",
       "          dataTable['output_type'] = 'display_data';\n",
       "          await google.colab.output.renderOutput(dataTable, element);\n",
       "          const docLink = document.createElement('div');\n",
       "          docLink.innerHTML = docLinkHtml;\n",
       "          element.appendChild(docLink);\n",
       "        }\n",
       "      </script>\n",
       "    </div>\n",
       "  </div>\n",
       "  "
      ],
      "text/plain": [
       "         tripduration                 starttime                  stoptime  \\\n",
       "0                 139  2019-05-01 00:00:01.9010  2019-05-01 00:02:21.5170   \n",
       "1                 754  2019-05-01 00:00:03.0210  2019-05-01 00:12:37.6920   \n",
       "3                 143  2019-05-01 00:00:19.3340  2019-05-01 00:02:42.5200   \n",
       "4                 138  2019-05-01 00:00:22.1840  2019-05-01 00:02:40.6480   \n",
       "6                 514  2019-05-01 00:01:06.0520  2019-05-01 00:09:40.1670   \n",
       "...               ...                       ...                       ...   \n",
       "1924555           432  2019-05-31 23:59:41.6790  2019-06-01 00:06:54.2000   \n",
       "1924556           432  2019-05-31 23:59:42.1250  2019-06-01 00:06:54.9420   \n",
       "1924558           304  2019-05-31 23:59:45.5760  2019-06-01 00:04:50.4620   \n",
       "1924559           324  2019-05-31 23:59:46.4650  2019-06-01 00:05:11.1630   \n",
       "1924562           964  2019-05-31 23:59:55.5500  2019-06-01 00:15:59.8680   \n",
       "\n",
       "         start station id             start station name  \\\n",
       "0                     447                8 Ave & W 52 St   \n",
       "1                    3258               W 27 St & 10 Ave   \n",
       "3                    3486      Schermerhorn St & Bond St   \n",
       "4                     388               W 26 St & 10 Ave   \n",
       "6                     439                 E 4 St & 2 Ave   \n",
       "...                   ...                            ...   \n",
       "1924555               382        University Pl & E 14 St   \n",
       "1924556               358  Christopher St & Greenwich St   \n",
       "1924558              3175        W 70 St & Amsterdam Ave   \n",
       "1924559              2003                1 Ave & E 18 St   \n",
       "1924562               285             Broadway & E 14 St   \n",
       "\n",
       "         start station latitude  start station longitude  end station id  \\\n",
       "0                     40.763707               -73.985162             423   \n",
       "1                     40.750182               -74.002184            3255   \n",
       "3                     40.688417               -73.984517            3412   \n",
       "4                     40.749718               -74.002950             494   \n",
       "6                     40.726281               -73.989780             336   \n",
       "...                         ...                      ...             ...   \n",
       "1924555               40.734927               -73.992005             507   \n",
       "1924556               40.732916               -74.007114             405   \n",
       "1924558               40.777480               -73.982886             423   \n",
       "1924559               40.733812               -73.980544             536   \n",
       "1924562               40.734546               -73.990741            3656   \n",
       "\n",
       "                      end station name  end station latitude  \\\n",
       "0                      W 54 St & 9 Ave             40.765849   \n",
       "1                      8 Ave & W 31 St             40.750585   \n",
       "3               Pacific St & Nevins St             40.685376   \n",
       "4                      W 26 St & 8 Ave             40.747348   \n",
       "6          Sullivan St & Washington Sq             40.730477   \n",
       "...                                ...                   ...   \n",
       "1924555                E 25 St & 2 Ave             40.739126   \n",
       "1924556  Washington St & Gansevoort St             40.739323   \n",
       "1924558                W 54 St & 9 Ave             40.765849   \n",
       "1924559                1 Ave & E 30 St             40.741444   \n",
       "1924562              E 2 St & Avenue A             40.723077   \n",
       "\n",
       "         end station longitude  bikeid    usertype  birth year  gender  \\\n",
       "0                   -73.986905   31170  Subscriber        1983       1   \n",
       "1                   -73.994685   25560    Customer        1969       0   \n",
       "3                   -73.983021   32041  Subscriber        1997       1   \n",
       "4                   -73.997236   35237  Subscriber        1967       1   \n",
       "6                   -73.999061   15160  Subscriber        1988       1   \n",
       "...                        ...     ...         ...         ...     ...   \n",
       "1924555             -73.979738   21562  Subscriber        1995       1   \n",
       "1924556             -74.008119   34352    Customer        1985       2   \n",
       "1924558             -73.986905   32285  Subscriber        1987       2   \n",
       "1924559             -73.975361   33874  Subscriber        1994       2   \n",
       "1924562             -73.985836   32565  Subscriber        1992       2   \n",
       "\n",
       "                       tripdate  \n",
       "0       2019-05-01 00:00:01.901  \n",
       "1       2019-05-01 00:00:03.021  \n",
       "3       2019-05-01 00:00:19.334  \n",
       "4       2019-05-01 00:00:22.184  \n",
       "6       2019-05-01 00:01:06.052  \n",
       "...                         ...  \n",
       "1924555 2019-05-31 23:59:41.679  \n",
       "1924556 2019-05-31 23:59:42.125  \n",
       "1924558 2019-05-31 23:59:45.576  \n",
       "1924559 2019-05-31 23:59:46.465  \n",
       "1924562 2019-05-31 23:59:55.550  \n",
       "\n",
       "[1292882 rows x 16 columns]"
      ]
     },
     "execution_count": 155,
     "metadata": {},
     "output_type": "execute_result"
    }
   ],
   "source": [
    "cbMay19_weekdays = cbMay19_clean[cbMay19_clean[\"tripdate\"].dt.weekday < 5]\n",
    "cbMay19_weekdays"
   ]
  },
  {
   "cell_type": "code",
   "execution_count": 156,
   "metadata": {
    "colab": {
     "base_uri": "https://localhost:8080/",
     "height": 870
    },
    "id": "BdbxfLvhhwwA",
    "outputId": "c3abec32-31a8-4722-e829-86376a862635"
   },
   "outputs": [
    {
     "data": {
      "text/html": [
       "\n",
       "  <div id=\"df-325b4459-d8f0-4994-a107-b3af4ca38b86\">\n",
       "    <div class=\"colab-df-container\">\n",
       "      <div>\n",
       "<style scoped>\n",
       "    .dataframe tbody tr th:only-of-type {\n",
       "        vertical-align: middle;\n",
       "    }\n",
       "\n",
       "    .dataframe tbody tr th {\n",
       "        vertical-align: top;\n",
       "    }\n",
       "\n",
       "    .dataframe thead th {\n",
       "        text-align: right;\n",
       "    }\n",
       "</style>\n",
       "<table border=\"1\" class=\"dataframe\">\n",
       "  <thead>\n",
       "    <tr style=\"text-align: right;\">\n",
       "      <th></th>\n",
       "      <th>tripduration</th>\n",
       "      <th>starttime</th>\n",
       "      <th>stoptime</th>\n",
       "      <th>start station id</th>\n",
       "      <th>start station name</th>\n",
       "      <th>start station latitude</th>\n",
       "      <th>start station longitude</th>\n",
       "      <th>end station id</th>\n",
       "      <th>end station name</th>\n",
       "      <th>end station latitude</th>\n",
       "      <th>end station longitude</th>\n",
       "      <th>bikeid</th>\n",
       "      <th>usertype</th>\n",
       "      <th>birth year</th>\n",
       "      <th>gender</th>\n",
       "      <th>tripdate</th>\n",
       "    </tr>\n",
       "  </thead>\n",
       "  <tbody>\n",
       "    <tr>\n",
       "      <th>192003</th>\n",
       "      <td>426</td>\n",
       "      <td>2019-05-04 00:00:07.3100</td>\n",
       "      <td>2019-05-04 00:07:13.9450</td>\n",
       "      <td>3118</td>\n",
       "      <td>McGuinness Blvd &amp; Eagle St</td>\n",
       "      <td>40.735550</td>\n",
       "      <td>-73.952840</td>\n",
       "      <td>3668</td>\n",
       "      <td>Leonard St &amp; Nassau Ave</td>\n",
       "      <td>40.723957</td>\n",
       "      <td>-73.949844</td>\n",
       "      <td>17924</td>\n",
       "      <td>Subscriber</td>\n",
       "      <td>1980</td>\n",
       "      <td>1</td>\n",
       "      <td>2019-05-04 00:00:07.310</td>\n",
       "    </tr>\n",
       "    <tr>\n",
       "      <th>192004</th>\n",
       "      <td>778</td>\n",
       "      <td>2019-05-04 00:00:10.8690</td>\n",
       "      <td>2019-05-04 00:13:09.1860</td>\n",
       "      <td>3656</td>\n",
       "      <td>E 2 St &amp; Avenue A</td>\n",
       "      <td>40.723077</td>\n",
       "      <td>-73.985836</td>\n",
       "      <td>2012</td>\n",
       "      <td>E 27 St &amp; 1 Ave</td>\n",
       "      <td>40.739445</td>\n",
       "      <td>-73.976806</td>\n",
       "      <td>31269</td>\n",
       "      <td>Subscriber</td>\n",
       "      <td>1996</td>\n",
       "      <td>2</td>\n",
       "      <td>2019-05-04 00:00:10.869</td>\n",
       "    </tr>\n",
       "    <tr>\n",
       "      <th>192005</th>\n",
       "      <td>451</td>\n",
       "      <td>2019-05-04 00:00:15.6220</td>\n",
       "      <td>2019-05-04 00:07:47.0350</td>\n",
       "      <td>3087</td>\n",
       "      <td>Metropolitan Ave &amp; Meeker Ave</td>\n",
       "      <td>40.714133</td>\n",
       "      <td>-73.952344</td>\n",
       "      <td>3083</td>\n",
       "      <td>Bushwick Ave &amp; Powers St</td>\n",
       "      <td>40.712477</td>\n",
       "      <td>-73.941000</td>\n",
       "      <td>29921</td>\n",
       "      <td>Subscriber</td>\n",
       "      <td>1993</td>\n",
       "      <td>2</td>\n",
       "      <td>2019-05-04 00:00:15.622</td>\n",
       "    </tr>\n",
       "    <tr>\n",
       "      <th>192006</th>\n",
       "      <td>196</td>\n",
       "      <td>2019-05-04 00:00:20.7160</td>\n",
       "      <td>2019-05-04 00:03:37.0950</td>\n",
       "      <td>328</td>\n",
       "      <td>Watts St &amp; Greenwich St</td>\n",
       "      <td>40.724055</td>\n",
       "      <td>-74.009660</td>\n",
       "      <td>257</td>\n",
       "      <td>Lispenard St &amp; Broadway</td>\n",
       "      <td>40.719392</td>\n",
       "      <td>-74.002472</td>\n",
       "      <td>24996</td>\n",
       "      <td>Subscriber</td>\n",
       "      <td>1968</td>\n",
       "      <td>1</td>\n",
       "      <td>2019-05-04 00:00:20.716</td>\n",
       "    </tr>\n",
       "    <tr>\n",
       "      <th>192007</th>\n",
       "      <td>370</td>\n",
       "      <td>2019-05-04 00:00:21.0860</td>\n",
       "      <td>2019-05-04 00:06:31.8570</td>\n",
       "      <td>2003</td>\n",
       "      <td>1 Ave &amp; E 18 St</td>\n",
       "      <td>40.733812</td>\n",
       "      <td>-73.980544</td>\n",
       "      <td>445</td>\n",
       "      <td>E 10 St &amp; Avenue A</td>\n",
       "      <td>40.727408</td>\n",
       "      <td>-73.981420</td>\n",
       "      <td>30508</td>\n",
       "      <td>Subscriber</td>\n",
       "      <td>1994</td>\n",
       "      <td>1</td>\n",
       "      <td>2019-05-04 00:00:21.086</td>\n",
       "    </tr>\n",
       "    <tr>\n",
       "      <th>...</th>\n",
       "      <td>...</td>\n",
       "      <td>...</td>\n",
       "      <td>...</td>\n",
       "      <td>...</td>\n",
       "      <td>...</td>\n",
       "      <td>...</td>\n",
       "      <td>...</td>\n",
       "      <td>...</td>\n",
       "      <td>...</td>\n",
       "      <td>...</td>\n",
       "      <td>...</td>\n",
       "      <td>...</td>\n",
       "      <td>...</td>\n",
       "      <td>...</td>\n",
       "      <td>...</td>\n",
       "      <td>...</td>\n",
       "    </tr>\n",
       "    <tr>\n",
       "      <th>1607614</th>\n",
       "      <td>596</td>\n",
       "      <td>2019-05-26 23:59:44.4710</td>\n",
       "      <td>2019-05-27 00:09:41.3350</td>\n",
       "      <td>529</td>\n",
       "      <td>W 42 St &amp; 8 Ave</td>\n",
       "      <td>40.757570</td>\n",
       "      <td>-73.990985</td>\n",
       "      <td>456</td>\n",
       "      <td>E 53 St &amp; Madison Ave</td>\n",
       "      <td>40.759711</td>\n",
       "      <td>-73.974023</td>\n",
       "      <td>31658</td>\n",
       "      <td>Subscriber</td>\n",
       "      <td>1981</td>\n",
       "      <td>1</td>\n",
       "      <td>2019-05-26 23:59:44.471</td>\n",
       "    </tr>\n",
       "    <tr>\n",
       "      <th>1607615</th>\n",
       "      <td>115</td>\n",
       "      <td>2019-05-26 23:59:47.0730</td>\n",
       "      <td>2019-05-27 00:01:42.6020</td>\n",
       "      <td>3062</td>\n",
       "      <td>Myrtle Ave &amp; Marcy Ave</td>\n",
       "      <td>40.695398</td>\n",
       "      <td>-73.949549</td>\n",
       "      <td>3062</td>\n",
       "      <td>Myrtle Ave &amp; Marcy Ave</td>\n",
       "      <td>40.695398</td>\n",
       "      <td>-73.949549</td>\n",
       "      <td>24936</td>\n",
       "      <td>Customer</td>\n",
       "      <td>1969</td>\n",
       "      <td>0</td>\n",
       "      <td>2019-05-26 23:59:47.073</td>\n",
       "    </tr>\n",
       "    <tr>\n",
       "      <th>1607616</th>\n",
       "      <td>577</td>\n",
       "      <td>2019-05-26 23:59:48.0450</td>\n",
       "      <td>2019-05-27 00:09:25.2180</td>\n",
       "      <td>3078</td>\n",
       "      <td>Broadway &amp; Roebling St</td>\n",
       "      <td>40.709248</td>\n",
       "      <td>-73.960631</td>\n",
       "      <td>3092</td>\n",
       "      <td>Berry St &amp; N 8 St</td>\n",
       "      <td>40.719009</td>\n",
       "      <td>-73.958525</td>\n",
       "      <td>16657</td>\n",
       "      <td>Customer</td>\n",
       "      <td>1969</td>\n",
       "      <td>0</td>\n",
       "      <td>2019-05-26 23:59:48.045</td>\n",
       "    </tr>\n",
       "    <tr>\n",
       "      <th>1607617</th>\n",
       "      <td>628</td>\n",
       "      <td>2019-05-26 23:59:52.3010</td>\n",
       "      <td>2019-05-27 00:10:20.9620</td>\n",
       "      <td>3142</td>\n",
       "      <td>1 Ave &amp; E 62 St</td>\n",
       "      <td>40.761227</td>\n",
       "      <td>-73.960940</td>\n",
       "      <td>499</td>\n",
       "      <td>Broadway &amp; W 60 St</td>\n",
       "      <td>40.769155</td>\n",
       "      <td>-73.981918</td>\n",
       "      <td>14790</td>\n",
       "      <td>Subscriber</td>\n",
       "      <td>1988</td>\n",
       "      <td>1</td>\n",
       "      <td>2019-05-26 23:59:52.301</td>\n",
       "    </tr>\n",
       "    <tr>\n",
       "      <th>1607618</th>\n",
       "      <td>740</td>\n",
       "      <td>2019-05-26 23:59:59.2120</td>\n",
       "      <td>2019-05-27 00:12:19.6180</td>\n",
       "      <td>312</td>\n",
       "      <td>Allen St &amp; Stanton St</td>\n",
       "      <td>40.722055</td>\n",
       "      <td>-73.989111</td>\n",
       "      <td>417</td>\n",
       "      <td>Barclay St &amp; Church St</td>\n",
       "      <td>40.712912</td>\n",
       "      <td>-74.010202</td>\n",
       "      <td>34937</td>\n",
       "      <td>Customer</td>\n",
       "      <td>1969</td>\n",
       "      <td>0</td>\n",
       "      <td>2019-05-26 23:59:59.212</td>\n",
       "    </tr>\n",
       "  </tbody>\n",
       "</table>\n",
       "<p>308966 rows × 16 columns</p>\n",
       "</div>\n",
       "      <button class=\"colab-df-convert\" onclick=\"convertToInteractive('df-325b4459-d8f0-4994-a107-b3af4ca38b86')\"\n",
       "              title=\"Convert this dataframe to an interactive table.\"\n",
       "              style=\"display:none;\">\n",
       "        \n",
       "  <svg xmlns=\"http://www.w3.org/2000/svg\" height=\"24px\"viewBox=\"0 0 24 24\"\n",
       "       width=\"24px\">\n",
       "    <path d=\"M0 0h24v24H0V0z\" fill=\"none\"/>\n",
       "    <path d=\"M18.56 5.44l.94 2.06.94-2.06 2.06-.94-2.06-.94-.94-2.06-.94 2.06-2.06.94zm-11 1L8.5 8.5l.94-2.06 2.06-.94-2.06-.94L8.5 2.5l-.94 2.06-2.06.94zm10 10l.94 2.06.94-2.06 2.06-.94-2.06-.94-.94-2.06-.94 2.06-2.06.94z\"/><path d=\"M17.41 7.96l-1.37-1.37c-.4-.4-.92-.59-1.43-.59-.52 0-1.04.2-1.43.59L10.3 9.45l-7.72 7.72c-.78.78-.78 2.05 0 2.83L4 21.41c.39.39.9.59 1.41.59.51 0 1.02-.2 1.41-.59l7.78-7.78 2.81-2.81c.8-.78.8-2.07 0-2.86zM5.41 20L4 18.59l7.72-7.72 1.47 1.35L5.41 20z\"/>\n",
       "  </svg>\n",
       "      </button>\n",
       "      \n",
       "  <style>\n",
       "    .colab-df-container {\n",
       "      display:flex;\n",
       "      flex-wrap:wrap;\n",
       "      gap: 12px;\n",
       "    }\n",
       "\n",
       "    .colab-df-convert {\n",
       "      background-color: #E8F0FE;\n",
       "      border: none;\n",
       "      border-radius: 50%;\n",
       "      cursor: pointer;\n",
       "      display: none;\n",
       "      fill: #1967D2;\n",
       "      height: 32px;\n",
       "      padding: 0 0 0 0;\n",
       "      width: 32px;\n",
       "    }\n",
       "\n",
       "    .colab-df-convert:hover {\n",
       "      background-color: #E2EBFA;\n",
       "      box-shadow: 0px 1px 2px rgba(60, 64, 67, 0.3), 0px 1px 3px 1px rgba(60, 64, 67, 0.15);\n",
       "      fill: #174EA6;\n",
       "    }\n",
       "\n",
       "    [theme=dark] .colab-df-convert {\n",
       "      background-color: #3B4455;\n",
       "      fill: #D2E3FC;\n",
       "    }\n",
       "\n",
       "    [theme=dark] .colab-df-convert:hover {\n",
       "      background-color: #434B5C;\n",
       "      box-shadow: 0px 1px 3px 1px rgba(0, 0, 0, 0.15);\n",
       "      filter: drop-shadow(0px 1px 2px rgba(0, 0, 0, 0.3));\n",
       "      fill: #FFFFFF;\n",
       "    }\n",
       "  </style>\n",
       "\n",
       "      <script>\n",
       "        const buttonEl =\n",
       "          document.querySelector('#df-325b4459-d8f0-4994-a107-b3af4ca38b86 button.colab-df-convert');\n",
       "        buttonEl.style.display =\n",
       "          google.colab.kernel.accessAllowed ? 'block' : 'none';\n",
       "\n",
       "        async function convertToInteractive(key) {\n",
       "          const element = document.querySelector('#df-325b4459-d8f0-4994-a107-b3af4ca38b86');\n",
       "          const dataTable =\n",
       "            await google.colab.kernel.invokeFunction('convertToInteractive',\n",
       "                                                     [key], {});\n",
       "          if (!dataTable) return;\n",
       "\n",
       "          const docLinkHtml = 'Like what you see? Visit the ' +\n",
       "            '<a target=\"_blank\" href=https://colab.research.google.com/notebooks/data_table.ipynb>data table notebook</a>'\n",
       "            + ' to learn more about interactive tables.';\n",
       "          element.innerHTML = '';\n",
       "          dataTable['output_type'] = 'display_data';\n",
       "          await google.colab.output.renderOutput(dataTable, element);\n",
       "          const docLink = document.createElement('div');\n",
       "          docLink.innerHTML = docLinkHtml;\n",
       "          element.appendChild(docLink);\n",
       "        }\n",
       "      </script>\n",
       "    </div>\n",
       "  </div>\n",
       "  "
      ],
      "text/plain": [
       "         tripduration                 starttime                  stoptime  \\\n",
       "192003            426  2019-05-04 00:00:07.3100  2019-05-04 00:07:13.9450   \n",
       "192004            778  2019-05-04 00:00:10.8690  2019-05-04 00:13:09.1860   \n",
       "192005            451  2019-05-04 00:00:15.6220  2019-05-04 00:07:47.0350   \n",
       "192006            196  2019-05-04 00:00:20.7160  2019-05-04 00:03:37.0950   \n",
       "192007            370  2019-05-04 00:00:21.0860  2019-05-04 00:06:31.8570   \n",
       "...               ...                       ...                       ...   \n",
       "1607614           596  2019-05-26 23:59:44.4710  2019-05-27 00:09:41.3350   \n",
       "1607615           115  2019-05-26 23:59:47.0730  2019-05-27 00:01:42.6020   \n",
       "1607616           577  2019-05-26 23:59:48.0450  2019-05-27 00:09:25.2180   \n",
       "1607617           628  2019-05-26 23:59:52.3010  2019-05-27 00:10:20.9620   \n",
       "1607618           740  2019-05-26 23:59:59.2120  2019-05-27 00:12:19.6180   \n",
       "\n",
       "         start station id             start station name  \\\n",
       "192003               3118     McGuinness Blvd & Eagle St   \n",
       "192004               3656              E 2 St & Avenue A   \n",
       "192005               3087  Metropolitan Ave & Meeker Ave   \n",
       "192006                328        Watts St & Greenwich St   \n",
       "192007               2003                1 Ave & E 18 St   \n",
       "...                   ...                            ...   \n",
       "1607614               529                W 42 St & 8 Ave   \n",
       "1607615              3062         Myrtle Ave & Marcy Ave   \n",
       "1607616              3078         Broadway & Roebling St   \n",
       "1607617              3142                1 Ave & E 62 St   \n",
       "1607618               312          Allen St & Stanton St   \n",
       "\n",
       "         start station latitude  start station longitude  end station id  \\\n",
       "192003                40.735550               -73.952840            3668   \n",
       "192004                40.723077               -73.985836            2012   \n",
       "192005                40.714133               -73.952344            3083   \n",
       "192006                40.724055               -74.009660             257   \n",
       "192007                40.733812               -73.980544             445   \n",
       "...                         ...                      ...             ...   \n",
       "1607614               40.757570               -73.990985             456   \n",
       "1607615               40.695398               -73.949549            3062   \n",
       "1607616               40.709248               -73.960631            3092   \n",
       "1607617               40.761227               -73.960940             499   \n",
       "1607618               40.722055               -73.989111             417   \n",
       "\n",
       "                 end station name  end station latitude  \\\n",
       "192003    Leonard St & Nassau Ave             40.723957   \n",
       "192004            E 27 St & 1 Ave             40.739445   \n",
       "192005   Bushwick Ave & Powers St             40.712477   \n",
       "192006    Lispenard St & Broadway             40.719392   \n",
       "192007         E 10 St & Avenue A             40.727408   \n",
       "...                           ...                   ...   \n",
       "1607614     E 53 St & Madison Ave             40.759711   \n",
       "1607615    Myrtle Ave & Marcy Ave             40.695398   \n",
       "1607616         Berry St & N 8 St             40.719009   \n",
       "1607617        Broadway & W 60 St             40.769155   \n",
       "1607618    Barclay St & Church St             40.712912   \n",
       "\n",
       "         end station longitude  bikeid    usertype  birth year  gender  \\\n",
       "192003              -73.949844   17924  Subscriber        1980       1   \n",
       "192004              -73.976806   31269  Subscriber        1996       2   \n",
       "192005              -73.941000   29921  Subscriber        1993       2   \n",
       "192006              -74.002472   24996  Subscriber        1968       1   \n",
       "192007              -73.981420   30508  Subscriber        1994       1   \n",
       "...                        ...     ...         ...         ...     ...   \n",
       "1607614             -73.974023   31658  Subscriber        1981       1   \n",
       "1607615             -73.949549   24936    Customer        1969       0   \n",
       "1607616             -73.958525   16657    Customer        1969       0   \n",
       "1607617             -73.981918   14790  Subscriber        1988       1   \n",
       "1607618             -74.010202   34937    Customer        1969       0   \n",
       "\n",
       "                       tripdate  \n",
       "192003  2019-05-04 00:00:07.310  \n",
       "192004  2019-05-04 00:00:10.869  \n",
       "192005  2019-05-04 00:00:15.622  \n",
       "192006  2019-05-04 00:00:20.716  \n",
       "192007  2019-05-04 00:00:21.086  \n",
       "...                         ...  \n",
       "1607614 2019-05-26 23:59:44.471  \n",
       "1607615 2019-05-26 23:59:47.073  \n",
       "1607616 2019-05-26 23:59:48.045  \n",
       "1607617 2019-05-26 23:59:52.301  \n",
       "1607618 2019-05-26 23:59:59.212  \n",
       "\n",
       "[308966 rows x 16 columns]"
      ]
     },
     "execution_count": 156,
     "metadata": {},
     "output_type": "execute_result"
    }
   ],
   "source": [
    "cbMay19_weekends = cbMay19_clean[cbMay19_clean[\"tripdate\"].dt.weekday >= 5]\n",
    "cbMay19_weekends"
   ]
  },
  {
   "cell_type": "code",
   "execution_count": 157,
   "metadata": {
    "colab": {
     "base_uri": "https://localhost:8080/",
     "height": 312
    },
    "id": "jP4cbPjMjSsx",
    "outputId": "ce271247-0be8-4fcd-9943-38af8d2a5af1"
   },
   "outputs": [
    {
     "data": {
      "text/plain": [
       "Text(0, 0.5, 'Number of trips recorded')"
      ]
     },
     "execution_count": 157,
     "metadata": {},
     "output_type": "execute_result"
    },
    {
     "data": {
      "image/png": "[encoded data removed]",
      "text/plain": [
       "<Figure size 432x288 with 1 Axes>"
      ]
     },
     "metadata": {
      "needs_background": "light"
     },
     "output_type": "display_data"
    }
   ],
   "source": [
    "plt.hist(cbMay19_weekdays['tripduration'])\n",
    "plt.hist(cbMay19_weekends['tripduration'])\n",
    "plt.title(\"Plot of number of trips recorded vs trip duration in minutes\")\n",
    "plt.xlabel(\"Trip duration in minutes\")\n",
    "plt.ylabel(\"Number of trips recorded\")"
   ]
  },
  {
   "cell_type": "markdown",
   "metadata": {
    "id": "jK6Yh4-7klKT"
   },
   "source": [
    "The histogram shows that there are a higher number of trips recorded on the weekdays(blue colored bars) than on the weekends(orange colored bars)"
   ]
  },
  {
   "cell_type": "code",
   "execution_count": 158,
   "metadata": {
    "colab": {
     "base_uri": "https://localhost:8080/"
    },
    "id": "CnNubJY3lOxk",
    "outputId": "a097fd49-f2b4-4be9-a3e5-95dcd6a4564d"
   },
   "outputs": [
    {
     "data": {
      "text/plain": [
       "0          1\n",
       "1          0\n",
       "3          1\n",
       "4          1\n",
       "6          1\n",
       "          ..\n",
       "1924555    1\n",
       "1924556    2\n",
       "1924558    2\n",
       "1924559    2\n",
       "1924562    2\n",
       "Name: gender, Length: 1292882, dtype: int64"
      ]
     },
     "execution_count": 158,
     "metadata": {},
     "output_type": "execute_result"
    }
   ],
   "source": [
    "gender = cbMay19_weekdays.gender\n",
    "gender"
   ]
  },
  {
   "cell_type": "code",
   "execution_count": 159,
   "metadata": {
    "id": "EOuOpbLwldIn"
   },
   "outputs": [],
   "source": [
    "maleweekdays = cbMay19_weekdays[cbMay19_weekdays['gender']==1]"
   ]
  },
  {
   "cell_type": "code",
   "execution_count": 160,
   "metadata": {
    "id": "S-_vjSXdll-u"
   },
   "outputs": [],
   "source": [
    "femaleweekdays = cbMay19_weekdays[cbMay19_weekdays['gender']==2]"
   ]
  },
  {
   "cell_type": "code",
   "execution_count": 161,
   "metadata": {
    "colab": {
     "base_uri": "https://localhost:8080/",
     "height": 352
    },
    "id": "nWdRgxyil_z9",
    "outputId": "22def135-5cbc-4207-d31d-f462b3fe8131"
   },
   "outputs": [
    {
     "data": {
      "text/plain": [
       "(array([17889., 44341., 50667., 45205., 36807., 30375., 24433., 19507.,\n",
       "        16164., 13751.]),\n",
       " array([  61. ,  198.8,  336.6,  474.4,  612.2,  750. ,  887.8, 1025.6,\n",
       "        1163.4, 1301.2, 1439. ]),\n",
       " <a list of 10 Patch objects>)"
      ]
     },
     "execution_count": 161,
     "metadata": {},
     "output_type": "execute_result"
    },
    {
     "data": {
      "image/png": "[encoded data removed]",
      "text/plain": [
       "<Figure size 432x288 with 1 Axes>"
      ]
     },
     "metadata": {
      "needs_background": "light"
     },
     "output_type": "display_data"
    }
   ],
   "source": [
    "plt.hist(maleweekdays['tripduration'])\n",
    "plt.hist(femaleweekdays['tripduration'])"
   ]
  },
  {
   "cell_type": "code",
   "execution_count": 162,
   "metadata": {
    "colab": {
     "base_uri": "https://localhost:8080/"
    },
    "id": "m2vVusOXlTHT",
    "outputId": "a0f9318c-cd49-4354-c033-24745c7830ea"
   },
   "outputs": [
    {
     "data": {
      "text/plain": [
       "192003     1\n",
       "192004     2\n",
       "192005     2\n",
       "192006     1\n",
       "192007     1\n",
       "          ..\n",
       "1607614    1\n",
       "1607615    0\n",
       "1607616    0\n",
       "1607617    1\n",
       "1607618    0\n",
       "Name: gender, Length: 308966, dtype: int64"
      ]
     },
     "execution_count": 162,
     "metadata": {},
     "output_type": "execute_result"
    }
   ],
   "source": [
    "gender = cbMay19_weekends.gender\n",
    "gender"
   ]
  },
  {
   "cell_type": "code",
   "execution_count": 163,
   "metadata": {
    "id": "GRC2whHXmPUg"
   },
   "outputs": [],
   "source": [
    "maleweekends = cbMay19_weekends[cbMay19_weekends['gender']==1]"
   ]
  },
  {
   "cell_type": "code",
   "execution_count": 164,
   "metadata": {
    "id": "czX0Nh11mXBr"
   },
   "outputs": [],
   "source": [
    "femaleweekends = cbMay19_weekends[cbMay19_weekends['gender']==2]"
   ]
  },
  {
   "cell_type": "code",
   "execution_count": 165,
   "metadata": {
    "colab": {
     "base_uri": "https://localhost:8080/",
     "height": 355
    },
    "id": "AeeZyJtpmzv0",
    "outputId": "525ebb96-ff2d-4240-80a8-0b148a326b0e"
   },
   "outputs": [
    {
     "data": {
      "text/plain": [
       "(array([ 4322., 10292., 11977., 11119.,  9334.,  7849.,  6772.,  5914.,\n",
       "         5151.,  4721.]),\n",
       " array([  61. ,  198.8,  336.6,  474.4,  612.2,  750. ,  887.8, 1025.6,\n",
       "        1163.4, 1301.2, 1439. ]),\n",
       " <a list of 10 Patch objects>)"
      ]
     },
     "execution_count": 165,
     "metadata": {},
     "output_type": "execute_result"
    },
    {
     "data": {
      "image/png": "[encoded data removed]",
      "text/plain": [
       "<Figure size 432x288 with 1 Axes>"
      ]
     },
     "metadata": {
      "needs_background": "light"
     },
     "output_type": "display_data"
    }
   ],
   "source": [
    "plt.hist(maleweekends['tripduration'])\n",
    "plt.hist(femaleweekends['tripduration'])"
   ]
  },
  {
   "cell_type": "code",
   "execution_count": 166,
   "metadata": {
    "colab": {
     "base_uri": "https://localhost:8080/",
     "height": 352
    },
    "id": "gBodo8G6m9tA",
    "outputId": "b46f033e-c2d1-4306-e5b5-2740ad0fccf0"
   },
   "outputs": [
    {
     "data": {
      "text/plain": [
       "(array([17453., 33521., 33330., 27331., 21571., 17195., 14027., 11656.,\n",
       "        10343.,  9039.]),\n",
       " array([  61. ,  198.8,  336.6,  474.4,  612.2,  750. ,  887.8, 1025.6,\n",
       "        1163.4, 1301.2, 1439. ]),\n",
       " <a list of 10 Patch objects>)"
      ]
     },
     "execution_count": 166,
     "metadata": {},
     "output_type": "execute_result"
    },
    {
     "data": {
      "image/png": "[encoded data removed]",
      "text/plain": [
       "<Figure size 432x288 with 1 Axes>"
      ]
     },
     "metadata": {
      "needs_background": "light"
     },
     "output_type": "display_data"
    }
   ],
   "source": [
    "plt.hist(maleweekdays['tripduration'])\n",
    "plt.hist(maleweekends['tripduration'])"
   ]
  },
  {
   "cell_type": "markdown",
   "metadata": {
    "id": "ncxhhTSpnSq5"
   },
   "source": [
    "There are more males taking trips on the weekdays than there are on the weekends"
   ]
  },
  {
   "cell_type": "code",
   "execution_count": 167,
   "metadata": {
    "colab": {
     "base_uri": "https://localhost:8080/",
     "height": 352
    },
    "id": "UI8J67sBnCSI",
    "outputId": "44d06300-33a5-4b1c-baa0-54334a75ad63"
   },
   "outputs": [
    {
     "data": {
      "text/plain": [
       "(array([ 4322., 10292., 11977., 11119.,  9334.,  7849.,  6772.,  5914.,\n",
       "         5151.,  4721.]),\n",
       " array([  61. ,  198.8,  336.6,  474.4,  612.2,  750. ,  887.8, 1025.6,\n",
       "        1163.4, 1301.2, 1439. ]),\n",
       " <a list of 10 Patch objects>)"
      ]
     },
     "execution_count": 167,
     "metadata": {},
     "output_type": "execute_result"
    },
    {
     "data": {
      "image/png": "[encoded data removed]",
      "text/plain": [
       "<Figure size 432x288 with 1 Axes>"
      ]
     },
     "metadata": {
      "needs_background": "light"
     },
     "output_type": "display_data"
    }
   ],
   "source": [
    "plt.hist(femaleweekdays['tripduration'])\n",
    "plt.hist(femaleweekends['tripduration'])"
   ]
  },
  {
   "cell_type": "markdown",
   "metadata": {
    "id": "fx9SydicnevR"
   },
   "source": [
    "There are more women taking trips on the weekdays than there are on the weekends"
   ]
  },
  {
   "cell_type": "markdown",
   "metadata": {
    "id": "f-zgp-1Onfxh"
   },
   "source": []
  }
 ],
 "metadata": {
  "anaconda-cloud": {},
  "colab": {
   "collapsed_sections": [],
   "include_colab_link": true,
   "provenance": []
  },
  "kernelspec": {
   "display_name": "Python 3",
   "language": "python",
   "name": "python3"
  },
  "language_info": {
   "codemirror_mode": {
    "name": "ipython",
    "version": 3
   },
   "file_extension": ".py",
   "mimetype": "text/x-python",
   "name": "python",
   "nbconvert_exporter": "python",
   "pygments_lexer": "ipython3",
   "version": "3.9.2"
  }
 },
 "nbformat": 4,
 "nbformat_minor": 4
}
