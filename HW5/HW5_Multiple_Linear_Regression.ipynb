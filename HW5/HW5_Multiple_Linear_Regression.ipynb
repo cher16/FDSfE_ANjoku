{
  "cells": [
    {
      "cell_type": "markdown",
      "metadata": {
        "id": "view-in-github",
        "colab_type": "text"
      },
      "source": [
        "<a href=\"https://colab.research.google.com/github/cher16/FDSfE_ANjoku/blob/main/HW5/HW5_Multiple_Linear_Regression.ipynb\" target=\"_parent\"><img src=\"https://colab.research.google.com/assets/colab-badge.svg\" alt=\"Open In Colab\"/></a>"
      ]
    },
    {
      "cell_type": "markdown",
      "metadata": {
        "id": "kBKIrBnIlHg8"
      },
      "source": [
        "# **Multiple Linear Regression**\n",
        "\n",
        "---\n",
        "\n",
        "###Data\n",
        "\n",
        "The data used in this assignment contains a cleaned and curated version of the market real estate valuations collected from Sindian Dist., New Taipei City, Taiwan, by Prof. I-Cheng Yeh, Department of Civil Engineering, Tamkang University, Taiwan.\n",
        "\n",
        "The features in the data are the following:\n",
        "\n",
        "* ```transaction_date```: the transaction date (for example, 2013.250=2013 March, 2013.500=2013 June, etc.)\n",
        "* ```house_age```: the house age (unit: year)\n",
        "* ```distance_nearest_MRT_station```: the distance to the nearest MRT station (unit: meter)\n",
        "* ```convenience_stores```: the number of convenience stores in the living circle on foot (integer)\n",
        "\n",
        "The target is:\n",
        "* ```house_price_unit_area```house price of unit area (10000 New Taiwan Dollar/Ping, where Ping is a local unit, 1 Ping = 3.3 meter squared)\n",
        "\n",
        "---\n",
        "\n",
        "## HW instructions:\n",
        "\n",
        "Similar to what was done in class, your task is to do the following:\n",
        "1.   create a simple regression model that utilizes only one feature: the log10 of ```distance_nearest_MRT_station``` to predict the house price/unit area, and find the model's metrics ($R^2$ and Adjusted-$R^2$), as well as the the coeffient (slope) of the line.\n",
        "\n",
        "2.   create a multiple regression model that utilizes all features in the dataset to predict the house price/unit area, and find the model's metrics ($R^2$ and Adjusted-$R^2$), as well as the the coeffient for each variable.\n",
        "\n",
        "--"
      ]
    },
    {
      "cell_type": "code",
      "execution_count": 229,
      "metadata": {
        "id": "ATylBaqD5ljg"
      },
      "outputs": [],
      "source": [
        "import pandas as pd\n",
        "import numpy as np\n",
        "from sklearn.datasets import load_iris\n",
        "from sklearn import preprocessing\n",
        "from sklearn.linear_model import LinearRegression\n",
        "import pylab as plt\n",
        "import statsmodels.api as sm"
      ]
    },
    {
      "cell_type": "markdown",
      "metadata": {
        "id": "S4YEe0nUgWG1"
      },
      "source": [
        "Read the data file from the class repo which can be found in the folder \"data\" and is called \"Real_estate.csv\""
      ]
    },
    {
      "cell_type": "code",
      "execution_count": 230,
      "metadata": {
        "colab": {
          "base_uri": "https://localhost:8080/",
          "height": 424
        },
        "id": "7vu7tgc3CrxL",
        "outputId": "ffae7580-be05-47af-d6e3-7f1171b65018"
      },
      "outputs": [
        {
          "output_type": "execute_result",
          "data": {
            "text/plain": [
              "     transaction_date  house_age  distance_nearest_MRT_station  \\\n",
              "0            2012.917       32.0                      84.87882   \n",
              "1            2012.917       19.5                     306.59470   \n",
              "2            2013.583       13.3                     561.98450   \n",
              "3            2013.500       13.3                     561.98450   \n",
              "4            2012.833        5.0                     390.56840   \n",
              "..                ...        ...                           ...   \n",
              "409          2013.000       13.7                    4082.01500   \n",
              "410          2012.667        5.6                      90.45606   \n",
              "411          2013.250       18.8                     390.96960   \n",
              "412          2013.000        8.1                     104.81010   \n",
              "413          2013.500        6.5                      90.45606   \n",
              "\n",
              "     convenience_stores  house_price_unit_area  \n",
              "0                    10                   37.9  \n",
              "1                     9                   42.2  \n",
              "2                     5                   47.3  \n",
              "3                     5                   54.8  \n",
              "4                     5                   43.1  \n",
              "..                  ...                    ...  \n",
              "409                   0                   15.4  \n",
              "410                   9                   50.0  \n",
              "411                   7                   40.6  \n",
              "412                   5                   52.5  \n",
              "413                   9                   63.9  \n",
              "\n",
              "[414 rows x 5 columns]"
            ],
            "text/html": [
              "\n",
              "  <div id=\"df-dbbf4714-c3ab-43f9-9983-e4090b7baa75\">\n",
              "    <div class=\"colab-df-container\">\n",
              "      <div>\n",
              "<style scoped>\n",
              "    .dataframe tbody tr th:only-of-type {\n",
              "        vertical-align: middle;\n",
              "    }\n",
              "\n",
              "    .dataframe tbody tr th {\n",
              "        vertical-align: top;\n",
              "    }\n",
              "\n",
              "    .dataframe thead th {\n",
              "        text-align: right;\n",
              "    }\n",
              "</style>\n",
              "<table border=\"1\" class=\"dataframe\">\n",
              "  <thead>\n",
              "    <tr style=\"text-align: right;\">\n",
              "      <th></th>\n",
              "      <th>transaction_date</th>\n",
              "      <th>house_age</th>\n",
              "      <th>distance_nearest_MRT_station</th>\n",
              "      <th>convenience_stores</th>\n",
              "      <th>house_price_unit_area</th>\n",
              "    </tr>\n",
              "  </thead>\n",
              "  <tbody>\n",
              "    <tr>\n",
              "      <th>0</th>\n",
              "      <td>2012.917</td>\n",
              "      <td>32.0</td>\n",
              "      <td>84.87882</td>\n",
              "      <td>10</td>\n",
              "      <td>37.9</td>\n",
              "    </tr>\n",
              "    <tr>\n",
              "      <th>1</th>\n",
              "      <td>2012.917</td>\n",
              "      <td>19.5</td>\n",
              "      <td>306.59470</td>\n",
              "      <td>9</td>\n",
              "      <td>42.2</td>\n",
              "    </tr>\n",
              "    <tr>\n",
              "      <th>2</th>\n",
              "      <td>2013.583</td>\n",
              "      <td>13.3</td>\n",
              "      <td>561.98450</td>\n",
              "      <td>5</td>\n",
              "      <td>47.3</td>\n",
              "    </tr>\n",
              "    <tr>\n",
              "      <th>3</th>\n",
              "      <td>2013.500</td>\n",
              "      <td>13.3</td>\n",
              "      <td>561.98450</td>\n",
              "      <td>5</td>\n",
              "      <td>54.8</td>\n",
              "    </tr>\n",
              "    <tr>\n",
              "      <th>4</th>\n",
              "      <td>2012.833</td>\n",
              "      <td>5.0</td>\n",
              "      <td>390.56840</td>\n",
              "      <td>5</td>\n",
              "      <td>43.1</td>\n",
              "    </tr>\n",
              "    <tr>\n",
              "      <th>...</th>\n",
              "      <td>...</td>\n",
              "      <td>...</td>\n",
              "      <td>...</td>\n",
              "      <td>...</td>\n",
              "      <td>...</td>\n",
              "    </tr>\n",
              "    <tr>\n",
              "      <th>409</th>\n",
              "      <td>2013.000</td>\n",
              "      <td>13.7</td>\n",
              "      <td>4082.01500</td>\n",
              "      <td>0</td>\n",
              "      <td>15.4</td>\n",
              "    </tr>\n",
              "    <tr>\n",
              "      <th>410</th>\n",
              "      <td>2012.667</td>\n",
              "      <td>5.6</td>\n",
              "      <td>90.45606</td>\n",
              "      <td>9</td>\n",
              "      <td>50.0</td>\n",
              "    </tr>\n",
              "    <tr>\n",
              "      <th>411</th>\n",
              "      <td>2013.250</td>\n",
              "      <td>18.8</td>\n",
              "      <td>390.96960</td>\n",
              "      <td>7</td>\n",
              "      <td>40.6</td>\n",
              "    </tr>\n",
              "    <tr>\n",
              "      <th>412</th>\n",
              "      <td>2013.000</td>\n",
              "      <td>8.1</td>\n",
              "      <td>104.81010</td>\n",
              "      <td>5</td>\n",
              "      <td>52.5</td>\n",
              "    </tr>\n",
              "    <tr>\n",
              "      <th>413</th>\n",
              "      <td>2013.500</td>\n",
              "      <td>6.5</td>\n",
              "      <td>90.45606</td>\n",
              "      <td>9</td>\n",
              "      <td>63.9</td>\n",
              "    </tr>\n",
              "  </tbody>\n",
              "</table>\n",
              "<p>414 rows × 5 columns</p>\n",
              "</div>\n",
              "      <button class=\"colab-df-convert\" onclick=\"convertToInteractive('df-dbbf4714-c3ab-43f9-9983-e4090b7baa75')\"\n",
              "              title=\"Convert this dataframe to an interactive table.\"\n",
              "              style=\"display:none;\">\n",
              "        \n",
              "  <svg xmlns=\"http://www.w3.org/2000/svg\" height=\"24px\"viewBox=\"0 0 24 24\"\n",
              "       width=\"24px\">\n",
              "    <path d=\"M0 0h24v24H0V0z\" fill=\"none\"/>\n",
              "    <path d=\"M18.56 5.44l.94 2.06.94-2.06 2.06-.94-2.06-.94-.94-2.06-.94 2.06-2.06.94zm-11 1L8.5 8.5l.94-2.06 2.06-.94-2.06-.94L8.5 2.5l-.94 2.06-2.06.94zm10 10l.94 2.06.94-2.06 2.06-.94-2.06-.94-.94-2.06-.94 2.06-2.06.94z\"/><path d=\"M17.41 7.96l-1.37-1.37c-.4-.4-.92-.59-1.43-.59-.52 0-1.04.2-1.43.59L10.3 9.45l-7.72 7.72c-.78.78-.78 2.05 0 2.83L4 21.41c.39.39.9.59 1.41.59.51 0 1.02-.2 1.41-.59l7.78-7.78 2.81-2.81c.8-.78.8-2.07 0-2.86zM5.41 20L4 18.59l7.72-7.72 1.47 1.35L5.41 20z\"/>\n",
              "  </svg>\n",
              "      </button>\n",
              "      \n",
              "  <style>\n",
              "    .colab-df-container {\n",
              "      display:flex;\n",
              "      flex-wrap:wrap;\n",
              "      gap: 12px;\n",
              "    }\n",
              "\n",
              "    .colab-df-convert {\n",
              "      background-color: #E8F0FE;\n",
              "      border: none;\n",
              "      border-radius: 50%;\n",
              "      cursor: pointer;\n",
              "      display: none;\n",
              "      fill: #1967D2;\n",
              "      height: 32px;\n",
              "      padding: 0 0 0 0;\n",
              "      width: 32px;\n",
              "    }\n",
              "\n",
              "    .colab-df-convert:hover {\n",
              "      background-color: #E2EBFA;\n",
              "      box-shadow: 0px 1px 2px rgba(60, 64, 67, 0.3), 0px 1px 3px 1px rgba(60, 64, 67, 0.15);\n",
              "      fill: #174EA6;\n",
              "    }\n",
              "\n",
              "    [theme=dark] .colab-df-convert {\n",
              "      background-color: #3B4455;\n",
              "      fill: #D2E3FC;\n",
              "    }\n",
              "\n",
              "    [theme=dark] .colab-df-convert:hover {\n",
              "      background-color: #434B5C;\n",
              "      box-shadow: 0px 1px 3px 1px rgba(0, 0, 0, 0.15);\n",
              "      filter: drop-shadow(0px 1px 2px rgba(0, 0, 0, 0.3));\n",
              "      fill: #FFFFFF;\n",
              "    }\n",
              "  </style>\n",
              "\n",
              "      <script>\n",
              "        const buttonEl =\n",
              "          document.querySelector('#df-dbbf4714-c3ab-43f9-9983-e4090b7baa75 button.colab-df-convert');\n",
              "        buttonEl.style.display =\n",
              "          google.colab.kernel.accessAllowed ? 'block' : 'none';\n",
              "\n",
              "        async function convertToInteractive(key) {\n",
              "          const element = document.querySelector('#df-dbbf4714-c3ab-43f9-9983-e4090b7baa75');\n",
              "          const dataTable =\n",
              "            await google.colab.kernel.invokeFunction('convertToInteractive',\n",
              "                                                     [key], {});\n",
              "          if (!dataTable) return;\n",
              "\n",
              "          const docLinkHtml = 'Like what you see? Visit the ' +\n",
              "            '<a target=\"_blank\" href=https://colab.research.google.com/notebooks/data_table.ipynb>data table notebook</a>'\n",
              "            + ' to learn more about interactive tables.';\n",
              "          element.innerHTML = '';\n",
              "          dataTable['output_type'] = 'display_data';\n",
              "          await google.colab.output.renderOutput(dataTable, element);\n",
              "          const docLink = document.createElement('div');\n",
              "          docLink.innerHTML = docLinkHtml;\n",
              "          element.appendChild(docLink);\n",
              "        }\n",
              "      </script>\n",
              "    </div>\n",
              "  </div>\n",
              "  "
            ]
          },
          "metadata": {},
          "execution_count": 230
        }
      ],
      "source": [
        "realest = pd.read_csv(\"https://github.com/fedhere/FDSfE_FBianco/raw/main/data/Real_estate.csv\")\n",
        "realest"
      ]
    },
    {
      "cell_type": "code",
      "execution_count": 231,
      "metadata": {
        "colab": {
          "base_uri": "https://localhost:8080/"
        },
        "id": "iU8GSYkBKZie",
        "outputId": "0ae8a7e6-6baa-4058-8580-fe85e000a530"
      },
      "outputs": [
        {
          "output_type": "execute_result",
          "data": {
            "text/plain": [
              "(414, 5)"
            ]
          },
          "metadata": {},
          "execution_count": 231
        }
      ],
      "source": [
        "realest.shape"
      ]
    },
    {
      "cell_type": "code",
      "execution_count": 232,
      "metadata": {
        "colab": {
          "base_uri": "https://localhost:8080/"
        },
        "id": "DPrQ82tvLKOP",
        "outputId": "e727644a-70d9-46a8-86a0-32d3a9713803"
      },
      "outputs": [
        {
          "output_type": "stream",
          "name": "stdout",
          "text": [
            "The number of rows in the dataframe are 414 and the number of columns in the dataframe are 5\n"
          ]
        }
      ],
      "source": [
        "print(\"The number of rows in the dataframe are \"+ format(realest.shape[0]) + \" and the number of columns in the dataframe are \"+format(realest.shape[1]))"
      ]
    },
    {
      "cell_type": "code",
      "execution_count": 233,
      "metadata": {
        "colab": {
          "base_uri": "https://localhost:8080/",
          "height": 300
        },
        "id": "DpZDE9-MKbZc",
        "outputId": "501f5283-3e3b-4e17-f55f-6355aade25c1"
      },
      "outputs": [
        {
          "output_type": "execute_result",
          "data": {
            "text/plain": [
              "       transaction_date   house_age  distance_nearest_MRT_station  \\\n",
              "count        414.000000  414.000000                    414.000000   \n",
              "mean        2013.148971   17.712560                   1083.885689   \n",
              "std            0.281967   11.392485                   1262.109595   \n",
              "min         2012.667000    0.000000                     23.382840   \n",
              "25%         2012.917000    9.025000                    289.324800   \n",
              "50%         2013.167000   16.100000                    492.231300   \n",
              "75%         2013.417000   28.150000                   1454.279000   \n",
              "max         2013.583000   43.800000                   6488.021000   \n",
              "\n",
              "       convenience_stores  house_price_unit_area  \n",
              "count          414.000000             414.000000  \n",
              "mean             4.094203              37.980193  \n",
              "std              2.945562              13.606488  \n",
              "min              0.000000               7.600000  \n",
              "25%              1.000000              27.700000  \n",
              "50%              4.000000              38.450000  \n",
              "75%              6.000000              46.600000  \n",
              "max             10.000000             117.500000  "
            ],
            "text/html": [
              "\n",
              "  <div id=\"df-d6cd5031-30d1-45d1-aabe-c98476798b18\">\n",
              "    <div class=\"colab-df-container\">\n",
              "      <div>\n",
              "<style scoped>\n",
              "    .dataframe tbody tr th:only-of-type {\n",
              "        vertical-align: middle;\n",
              "    }\n",
              "\n",
              "    .dataframe tbody tr th {\n",
              "        vertical-align: top;\n",
              "    }\n",
              "\n",
              "    .dataframe thead th {\n",
              "        text-align: right;\n",
              "    }\n",
              "</style>\n",
              "<table border=\"1\" class=\"dataframe\">\n",
              "  <thead>\n",
              "    <tr style=\"text-align: right;\">\n",
              "      <th></th>\n",
              "      <th>transaction_date</th>\n",
              "      <th>house_age</th>\n",
              "      <th>distance_nearest_MRT_station</th>\n",
              "      <th>convenience_stores</th>\n",
              "      <th>house_price_unit_area</th>\n",
              "    </tr>\n",
              "  </thead>\n",
              "  <tbody>\n",
              "    <tr>\n",
              "      <th>count</th>\n",
              "      <td>414.000000</td>\n",
              "      <td>414.000000</td>\n",
              "      <td>414.000000</td>\n",
              "      <td>414.000000</td>\n",
              "      <td>414.000000</td>\n",
              "    </tr>\n",
              "    <tr>\n",
              "      <th>mean</th>\n",
              "      <td>2013.148971</td>\n",
              "      <td>17.712560</td>\n",
              "      <td>1083.885689</td>\n",
              "      <td>4.094203</td>\n",
              "      <td>37.980193</td>\n",
              "    </tr>\n",
              "    <tr>\n",
              "      <th>std</th>\n",
              "      <td>0.281967</td>\n",
              "      <td>11.392485</td>\n",
              "      <td>1262.109595</td>\n",
              "      <td>2.945562</td>\n",
              "      <td>13.606488</td>\n",
              "    </tr>\n",
              "    <tr>\n",
              "      <th>min</th>\n",
              "      <td>2012.667000</td>\n",
              "      <td>0.000000</td>\n",
              "      <td>23.382840</td>\n",
              "      <td>0.000000</td>\n",
              "      <td>7.600000</td>\n",
              "    </tr>\n",
              "    <tr>\n",
              "      <th>25%</th>\n",
              "      <td>2012.917000</td>\n",
              "      <td>9.025000</td>\n",
              "      <td>289.324800</td>\n",
              "      <td>1.000000</td>\n",
              "      <td>27.700000</td>\n",
              "    </tr>\n",
              "    <tr>\n",
              "      <th>50%</th>\n",
              "      <td>2013.167000</td>\n",
              "      <td>16.100000</td>\n",
              "      <td>492.231300</td>\n",
              "      <td>4.000000</td>\n",
              "      <td>38.450000</td>\n",
              "    </tr>\n",
              "    <tr>\n",
              "      <th>75%</th>\n",
              "      <td>2013.417000</td>\n",
              "      <td>28.150000</td>\n",
              "      <td>1454.279000</td>\n",
              "      <td>6.000000</td>\n",
              "      <td>46.600000</td>\n",
              "    </tr>\n",
              "    <tr>\n",
              "      <th>max</th>\n",
              "      <td>2013.583000</td>\n",
              "      <td>43.800000</td>\n",
              "      <td>6488.021000</td>\n",
              "      <td>10.000000</td>\n",
              "      <td>117.500000</td>\n",
              "    </tr>\n",
              "  </tbody>\n",
              "</table>\n",
              "</div>\n",
              "      <button class=\"colab-df-convert\" onclick=\"convertToInteractive('df-d6cd5031-30d1-45d1-aabe-c98476798b18')\"\n",
              "              title=\"Convert this dataframe to an interactive table.\"\n",
              "              style=\"display:none;\">\n",
              "        \n",
              "  <svg xmlns=\"http://www.w3.org/2000/svg\" height=\"24px\"viewBox=\"0 0 24 24\"\n",
              "       width=\"24px\">\n",
              "    <path d=\"M0 0h24v24H0V0z\" fill=\"none\"/>\n",
              "    <path d=\"M18.56 5.44l.94 2.06.94-2.06 2.06-.94-2.06-.94-.94-2.06-.94 2.06-2.06.94zm-11 1L8.5 8.5l.94-2.06 2.06-.94-2.06-.94L8.5 2.5l-.94 2.06-2.06.94zm10 10l.94 2.06.94-2.06 2.06-.94-2.06-.94-.94-2.06-.94 2.06-2.06.94z\"/><path d=\"M17.41 7.96l-1.37-1.37c-.4-.4-.92-.59-1.43-.59-.52 0-1.04.2-1.43.59L10.3 9.45l-7.72 7.72c-.78.78-.78 2.05 0 2.83L4 21.41c.39.39.9.59 1.41.59.51 0 1.02-.2 1.41-.59l7.78-7.78 2.81-2.81c.8-.78.8-2.07 0-2.86zM5.41 20L4 18.59l7.72-7.72 1.47 1.35L5.41 20z\"/>\n",
              "  </svg>\n",
              "      </button>\n",
              "      \n",
              "  <style>\n",
              "    .colab-df-container {\n",
              "      display:flex;\n",
              "      flex-wrap:wrap;\n",
              "      gap: 12px;\n",
              "    }\n",
              "\n",
              "    .colab-df-convert {\n",
              "      background-color: #E8F0FE;\n",
              "      border: none;\n",
              "      border-radius: 50%;\n",
              "      cursor: pointer;\n",
              "      display: none;\n",
              "      fill: #1967D2;\n",
              "      height: 32px;\n",
              "      padding: 0 0 0 0;\n",
              "      width: 32px;\n",
              "    }\n",
              "\n",
              "    .colab-df-convert:hover {\n",
              "      background-color: #E2EBFA;\n",
              "      box-shadow: 0px 1px 2px rgba(60, 64, 67, 0.3), 0px 1px 3px 1px rgba(60, 64, 67, 0.15);\n",
              "      fill: #174EA6;\n",
              "    }\n",
              "\n",
              "    [theme=dark] .colab-df-convert {\n",
              "      background-color: #3B4455;\n",
              "      fill: #D2E3FC;\n",
              "    }\n",
              "\n",
              "    [theme=dark] .colab-df-convert:hover {\n",
              "      background-color: #434B5C;\n",
              "      box-shadow: 0px 1px 3px 1px rgba(0, 0, 0, 0.15);\n",
              "      filter: drop-shadow(0px 1px 2px rgba(0, 0, 0, 0.3));\n",
              "      fill: #FFFFFF;\n",
              "    }\n",
              "  </style>\n",
              "\n",
              "      <script>\n",
              "        const buttonEl =\n",
              "          document.querySelector('#df-d6cd5031-30d1-45d1-aabe-c98476798b18 button.colab-df-convert');\n",
              "        buttonEl.style.display =\n",
              "          google.colab.kernel.accessAllowed ? 'block' : 'none';\n",
              "\n",
              "        async function convertToInteractive(key) {\n",
              "          const element = document.querySelector('#df-d6cd5031-30d1-45d1-aabe-c98476798b18');\n",
              "          const dataTable =\n",
              "            await google.colab.kernel.invokeFunction('convertToInteractive',\n",
              "                                                     [key], {});\n",
              "          if (!dataTable) return;\n",
              "\n",
              "          const docLinkHtml = 'Like what you see? Visit the ' +\n",
              "            '<a target=\"_blank\" href=https://colab.research.google.com/notebooks/data_table.ipynb>data table notebook</a>'\n",
              "            + ' to learn more about interactive tables.';\n",
              "          element.innerHTML = '';\n",
              "          dataTable['output_type'] = 'display_data';\n",
              "          await google.colab.output.renderOutput(dataTable, element);\n",
              "          const docLink = document.createElement('div');\n",
              "          docLink.innerHTML = docLinkHtml;\n",
              "          element.appendChild(docLink);\n",
              "        }\n",
              "      </script>\n",
              "    </div>\n",
              "  </div>\n",
              "  "
            ]
          },
          "metadata": {},
          "execution_count": 233
        }
      ],
      "source": [
        "realest.describe()"
      ]
    },
    {
      "cell_type": "code",
      "execution_count": 234,
      "metadata": {
        "colab": {
          "base_uri": "https://localhost:8080/",
          "height": 206
        },
        "id": "X6WRhCijJ72B",
        "outputId": "8ffe9614-1078-469e-882f-6eaf608b651b"
      },
      "outputs": [
        {
          "output_type": "execute_result",
          "data": {
            "text/plain": [
              "   transaction_date  house_age  distance_nearest_MRT_station  \\\n",
              "0          2012.917       32.0                      84.87882   \n",
              "1          2012.917       19.5                     306.59470   \n",
              "2          2013.583       13.3                     561.98450   \n",
              "3          2013.500       13.3                     561.98450   \n",
              "4          2012.833        5.0                     390.56840   \n",
              "\n",
              "   convenience_stores  house_price_unit_area  \n",
              "0                  10                   37.9  \n",
              "1                   9                   42.2  \n",
              "2                   5                   47.3  \n",
              "3                   5                   54.8  \n",
              "4                   5                   43.1  "
            ],
            "text/html": [
              "\n",
              "  <div id=\"df-f296f512-4c53-4992-9f43-b5cef9818dd3\">\n",
              "    <div class=\"colab-df-container\">\n",
              "      <div>\n",
              "<style scoped>\n",
              "    .dataframe tbody tr th:only-of-type {\n",
              "        vertical-align: middle;\n",
              "    }\n",
              "\n",
              "    .dataframe tbody tr th {\n",
              "        vertical-align: top;\n",
              "    }\n",
              "\n",
              "    .dataframe thead th {\n",
              "        text-align: right;\n",
              "    }\n",
              "</style>\n",
              "<table border=\"1\" class=\"dataframe\">\n",
              "  <thead>\n",
              "    <tr style=\"text-align: right;\">\n",
              "      <th></th>\n",
              "      <th>transaction_date</th>\n",
              "      <th>house_age</th>\n",
              "      <th>distance_nearest_MRT_station</th>\n",
              "      <th>convenience_stores</th>\n",
              "      <th>house_price_unit_area</th>\n",
              "    </tr>\n",
              "  </thead>\n",
              "  <tbody>\n",
              "    <tr>\n",
              "      <th>0</th>\n",
              "      <td>2012.917</td>\n",
              "      <td>32.0</td>\n",
              "      <td>84.87882</td>\n",
              "      <td>10</td>\n",
              "      <td>37.9</td>\n",
              "    </tr>\n",
              "    <tr>\n",
              "      <th>1</th>\n",
              "      <td>2012.917</td>\n",
              "      <td>19.5</td>\n",
              "      <td>306.59470</td>\n",
              "      <td>9</td>\n",
              "      <td>42.2</td>\n",
              "    </tr>\n",
              "    <tr>\n",
              "      <th>2</th>\n",
              "      <td>2013.583</td>\n",
              "      <td>13.3</td>\n",
              "      <td>561.98450</td>\n",
              "      <td>5</td>\n",
              "      <td>47.3</td>\n",
              "    </tr>\n",
              "    <tr>\n",
              "      <th>3</th>\n",
              "      <td>2013.500</td>\n",
              "      <td>13.3</td>\n",
              "      <td>561.98450</td>\n",
              "      <td>5</td>\n",
              "      <td>54.8</td>\n",
              "    </tr>\n",
              "    <tr>\n",
              "      <th>4</th>\n",
              "      <td>2012.833</td>\n",
              "      <td>5.0</td>\n",
              "      <td>390.56840</td>\n",
              "      <td>5</td>\n",
              "      <td>43.1</td>\n",
              "    </tr>\n",
              "  </tbody>\n",
              "</table>\n",
              "</div>\n",
              "      <button class=\"colab-df-convert\" onclick=\"convertToInteractive('df-f296f512-4c53-4992-9f43-b5cef9818dd3')\"\n",
              "              title=\"Convert this dataframe to an interactive table.\"\n",
              "              style=\"display:none;\">\n",
              "        \n",
              "  <svg xmlns=\"http://www.w3.org/2000/svg\" height=\"24px\"viewBox=\"0 0 24 24\"\n",
              "       width=\"24px\">\n",
              "    <path d=\"M0 0h24v24H0V0z\" fill=\"none\"/>\n",
              "    <path d=\"M18.56 5.44l.94 2.06.94-2.06 2.06-.94-2.06-.94-.94-2.06-.94 2.06-2.06.94zm-11 1L8.5 8.5l.94-2.06 2.06-.94-2.06-.94L8.5 2.5l-.94 2.06-2.06.94zm10 10l.94 2.06.94-2.06 2.06-.94-2.06-.94-.94-2.06-.94 2.06-2.06.94z\"/><path d=\"M17.41 7.96l-1.37-1.37c-.4-.4-.92-.59-1.43-.59-.52 0-1.04.2-1.43.59L10.3 9.45l-7.72 7.72c-.78.78-.78 2.05 0 2.83L4 21.41c.39.39.9.59 1.41.59.51 0 1.02-.2 1.41-.59l7.78-7.78 2.81-2.81c.8-.78.8-2.07 0-2.86zM5.41 20L4 18.59l7.72-7.72 1.47 1.35L5.41 20z\"/>\n",
              "  </svg>\n",
              "      </button>\n",
              "      \n",
              "  <style>\n",
              "    .colab-df-container {\n",
              "      display:flex;\n",
              "      flex-wrap:wrap;\n",
              "      gap: 12px;\n",
              "    }\n",
              "\n",
              "    .colab-df-convert {\n",
              "      background-color: #E8F0FE;\n",
              "      border: none;\n",
              "      border-radius: 50%;\n",
              "      cursor: pointer;\n",
              "      display: none;\n",
              "      fill: #1967D2;\n",
              "      height: 32px;\n",
              "      padding: 0 0 0 0;\n",
              "      width: 32px;\n",
              "    }\n",
              "\n",
              "    .colab-df-convert:hover {\n",
              "      background-color: #E2EBFA;\n",
              "      box-shadow: 0px 1px 2px rgba(60, 64, 67, 0.3), 0px 1px 3px 1px rgba(60, 64, 67, 0.15);\n",
              "      fill: #174EA6;\n",
              "    }\n",
              "\n",
              "    [theme=dark] .colab-df-convert {\n",
              "      background-color: #3B4455;\n",
              "      fill: #D2E3FC;\n",
              "    }\n",
              "\n",
              "    [theme=dark] .colab-df-convert:hover {\n",
              "      background-color: #434B5C;\n",
              "      box-shadow: 0px 1px 3px 1px rgba(0, 0, 0, 0.15);\n",
              "      filter: drop-shadow(0px 1px 2px rgba(0, 0, 0, 0.3));\n",
              "      fill: #FFFFFF;\n",
              "    }\n",
              "  </style>\n",
              "\n",
              "      <script>\n",
              "        const buttonEl =\n",
              "          document.querySelector('#df-f296f512-4c53-4992-9f43-b5cef9818dd3 button.colab-df-convert');\n",
              "        buttonEl.style.display =\n",
              "          google.colab.kernel.accessAllowed ? 'block' : 'none';\n",
              "\n",
              "        async function convertToInteractive(key) {\n",
              "          const element = document.querySelector('#df-f296f512-4c53-4992-9f43-b5cef9818dd3');\n",
              "          const dataTable =\n",
              "            await google.colab.kernel.invokeFunction('convertToInteractive',\n",
              "                                                     [key], {});\n",
              "          if (!dataTable) return;\n",
              "\n",
              "          const docLinkHtml = 'Like what you see? Visit the ' +\n",
              "            '<a target=\"_blank\" href=https://colab.research.google.com/notebooks/data_table.ipynb>data table notebook</a>'\n",
              "            + ' to learn more about interactive tables.';\n",
              "          element.innerHTML = '';\n",
              "          dataTable['output_type'] = 'display_data';\n",
              "          await google.colab.output.renderOutput(dataTable, element);\n",
              "          const docLink = document.createElement('div');\n",
              "          docLink.innerHTML = docLinkHtml;\n",
              "          element.appendChild(docLink);\n",
              "        }\n",
              "      </script>\n",
              "    </div>\n",
              "  </div>\n",
              "  "
            ]
          },
          "metadata": {},
          "execution_count": 234
        }
      ],
      "source": [
        "realest.head()"
      ]
    },
    {
      "cell_type": "code",
      "execution_count": 235,
      "metadata": {
        "colab": {
          "base_uri": "https://localhost:8080/",
          "height": 206
        },
        "id": "KNc5xI5HKIj6",
        "outputId": "98163cc3-2ce1-4bae-8b86-d438905dbea0"
      },
      "outputs": [
        {
          "output_type": "execute_result",
          "data": {
            "text/plain": [
              "     transaction_date  house_age  distance_nearest_MRT_station  \\\n",
              "409          2013.000       13.7                    4082.01500   \n",
              "410          2012.667        5.6                      90.45606   \n",
              "411          2013.250       18.8                     390.96960   \n",
              "412          2013.000        8.1                     104.81010   \n",
              "413          2013.500        6.5                      90.45606   \n",
              "\n",
              "     convenience_stores  house_price_unit_area  \n",
              "409                   0                   15.4  \n",
              "410                   9                   50.0  \n",
              "411                   7                   40.6  \n",
              "412                   5                   52.5  \n",
              "413                   9                   63.9  "
            ],
            "text/html": [
              "\n",
              "  <div id=\"df-3ae79ea9-6259-498a-a340-d5635728c74f\">\n",
              "    <div class=\"colab-df-container\">\n",
              "      <div>\n",
              "<style scoped>\n",
              "    .dataframe tbody tr th:only-of-type {\n",
              "        vertical-align: middle;\n",
              "    }\n",
              "\n",
              "    .dataframe tbody tr th {\n",
              "        vertical-align: top;\n",
              "    }\n",
              "\n",
              "    .dataframe thead th {\n",
              "        text-align: right;\n",
              "    }\n",
              "</style>\n",
              "<table border=\"1\" class=\"dataframe\">\n",
              "  <thead>\n",
              "    <tr style=\"text-align: right;\">\n",
              "      <th></th>\n",
              "      <th>transaction_date</th>\n",
              "      <th>house_age</th>\n",
              "      <th>distance_nearest_MRT_station</th>\n",
              "      <th>convenience_stores</th>\n",
              "      <th>house_price_unit_area</th>\n",
              "    </tr>\n",
              "  </thead>\n",
              "  <tbody>\n",
              "    <tr>\n",
              "      <th>409</th>\n",
              "      <td>2013.000</td>\n",
              "      <td>13.7</td>\n",
              "      <td>4082.01500</td>\n",
              "      <td>0</td>\n",
              "      <td>15.4</td>\n",
              "    </tr>\n",
              "    <tr>\n",
              "      <th>410</th>\n",
              "      <td>2012.667</td>\n",
              "      <td>5.6</td>\n",
              "      <td>90.45606</td>\n",
              "      <td>9</td>\n",
              "      <td>50.0</td>\n",
              "    </tr>\n",
              "    <tr>\n",
              "      <th>411</th>\n",
              "      <td>2013.250</td>\n",
              "      <td>18.8</td>\n",
              "      <td>390.96960</td>\n",
              "      <td>7</td>\n",
              "      <td>40.6</td>\n",
              "    </tr>\n",
              "    <tr>\n",
              "      <th>412</th>\n",
              "      <td>2013.000</td>\n",
              "      <td>8.1</td>\n",
              "      <td>104.81010</td>\n",
              "      <td>5</td>\n",
              "      <td>52.5</td>\n",
              "    </tr>\n",
              "    <tr>\n",
              "      <th>413</th>\n",
              "      <td>2013.500</td>\n",
              "      <td>6.5</td>\n",
              "      <td>90.45606</td>\n",
              "      <td>9</td>\n",
              "      <td>63.9</td>\n",
              "    </tr>\n",
              "  </tbody>\n",
              "</table>\n",
              "</div>\n",
              "      <button class=\"colab-df-convert\" onclick=\"convertToInteractive('df-3ae79ea9-6259-498a-a340-d5635728c74f')\"\n",
              "              title=\"Convert this dataframe to an interactive table.\"\n",
              "              style=\"display:none;\">\n",
              "        \n",
              "  <svg xmlns=\"http://www.w3.org/2000/svg\" height=\"24px\"viewBox=\"0 0 24 24\"\n",
              "       width=\"24px\">\n",
              "    <path d=\"M0 0h24v24H0V0z\" fill=\"none\"/>\n",
              "    <path d=\"M18.56 5.44l.94 2.06.94-2.06 2.06-.94-2.06-.94-.94-2.06-.94 2.06-2.06.94zm-11 1L8.5 8.5l.94-2.06 2.06-.94-2.06-.94L8.5 2.5l-.94 2.06-2.06.94zm10 10l.94 2.06.94-2.06 2.06-.94-2.06-.94-.94-2.06-.94 2.06-2.06.94z\"/><path d=\"M17.41 7.96l-1.37-1.37c-.4-.4-.92-.59-1.43-.59-.52 0-1.04.2-1.43.59L10.3 9.45l-7.72 7.72c-.78.78-.78 2.05 0 2.83L4 21.41c.39.39.9.59 1.41.59.51 0 1.02-.2 1.41-.59l7.78-7.78 2.81-2.81c.8-.78.8-2.07 0-2.86zM5.41 20L4 18.59l7.72-7.72 1.47 1.35L5.41 20z\"/>\n",
              "  </svg>\n",
              "      </button>\n",
              "      \n",
              "  <style>\n",
              "    .colab-df-container {\n",
              "      display:flex;\n",
              "      flex-wrap:wrap;\n",
              "      gap: 12px;\n",
              "    }\n",
              "\n",
              "    .colab-df-convert {\n",
              "      background-color: #E8F0FE;\n",
              "      border: none;\n",
              "      border-radius: 50%;\n",
              "      cursor: pointer;\n",
              "      display: none;\n",
              "      fill: #1967D2;\n",
              "      height: 32px;\n",
              "      padding: 0 0 0 0;\n",
              "      width: 32px;\n",
              "    }\n",
              "\n",
              "    .colab-df-convert:hover {\n",
              "      background-color: #E2EBFA;\n",
              "      box-shadow: 0px 1px 2px rgba(60, 64, 67, 0.3), 0px 1px 3px 1px rgba(60, 64, 67, 0.15);\n",
              "      fill: #174EA6;\n",
              "    }\n",
              "\n",
              "    [theme=dark] .colab-df-convert {\n",
              "      background-color: #3B4455;\n",
              "      fill: #D2E3FC;\n",
              "    }\n",
              "\n",
              "    [theme=dark] .colab-df-convert:hover {\n",
              "      background-color: #434B5C;\n",
              "      box-shadow: 0px 1px 3px 1px rgba(0, 0, 0, 0.15);\n",
              "      filter: drop-shadow(0px 1px 2px rgba(0, 0, 0, 0.3));\n",
              "      fill: #FFFFFF;\n",
              "    }\n",
              "  </style>\n",
              "\n",
              "      <script>\n",
              "        const buttonEl =\n",
              "          document.querySelector('#df-3ae79ea9-6259-498a-a340-d5635728c74f button.colab-df-convert');\n",
              "        buttonEl.style.display =\n",
              "          google.colab.kernel.accessAllowed ? 'block' : 'none';\n",
              "\n",
              "        async function convertToInteractive(key) {\n",
              "          const element = document.querySelector('#df-3ae79ea9-6259-498a-a340-d5635728c74f');\n",
              "          const dataTable =\n",
              "            await google.colab.kernel.invokeFunction('convertToInteractive',\n",
              "                                                     [key], {});\n",
              "          if (!dataTable) return;\n",
              "\n",
              "          const docLinkHtml = 'Like what you see? Visit the ' +\n",
              "            '<a target=\"_blank\" href=https://colab.research.google.com/notebooks/data_table.ipynb>data table notebook</a>'\n",
              "            + ' to learn more about interactive tables.';\n",
              "          element.innerHTML = '';\n",
              "          dataTable['output_type'] = 'display_data';\n",
              "          await google.colab.output.renderOutput(dataTable, element);\n",
              "          const docLink = document.createElement('div');\n",
              "          docLink.innerHTML = docLinkHtml;\n",
              "          element.appendChild(docLink);\n",
              "        }\n",
              "      </script>\n",
              "    </div>\n",
              "  </div>\n",
              "  "
            ]
          },
          "metadata": {},
          "execution_count": 235
        }
      ],
      "source": [
        "realest.tail()"
      ]
    },
    {
      "cell_type": "code",
      "execution_count": 236,
      "metadata": {
        "colab": {
          "base_uri": "https://localhost:8080/"
        },
        "id": "dqVRqsNuK1yT",
        "outputId": "8f5cb3ab-eb47-497f-be4e-facc2b22d156"
      },
      "outputs": [
        {
          "output_type": "stream",
          "name": "stdout",
          "text": [
            "<class 'pandas.core.frame.DataFrame'>\n",
            "RangeIndex: 414 entries, 0 to 413\n",
            "Data columns (total 5 columns):\n",
            " #   Column                        Non-Null Count  Dtype  \n",
            "---  ------                        --------------  -----  \n",
            " 0   transaction_date              414 non-null    float64\n",
            " 1   house_age                     414 non-null    float64\n",
            " 2   distance_nearest_MRT_station  414 non-null    float64\n",
            " 3   convenience_stores            414 non-null    int64  \n",
            " 4   house_price_unit_area         414 non-null    float64\n",
            "dtypes: float64(4), int64(1)\n",
            "memory usage: 16.3 KB\n"
          ]
        }
      ],
      "source": [
        "realest.info()"
      ]
    },
    {
      "cell_type": "markdown",
      "metadata": {
        "id": "tP10cnl7UBJg"
      },
      "source": [
        "## Task 1: simple linear regression\n",
        "\n",
        "create a simple regression model that utilizes only one feature: the log10 of ```distance_nearest_MRT_station``` to predict the house price/unit area, and find the model's metrics ($R^2$ and Adjusted-$R^2$), as well as the the coeffient (slope) of the line.\n",
        "\n",
        "---\n"
      ]
    },
    {
      "cell_type": "markdown",
      "metadata": {
        "id": "YGx9scRQU8C0"
      },
      "source": [
        "Calculate the log10 of the ```distance_nearest_MRT_station``` column and add it as a new column to the data frame"
      ]
    },
    {
      "cell_type": "code",
      "execution_count": 237,
      "metadata": {
        "colab": {
          "base_uri": "https://localhost:8080/",
          "height": 424
        },
        "id": "p4cNG_YBCr0M",
        "outputId": "fdc6d493-3abf-4458-84f6-68a2b7c2387a"
      },
      "outputs": [
        {
          "output_type": "execute_result",
          "data": {
            "text/plain": [
              "     transaction_date  house_age  distance_nearest_MRT_station  \\\n",
              "0            2012.917       32.0                      84.87882   \n",
              "1            2012.917       19.5                     306.59470   \n",
              "2            2013.583       13.3                     561.98450   \n",
              "3            2013.500       13.3                     561.98450   \n",
              "4            2012.833        5.0                     390.56840   \n",
              "..                ...        ...                           ...   \n",
              "409          2013.000       13.7                    4082.01500   \n",
              "410          2012.667        5.6                      90.45606   \n",
              "411          2013.250       18.8                     390.96960   \n",
              "412          2013.000        8.1                     104.81010   \n",
              "413          2013.500        6.5                      90.45606   \n",
              "\n",
              "     convenience_stores  house_price_unit_area  \\\n",
              "0                    10                   37.9   \n",
              "1                     9                   42.2   \n",
              "2                     5                   47.3   \n",
              "3                     5                   54.8   \n",
              "4                     5                   43.1   \n",
              "..                  ...                    ...   \n",
              "409                   0                   15.4   \n",
              "410                   9                   50.0   \n",
              "411                   7                   40.6   \n",
              "412                   5                   52.5   \n",
              "413                   9                   63.9   \n",
              "\n",
              "     log10distance_nearest_MRT_station  \n",
              "0                             1.928799  \n",
              "1                             2.486565  \n",
              "2                             2.749724  \n",
              "3                             2.749724  \n",
              "4                             2.591697  \n",
              "..                                 ...  \n",
              "409                           3.610875  \n",
              "410                           1.956438  \n",
              "411                           2.592143  \n",
              "412                           2.020403  \n",
              "413                           1.956438  \n",
              "\n",
              "[414 rows x 6 columns]"
            ],
            "text/html": [
              "\n",
              "  <div id=\"df-9d8193e0-3c6e-472e-8b42-46e6e4d045a0\">\n",
              "    <div class=\"colab-df-container\">\n",
              "      <div>\n",
              "<style scoped>\n",
              "    .dataframe tbody tr th:only-of-type {\n",
              "        vertical-align: middle;\n",
              "    }\n",
              "\n",
              "    .dataframe tbody tr th {\n",
              "        vertical-align: top;\n",
              "    }\n",
              "\n",
              "    .dataframe thead th {\n",
              "        text-align: right;\n",
              "    }\n",
              "</style>\n",
              "<table border=\"1\" class=\"dataframe\">\n",
              "  <thead>\n",
              "    <tr style=\"text-align: right;\">\n",
              "      <th></th>\n",
              "      <th>transaction_date</th>\n",
              "      <th>house_age</th>\n",
              "      <th>distance_nearest_MRT_station</th>\n",
              "      <th>convenience_stores</th>\n",
              "      <th>house_price_unit_area</th>\n",
              "      <th>log10distance_nearest_MRT_station</th>\n",
              "    </tr>\n",
              "  </thead>\n",
              "  <tbody>\n",
              "    <tr>\n",
              "      <th>0</th>\n",
              "      <td>2012.917</td>\n",
              "      <td>32.0</td>\n",
              "      <td>84.87882</td>\n",
              "      <td>10</td>\n",
              "      <td>37.9</td>\n",
              "      <td>1.928799</td>\n",
              "    </tr>\n",
              "    <tr>\n",
              "      <th>1</th>\n",
              "      <td>2012.917</td>\n",
              "      <td>19.5</td>\n",
              "      <td>306.59470</td>\n",
              "      <td>9</td>\n",
              "      <td>42.2</td>\n",
              "      <td>2.486565</td>\n",
              "    </tr>\n",
              "    <tr>\n",
              "      <th>2</th>\n",
              "      <td>2013.583</td>\n",
              "      <td>13.3</td>\n",
              "      <td>561.98450</td>\n",
              "      <td>5</td>\n",
              "      <td>47.3</td>\n",
              "      <td>2.749724</td>\n",
              "    </tr>\n",
              "    <tr>\n",
              "      <th>3</th>\n",
              "      <td>2013.500</td>\n",
              "      <td>13.3</td>\n",
              "      <td>561.98450</td>\n",
              "      <td>5</td>\n",
              "      <td>54.8</td>\n",
              "      <td>2.749724</td>\n",
              "    </tr>\n",
              "    <tr>\n",
              "      <th>4</th>\n",
              "      <td>2012.833</td>\n",
              "      <td>5.0</td>\n",
              "      <td>390.56840</td>\n",
              "      <td>5</td>\n",
              "      <td>43.1</td>\n",
              "      <td>2.591697</td>\n",
              "    </tr>\n",
              "    <tr>\n",
              "      <th>...</th>\n",
              "      <td>...</td>\n",
              "      <td>...</td>\n",
              "      <td>...</td>\n",
              "      <td>...</td>\n",
              "      <td>...</td>\n",
              "      <td>...</td>\n",
              "    </tr>\n",
              "    <tr>\n",
              "      <th>409</th>\n",
              "      <td>2013.000</td>\n",
              "      <td>13.7</td>\n",
              "      <td>4082.01500</td>\n",
              "      <td>0</td>\n",
              "      <td>15.4</td>\n",
              "      <td>3.610875</td>\n",
              "    </tr>\n",
              "    <tr>\n",
              "      <th>410</th>\n",
              "      <td>2012.667</td>\n",
              "      <td>5.6</td>\n",
              "      <td>90.45606</td>\n",
              "      <td>9</td>\n",
              "      <td>50.0</td>\n",
              "      <td>1.956438</td>\n",
              "    </tr>\n",
              "    <tr>\n",
              "      <th>411</th>\n",
              "      <td>2013.250</td>\n",
              "      <td>18.8</td>\n",
              "      <td>390.96960</td>\n",
              "      <td>7</td>\n",
              "      <td>40.6</td>\n",
              "      <td>2.592143</td>\n",
              "    </tr>\n",
              "    <tr>\n",
              "      <th>412</th>\n",
              "      <td>2013.000</td>\n",
              "      <td>8.1</td>\n",
              "      <td>104.81010</td>\n",
              "      <td>5</td>\n",
              "      <td>52.5</td>\n",
              "      <td>2.020403</td>\n",
              "    </tr>\n",
              "    <tr>\n",
              "      <th>413</th>\n",
              "      <td>2013.500</td>\n",
              "      <td>6.5</td>\n",
              "      <td>90.45606</td>\n",
              "      <td>9</td>\n",
              "      <td>63.9</td>\n",
              "      <td>1.956438</td>\n",
              "    </tr>\n",
              "  </tbody>\n",
              "</table>\n",
              "<p>414 rows × 6 columns</p>\n",
              "</div>\n",
              "      <button class=\"colab-df-convert\" onclick=\"convertToInteractive('df-9d8193e0-3c6e-472e-8b42-46e6e4d045a0')\"\n",
              "              title=\"Convert this dataframe to an interactive table.\"\n",
              "              style=\"display:none;\">\n",
              "        \n",
              "  <svg xmlns=\"http://www.w3.org/2000/svg\" height=\"24px\"viewBox=\"0 0 24 24\"\n",
              "       width=\"24px\">\n",
              "    <path d=\"M0 0h24v24H0V0z\" fill=\"none\"/>\n",
              "    <path d=\"M18.56 5.44l.94 2.06.94-2.06 2.06-.94-2.06-.94-.94-2.06-.94 2.06-2.06.94zm-11 1L8.5 8.5l.94-2.06 2.06-.94-2.06-.94L8.5 2.5l-.94 2.06-2.06.94zm10 10l.94 2.06.94-2.06 2.06-.94-2.06-.94-.94-2.06-.94 2.06-2.06.94z\"/><path d=\"M17.41 7.96l-1.37-1.37c-.4-.4-.92-.59-1.43-.59-.52 0-1.04.2-1.43.59L10.3 9.45l-7.72 7.72c-.78.78-.78 2.05 0 2.83L4 21.41c.39.39.9.59 1.41.59.51 0 1.02-.2 1.41-.59l7.78-7.78 2.81-2.81c.8-.78.8-2.07 0-2.86zM5.41 20L4 18.59l7.72-7.72 1.47 1.35L5.41 20z\"/>\n",
              "  </svg>\n",
              "      </button>\n",
              "      \n",
              "  <style>\n",
              "    .colab-df-container {\n",
              "      display:flex;\n",
              "      flex-wrap:wrap;\n",
              "      gap: 12px;\n",
              "    }\n",
              "\n",
              "    .colab-df-convert {\n",
              "      background-color: #E8F0FE;\n",
              "      border: none;\n",
              "      border-radius: 50%;\n",
              "      cursor: pointer;\n",
              "      display: none;\n",
              "      fill: #1967D2;\n",
              "      height: 32px;\n",
              "      padding: 0 0 0 0;\n",
              "      width: 32px;\n",
              "    }\n",
              "\n",
              "    .colab-df-convert:hover {\n",
              "      background-color: #E2EBFA;\n",
              "      box-shadow: 0px 1px 2px rgba(60, 64, 67, 0.3), 0px 1px 3px 1px rgba(60, 64, 67, 0.15);\n",
              "      fill: #174EA6;\n",
              "    }\n",
              "\n",
              "    [theme=dark] .colab-df-convert {\n",
              "      background-color: #3B4455;\n",
              "      fill: #D2E3FC;\n",
              "    }\n",
              "\n",
              "    [theme=dark] .colab-df-convert:hover {\n",
              "      background-color: #434B5C;\n",
              "      box-shadow: 0px 1px 3px 1px rgba(0, 0, 0, 0.15);\n",
              "      filter: drop-shadow(0px 1px 2px rgba(0, 0, 0, 0.3));\n",
              "      fill: #FFFFFF;\n",
              "    }\n",
              "  </style>\n",
              "\n",
              "      <script>\n",
              "        const buttonEl =\n",
              "          document.querySelector('#df-9d8193e0-3c6e-472e-8b42-46e6e4d045a0 button.colab-df-convert');\n",
              "        buttonEl.style.display =\n",
              "          google.colab.kernel.accessAllowed ? 'block' : 'none';\n",
              "\n",
              "        async function convertToInteractive(key) {\n",
              "          const element = document.querySelector('#df-9d8193e0-3c6e-472e-8b42-46e6e4d045a0');\n",
              "          const dataTable =\n",
              "            await google.colab.kernel.invokeFunction('convertToInteractive',\n",
              "                                                     [key], {});\n",
              "          if (!dataTable) return;\n",
              "\n",
              "          const docLinkHtml = 'Like what you see? Visit the ' +\n",
              "            '<a target=\"_blank\" href=https://colab.research.google.com/notebooks/data_table.ipynb>data table notebook</a>'\n",
              "            + ' to learn more about interactive tables.';\n",
              "          element.innerHTML = '';\n",
              "          dataTable['output_type'] = 'display_data';\n",
              "          await google.colab.output.renderOutput(dataTable, element);\n",
              "          const docLink = document.createElement('div');\n",
              "          docLink.innerHTML = docLinkHtml;\n",
              "          element.appendChild(docLink);\n",
              "        }\n",
              "      </script>\n",
              "    </div>\n",
              "  </div>\n",
              "  "
            ]
          },
          "metadata": {},
          "execution_count": 237
        }
      ],
      "source": [
        "realest[\"log10distance_nearest_MRT_station\"] = np.log10(realest[\"distance_nearest_MRT_station\"])\n",
        "realest"
      ]
    },
    {
      "cell_type": "markdown",
      "metadata": {
        "id": "RK2zIVwAVSlx"
      },
      "source": [
        "Standardize your feature and target data (setting their mean to 0 and standard deviation to 1)"
      ]
    },
    {
      "cell_type": "code",
      "execution_count": 238,
      "metadata": {
        "colab": {
          "base_uri": "https://localhost:8080/"
        },
        "id": "skSCLwcnfbLh",
        "outputId": "ded36e0e-7e8f-422f-a78f-5afa144b1fe2"
      },
      "outputs": [
        {
          "output_type": "execute_result",
          "data": {
            "text/plain": [
              "0      1.928799\n",
              "1      2.486565\n",
              "2      2.749724\n",
              "3      2.749724\n",
              "4      2.591697\n",
              "         ...   \n",
              "409    3.610875\n",
              "410    1.956438\n",
              "411    2.592143\n",
              "412    2.020403\n",
              "413    1.956438\n",
              "Name: log10distance_nearest_MRT_station, Length: 414, dtype: float64"
            ]
          },
          "metadata": {},
          "execution_count": 238
        }
      ],
      "source": [
        "log10distance = realest[\"log10distance_nearest_MRT_station\"]\n",
        "log10distance"
      ]
    },
    {
      "cell_type": "markdown",
      "metadata": {
        "id": "RYDBgtWMVlSg"
      },
      "source": [
        "Using the code library of your choice, fit a linear regression model to the data"
      ]
    },
    {
      "cell_type": "code",
      "execution_count": 239,
      "metadata": {
        "id": "ZtACa6beRcun"
      },
      "outputs": [],
      "source": [
        "feature = realest [[\"log10distance_nearest_MRT_station\"]]\n",
        "target = realest[\"house_price_unit_area\"]"
      ]
    },
    {
      "cell_type": "code",
      "execution_count": 240,
      "metadata": {
        "colab": {
          "base_uri": "https://localhost:8080/"
        },
        "id": "vuSHooo5RtPn",
        "outputId": "dada102e-f805-44a1-a718-c7eb45dab1e3"
      },
      "outputs": [
        {
          "output_type": "execute_result",
          "data": {
            "text/plain": [
              "(414, 1)"
            ]
          },
          "metadata": {},
          "execution_count": 240
        }
      ],
      "source": [
        "feature.shape"
      ]
    },
    {
      "cell_type": "code",
      "execution_count": 241,
      "metadata": {
        "colab": {
          "base_uri": "https://localhost:8080/"
        },
        "id": "VMeV3H8xRvaX",
        "outputId": "7b0e2dd8-0914-4a5f-bf34-e6d629d83283"
      },
      "outputs": [
        {
          "output_type": "execute_result",
          "data": {
            "text/plain": [
              "(414,)"
            ]
          },
          "metadata": {},
          "execution_count": 241
        }
      ],
      "source": [
        "target.shape"
      ]
    },
    {
      "cell_type": "code",
      "execution_count": 242,
      "metadata": {
        "id": "-8HL4HDkSTnn"
      },
      "outputs": [],
      "source": [
        "slr = LinearRegression()"
      ]
    },
    {
      "cell_type": "code",
      "execution_count": 243,
      "metadata": {
        "colab": {
          "base_uri": "https://localhost:8080/"
        },
        "id": "Xyw8BKo9SlXf",
        "outputId": "22e5c111-a90f-44a6-c157-05d848f82ede"
      },
      "outputs": [
        {
          "output_type": "execute_result",
          "data": {
            "text/plain": [
              "LinearRegression()"
            ]
          },
          "metadata": {},
          "execution_count": 243
        }
      ],
      "source": [
        "slr.fit(feature,target)"
      ]
    },
    {
      "cell_type": "code",
      "execution_count": 244,
      "metadata": {
        "colab": {
          "base_uri": "https://localhost:8080/"
        },
        "id": "ztlXagfeVaQF",
        "outputId": "a77a6091-6774-4230-cf99-595e3ffbd29c"
      },
      "outputs": [
        {
          "output_type": "execute_result",
          "data": {
            "text/plain": [
              "95.01686471224157"
            ]
          },
          "metadata": {},
          "execution_count": 244
        }
      ],
      "source": [
        "slr.intercept_"
      ]
    },
    {
      "cell_type": "code",
      "source": [
        "slr.coef_"
      ],
      "metadata": {
        "colab": {
          "base_uri": "https://localhost:8080/"
        },
        "id": "zbxdiOPMjJ0p",
        "outputId": "21896dec-c941-41b4-a8ce-b2e1b52b250f"
      },
      "execution_count": 351,
      "outputs": [
        {
          "output_type": "execute_result",
          "data": {
            "text/plain": [
              "array([-20.54720171])"
            ]
          },
          "metadata": {},
          "execution_count": 351
        }
      ]
    },
    {
      "cell_type": "code",
      "execution_count": 245,
      "metadata": {
        "id": "dLGBEGv8Xch4"
      },
      "outputs": [],
      "source": [
        "realest[\"prediction\"] = slr.predict(feature)"
      ]
    },
    {
      "cell_type": "code",
      "execution_count": 246,
      "metadata": {
        "colab": {
          "base_uri": "https://localhost:8080/",
          "height": 206
        },
        "id": "cqLbN23bYy29",
        "outputId": "d8b8dbdb-8870-4723-a961-5c9ac4735b83"
      },
      "outputs": [
        {
          "output_type": "execute_result",
          "data": {
            "text/plain": [
              "   transaction_date  house_age  distance_nearest_MRT_station  \\\n",
              "0          2012.917       32.0                      84.87882   \n",
              "1          2012.917       19.5                     306.59470   \n",
              "2          2013.583       13.3                     561.98450   \n",
              "3          2013.500       13.3                     561.98450   \n",
              "4          2012.833        5.0                     390.56840   \n",
              "\n",
              "   convenience_stores  house_price_unit_area  \\\n",
              "0                  10                   37.9   \n",
              "1                   9                   42.2   \n",
              "2                   5                   47.3   \n",
              "3                   5                   54.8   \n",
              "4                   5                   43.1   \n",
              "\n",
              "   log10distance_nearest_MRT_station  prediction  \n",
              "0                           1.928799   55.385436  \n",
              "1                           2.486565   43.924919  \n",
              "2                           2.749724   38.517724  \n",
              "3                           2.749724   38.517724  \n",
              "4                           2.591697   41.764742  "
            ],
            "text/html": [
              "\n",
              "  <div id=\"df-a2320ebd-3bc2-474d-8e6c-526da480175c\">\n",
              "    <div class=\"colab-df-container\">\n",
              "      <div>\n",
              "<style scoped>\n",
              "    .dataframe tbody tr th:only-of-type {\n",
              "        vertical-align: middle;\n",
              "    }\n",
              "\n",
              "    .dataframe tbody tr th {\n",
              "        vertical-align: top;\n",
              "    }\n",
              "\n",
              "    .dataframe thead th {\n",
              "        text-align: right;\n",
              "    }\n",
              "</style>\n",
              "<table border=\"1\" class=\"dataframe\">\n",
              "  <thead>\n",
              "    <tr style=\"text-align: right;\">\n",
              "      <th></th>\n",
              "      <th>transaction_date</th>\n",
              "      <th>house_age</th>\n",
              "      <th>distance_nearest_MRT_station</th>\n",
              "      <th>convenience_stores</th>\n",
              "      <th>house_price_unit_area</th>\n",
              "      <th>log10distance_nearest_MRT_station</th>\n",
              "      <th>prediction</th>\n",
              "    </tr>\n",
              "  </thead>\n",
              "  <tbody>\n",
              "    <tr>\n",
              "      <th>0</th>\n",
              "      <td>2012.917</td>\n",
              "      <td>32.0</td>\n",
              "      <td>84.87882</td>\n",
              "      <td>10</td>\n",
              "      <td>37.9</td>\n",
              "      <td>1.928799</td>\n",
              "      <td>55.385436</td>\n",
              "    </tr>\n",
              "    <tr>\n",
              "      <th>1</th>\n",
              "      <td>2012.917</td>\n",
              "      <td>19.5</td>\n",
              "      <td>306.59470</td>\n",
              "      <td>9</td>\n",
              "      <td>42.2</td>\n",
              "      <td>2.486565</td>\n",
              "      <td>43.924919</td>\n",
              "    </tr>\n",
              "    <tr>\n",
              "      <th>2</th>\n",
              "      <td>2013.583</td>\n",
              "      <td>13.3</td>\n",
              "      <td>561.98450</td>\n",
              "      <td>5</td>\n",
              "      <td>47.3</td>\n",
              "      <td>2.749724</td>\n",
              "      <td>38.517724</td>\n",
              "    </tr>\n",
              "    <tr>\n",
              "      <th>3</th>\n",
              "      <td>2013.500</td>\n",
              "      <td>13.3</td>\n",
              "      <td>561.98450</td>\n",
              "      <td>5</td>\n",
              "      <td>54.8</td>\n",
              "      <td>2.749724</td>\n",
              "      <td>38.517724</td>\n",
              "    </tr>\n",
              "    <tr>\n",
              "      <th>4</th>\n",
              "      <td>2012.833</td>\n",
              "      <td>5.0</td>\n",
              "      <td>390.56840</td>\n",
              "      <td>5</td>\n",
              "      <td>43.1</td>\n",
              "      <td>2.591697</td>\n",
              "      <td>41.764742</td>\n",
              "    </tr>\n",
              "  </tbody>\n",
              "</table>\n",
              "</div>\n",
              "      <button class=\"colab-df-convert\" onclick=\"convertToInteractive('df-a2320ebd-3bc2-474d-8e6c-526da480175c')\"\n",
              "              title=\"Convert this dataframe to an interactive table.\"\n",
              "              style=\"display:none;\">\n",
              "        \n",
              "  <svg xmlns=\"http://www.w3.org/2000/svg\" height=\"24px\"viewBox=\"0 0 24 24\"\n",
              "       width=\"24px\">\n",
              "    <path d=\"M0 0h24v24H0V0z\" fill=\"none\"/>\n",
              "    <path d=\"M18.56 5.44l.94 2.06.94-2.06 2.06-.94-2.06-.94-.94-2.06-.94 2.06-2.06.94zm-11 1L8.5 8.5l.94-2.06 2.06-.94-2.06-.94L8.5 2.5l-.94 2.06-2.06.94zm10 10l.94 2.06.94-2.06 2.06-.94-2.06-.94-.94-2.06-.94 2.06-2.06.94z\"/><path d=\"M17.41 7.96l-1.37-1.37c-.4-.4-.92-.59-1.43-.59-.52 0-1.04.2-1.43.59L10.3 9.45l-7.72 7.72c-.78.78-.78 2.05 0 2.83L4 21.41c.39.39.9.59 1.41.59.51 0 1.02-.2 1.41-.59l7.78-7.78 2.81-2.81c.8-.78.8-2.07 0-2.86zM5.41 20L4 18.59l7.72-7.72 1.47 1.35L5.41 20z\"/>\n",
              "  </svg>\n",
              "      </button>\n",
              "      \n",
              "  <style>\n",
              "    .colab-df-container {\n",
              "      display:flex;\n",
              "      flex-wrap:wrap;\n",
              "      gap: 12px;\n",
              "    }\n",
              "\n",
              "    .colab-df-convert {\n",
              "      background-color: #E8F0FE;\n",
              "      border: none;\n",
              "      border-radius: 50%;\n",
              "      cursor: pointer;\n",
              "      display: none;\n",
              "      fill: #1967D2;\n",
              "      height: 32px;\n",
              "      padding: 0 0 0 0;\n",
              "      width: 32px;\n",
              "    }\n",
              "\n",
              "    .colab-df-convert:hover {\n",
              "      background-color: #E2EBFA;\n",
              "      box-shadow: 0px 1px 2px rgba(60, 64, 67, 0.3), 0px 1px 3px 1px rgba(60, 64, 67, 0.15);\n",
              "      fill: #174EA6;\n",
              "    }\n",
              "\n",
              "    [theme=dark] .colab-df-convert {\n",
              "      background-color: #3B4455;\n",
              "      fill: #D2E3FC;\n",
              "    }\n",
              "\n",
              "    [theme=dark] .colab-df-convert:hover {\n",
              "      background-color: #434B5C;\n",
              "      box-shadow: 0px 1px 3px 1px rgba(0, 0, 0, 0.15);\n",
              "      filter: drop-shadow(0px 1px 2px rgba(0, 0, 0, 0.3));\n",
              "      fill: #FFFFFF;\n",
              "    }\n",
              "  </style>\n",
              "\n",
              "      <script>\n",
              "        const buttonEl =\n",
              "          document.querySelector('#df-a2320ebd-3bc2-474d-8e6c-526da480175c button.colab-df-convert');\n",
              "        buttonEl.style.display =\n",
              "          google.colab.kernel.accessAllowed ? 'block' : 'none';\n",
              "\n",
              "        async function convertToInteractive(key) {\n",
              "          const element = document.querySelector('#df-a2320ebd-3bc2-474d-8e6c-526da480175c');\n",
              "          const dataTable =\n",
              "            await google.colab.kernel.invokeFunction('convertToInteractive',\n",
              "                                                     [key], {});\n",
              "          if (!dataTable) return;\n",
              "\n",
              "          const docLinkHtml = 'Like what you see? Visit the ' +\n",
              "            '<a target=\"_blank\" href=https://colab.research.google.com/notebooks/data_table.ipynb>data table notebook</a>'\n",
              "            + ' to learn more about interactive tables.';\n",
              "          element.innerHTML = '';\n",
              "          dataTable['output_type'] = 'display_data';\n",
              "          await google.colab.output.renderOutput(dataTable, element);\n",
              "          const docLink = document.createElement('div');\n",
              "          docLink.innerHTML = docLinkHtml;\n",
              "          element.appendChild(docLink);\n",
              "        }\n",
              "      </script>\n",
              "    </div>\n",
              "  </div>\n",
              "  "
            ]
          },
          "metadata": {},
          "execution_count": 246
        }
      ],
      "source": [
        "realest.head()"
      ]
    },
    {
      "cell_type": "markdown",
      "metadata": {
        "id": "8dPjzLe7X0JY"
      },
      "source": [
        "*shows the insertion of a new column \"prediction\"*"
      ]
    },
    {
      "cell_type": "code",
      "execution_count": 247,
      "metadata": {
        "colab": {
          "base_uri": "https://localhost:8080/",
          "height": 281
        },
        "id": "6vJcayA4bQi4",
        "outputId": "23785905-3167-4152-922b-dbe0939373d0"
      },
      "outputs": [
        {
          "output_type": "display_data",
          "data": {
            "text/plain": [
              "<Figure size 432x288 with 1 Axes>"
            ],
            "image/png": "[encoded data removed]"
          },
          "metadata": {
            "needs_background": "light"
          }
        }
      ],
      "source": [
        "feature.hist();"
      ]
    },
    {
      "cell_type": "code",
      "execution_count": 248,
      "metadata": {
        "colab": {
          "base_uri": "https://localhost:8080/",
          "height": 268
        },
        "id": "ZVL5_MbKbhGf",
        "outputId": "1cdb7642-8a7a-4b2b-9aa8-1d4c7339300a"
      },
      "outputs": [
        {
          "output_type": "display_data",
          "data": {
            "text/plain": [
              "<Figure size 432x288 with 1 Axes>"
            ],
            "image/png": "[encoded data removed]"
          },
          "metadata": {
            "needs_background": "light"
          }
        }
      ],
      "source": [
        "target.hist();"
      ]
    },
    {
      "cell_type": "code",
      "execution_count": 289,
      "metadata": {
        "id": "2sNPcQgeb2cQ"
      },
      "outputs": [],
      "source": [
        "feature_s = (feature - feature.mean()) / feature.std()\n",
        "target_s = (target - target.mean()) / target.std()"
      ]
    },
    {
      "cell_type": "code",
      "source": [
        "feature_s.shape"
      ],
      "metadata": {
        "colab": {
          "base_uri": "https://localhost:8080/"
        },
        "id": "JVz3NatVaHP7",
        "outputId": "8a35aae4-0bff-497e-dbd2-357ae3b1beed"
      },
      "execution_count": 284,
      "outputs": [
        {
          "output_type": "execute_result",
          "data": {
            "text/plain": [
              "(414, 1)"
            ]
          },
          "metadata": {},
          "execution_count": 284
        }
      ]
    },
    {
      "cell_type": "code",
      "source": [
        "t =target_s.values.reshape(-1,1)"
      ],
      "metadata": {
        "id": "-Jw7iR4waMY7"
      },
      "execution_count": 285,
      "outputs": []
    },
    {
      "cell_type": "code",
      "source": [
        "slr_s = LinearRegression()"
      ],
      "metadata": {
        "id": "KlmEGBvBZM08"
      },
      "execution_count": 292,
      "outputs": []
    },
    {
      "cell_type": "code",
      "source": [
        "slr_s.fit(feature_s, t)"
      ],
      "metadata": {
        "colab": {
          "base_uri": "https://localhost:8080/"
        },
        "id": "RIKRqNFVZ_vS",
        "outputId": "d5bae36e-d299-4808-e5b3-394ebcdd5b79"
      },
      "execution_count": 293,
      "outputs": [
        {
          "output_type": "execute_result",
          "data": {
            "text/plain": [
              "LinearRegression()"
            ]
          },
          "metadata": {},
          "execution_count": 293
        }
      ]
    },
    {
      "cell_type": "code",
      "source": [
        "slr_s.intercept_[0]"
      ],
      "metadata": {
        "colab": {
          "base_uri": "https://localhost:8080/"
        },
        "id": "4Rd7kIL2bG5_",
        "outputId": "fadc0cad-1f09-439d-ca0e-04a7710e258a"
      },
      "execution_count": 352,
      "outputs": [
        {
          "output_type": "execute_result",
          "data": {
            "text/plain": [
              "-7.789490616431278e-17"
            ]
          },
          "metadata": {},
          "execution_count": 352
        }
      ]
    },
    {
      "cell_type": "code",
      "source": [
        "slr_s.score(feature_s, target_s)"
      ],
      "metadata": {
        "colab": {
          "base_uri": "https://localhost:8080/"
        },
        "id": "HVHoAPBpbWBt",
        "outputId": "2870245d-d43c-4964-ffc2-a3aca5c6f004"
      },
      "execution_count": 312,
      "outputs": [
        {
          "output_type": "execute_result",
          "data": {
            "text/plain": [
              "0.5392532390657542"
            ]
          },
          "metadata": {},
          "execution_count": 312
        }
      ]
    },
    {
      "cell_type": "code",
      "execution_count": 313,
      "metadata": {
        "colab": {
          "base_uri": "https://localhost:8080/",
          "height": 281
        },
        "id": "smWZNTOvcfbI",
        "outputId": "84ab9f75-15fa-4b1a-92f4-48b64ec22155"
      },
      "outputs": [
        {
          "output_type": "display_data",
          "data": {
            "text/plain": [
              "<Figure size 432x288 with 1 Axes>"
            ],
            "image/png": "[encoded data removed]"
          },
          "metadata": {
            "needs_background": "light"
          }
        }
      ],
      "source": [
        "feature_s.hist();"
      ]
    },
    {
      "cell_type": "code",
      "execution_count": 314,
      "metadata": {
        "colab": {
          "base_uri": "https://localhost:8080/",
          "height": 268
        },
        "id": "IlrvHL9zdHCI",
        "outputId": "02dac04f-06ef-46ca-bc57-7bd2c94105f6"
      },
      "outputs": [
        {
          "output_type": "display_data",
          "data": {
            "text/plain": [
              "<Figure size 432x288 with 1 Axes>"
            ],
            "image/png": "[encoded data removed]"
          },
          "metadata": {
            "needs_background": "light"
          }
        }
      ],
      "source": [
        "target_s.hist();"
      ]
    },
    {
      "cell_type": "markdown",
      "metadata": {
        "id": "k_hktZmTVs6m"
      },
      "source": [
        "Print both the $R^2$ and Adjusted-$R^2$ of this model \n",
        "\n",
        "(+1 bonus point for using the `.format()` method in `print` to show the two values and round them to 3 decimal places)"
      ]
    },
    {
      "cell_type": "code",
      "execution_count": 315,
      "metadata": {
        "id": "WIWsXaPKVdTr",
        "colab": {
          "base_uri": "https://localhost:8080/"
        },
        "outputId": "6b05860f-3cca-4bfd-c975-f4ed5e00a0fa"
      },
      "outputs": [
        {
          "output_type": "execute_result",
          "data": {
            "text/plain": [
              "0.5392532390657542"
            ]
          },
          "metadata": {},
          "execution_count": 315
        }
      ],
      "source": [
        "r2 = slr.score(feature, target)\n",
        "r2"
      ]
    },
    {
      "cell_type": "code",
      "execution_count": 316,
      "metadata": {
        "colab": {
          "base_uri": "https://localhost:8080/"
        },
        "id": "oOQ2I1Y2Spfu",
        "outputId": "c5115f8d-742a-40db-e5eb-877bc26a1812"
      },
      "outputs": [
        {
          "output_type": "stream",
          "name": "stdout",
          "text": [
            "The r^2 score of the model is 0.539\n"
          ]
        }
      ],
      "source": [
        "print(\"The r^2 score of the model is {0:.3f}\".format(r2))"
      ]
    },
    {
      "cell_type": "code",
      "source": [
        "x= feature\n",
        "y = target\n",
        "x= sm.add_constant(x)\n",
        "x.head()\n",
        "model1 = sm.OLS(y,x)\n",
        "results = model1.fit()\n",
        "print(results.summary())"
      ],
      "metadata": {
        "colab": {
          "base_uri": "https://localhost:8080/"
        },
        "id": "2lKn5JTAGsnh",
        "outputId": "f835214c-c787-4523-db23-2e6d7a8fb8a8"
      },
      "execution_count": 317,
      "outputs": [
        {
          "output_type": "stream",
          "name": "stdout",
          "text": [
            "                              OLS Regression Results                             \n",
            "=================================================================================\n",
            "Dep. Variable:     house_price_unit_area   R-squared:                       0.539\n",
            "Model:                               OLS   Adj. R-squared:                  0.538\n",
            "Method:                    Least Squares   F-statistic:                     482.2\n",
            "Date:                   Thu, 27 Oct 2022   Prob (F-statistic):           2.52e-71\n",
            "Time:                           03:33:31   Log-Likelihood:                -1507.3\n",
            "No. Observations:                    414   AIC:                             3019.\n",
            "Df Residuals:                        412   BIC:                             3027.\n",
            "Df Model:                              1                                         \n",
            "Covariance Type:               nonrobust                                         \n",
            "=====================================================================================================\n",
            "                                        coef    std err          t      P>|t|      [0.025      0.975]\n",
            "-----------------------------------------------------------------------------------------------------\n",
            "const                                95.0169      2.637     36.034      0.000      89.833     100.200\n",
            "log10distance_nearest_MRT_station   -20.5472      0.936    -21.959      0.000     -22.387     -18.708\n",
            "==============================================================================\n",
            "Omnibus:                      178.772   Durbin-Watson:                   2.109\n",
            "Prob(Omnibus):                  0.000   Jarque-Bera (JB):             1764.720\n",
            "Skew:                           1.566   Prob(JB):                         0.00\n",
            "Kurtosis:                      12.617   Cond. No.                         18.4\n",
            "==============================================================================\n",
            "\n",
            "Notes:\n",
            "[1] Standard Errors assume that the covariance matrix of the errors is correctly specified.\n"
          ]
        },
        {
          "output_type": "stream",
          "name": "stderr",
          "text": [
            "/usr/local/lib/python3.7/dist-packages/statsmodels/tsa/tsatools.py:142: FutureWarning: In a future version of pandas all arguments of concat except for the argument 'objs' will be keyword-only\n",
            "  x = pd.concat(x[::order], 1)\n"
          ]
        }
      ]
    },
    {
      "cell_type": "code",
      "source": [
        "print(\"The adjusted r^2 value for the model is 0.538\")"
      ],
      "metadata": {
        "colab": {
          "base_uri": "https://localhost:8080/"
        },
        "id": "TSOZQycUMQYl",
        "outputId": "a1eae514-d62a-4175-fae3-3bbe1e511de5"
      },
      "execution_count": 318,
      "outputs": [
        {
          "output_type": "stream",
          "name": "stdout",
          "text": [
            "The adjusted r^2 value for the model is 0.538\n"
          ]
        }
      ]
    },
    {
      "cell_type": "markdown",
      "metadata": {
        "id": "6spcmbZ-XQhs"
      },
      "source": [
        "Print the coefficient (slope) of the line"
      ]
    },
    {
      "cell_type": "code",
      "source": [
        "slr_s.coef_[0,0]"
      ],
      "metadata": {
        "colab": {
          "base_uri": "https://localhost:8080/"
        },
        "id": "eP_UXrRWbJ6Q",
        "outputId": "c738a245-ac28-47d2-f855-36f7dda456db"
      },
      "execution_count": 354,
      "outputs": [
        {
          "output_type": "execute_result",
          "data": {
            "text/plain": [
              "-0.7343386405914879"
            ]
          },
          "metadata": {},
          "execution_count": 354
        }
      ]
    },
    {
      "cell_type": "code",
      "execution_count": 355,
      "metadata": {
        "colab": {
          "base_uri": "https://localhost:8080/"
        },
        "id": "isrX_7dQVdFt",
        "outputId": "b5cd7dac-ae99-4ce8-ef2f-436509f536c7"
      },
      "outputs": [
        {
          "output_type": "stream",
          "name": "stdout",
          "text": [
            "The coefficient of the line is -0.734\n"
          ]
        }
      ],
      "source": [
        "print(\"The coefficient of the line is {0:.3f}\".format(slr_s.coef_[0,0]))"
      ]
    },
    {
      "cell_type": "markdown",
      "metadata": {
        "id": "EYs3arrqePbn"
      },
      "source": [
        "From looking at the coefficient, what can you say about the relationship between the feature (the distance to the nearest MRT station) and the target (the house price/unit area)?"
      ]
    },
    {
      "cell_type": "markdown",
      "metadata": {
        "id": "gBsZRNV3ePV5"
      },
      "source": [
        "*The relationship between the feature and the target variable is weak*"
      ]
    },
    {
      "cell_type": "markdown",
      "metadata": {
        "id": "MHqiI52lXvSr"
      },
      "source": [
        "Plot the actual vs. model predicted values for the house price/unit area for all log10(distance to MRT station) values in the data"
      ]
    },
    {
      "cell_type": "code",
      "source": [
        "realest[\"prediction\"] = slr_s.predict(feature_s)"
      ],
      "metadata": {
        "id": "yMfiMf1ZhoiD"
      },
      "execution_count": 341,
      "outputs": []
    },
    {
      "cell_type": "code",
      "execution_count": 342,
      "metadata": {
        "colab": {
          "base_uri": "https://localhost:8080/",
          "height": 280
        },
        "id": "GutwldfMY-jV",
        "outputId": "ecb3ba07-1995-45d6-ab6d-e977e4b19872"
      },
      "outputs": [
        {
          "output_type": "display_data",
          "data": {
            "text/plain": [
              "<Figure size 432x288 with 1 Axes>"
            ],
            "image/png": "[encoded data removed]"
          },
          "metadata": {
            "needs_background": "light"
          }
        }
      ],
      "source": [
        "realest.plot(\"house_price_unit_area\", \"prediction\", kind = \"scatter\", alpha = 0.5);"
      ]
    },
    {
      "cell_type": "markdown",
      "metadata": {
        "id": "gYWseu8hNgzd"
      },
      "source": [
        "***Graph of prediction against house_price_unit_area***"
      ]
    },
    {
      "cell_type": "markdown",
      "metadata": {
        "id": "iFAO4QfCbgGN"
      },
      "source": [
        "## Task 2: multiple linear regression (all variables)\n",
        "\n",
        "create a multiple regression model that utilizes all features to predict the house price/unit area, and find the model's metrics ($R^2$ and Adjusted-$R^2$), as well as the the coeffient for each variable.\n",
        "\n",
        "---"
      ]
    },
    {
      "cell_type": "markdown",
      "metadata": {
        "id": "PT2-ClOFcXjQ"
      },
      "source": [
        "Make sure all your features and target columns are standardized, and that you are using all the features in the data frame (also make sure to use ```log10(distance_nearest_MRT_station)``` rather than ```distance_nearest_MRT_station``` as a feature)"
      ]
    },
    {
      "cell_type": "code",
      "execution_count": 259,
      "metadata": {
        "id": "qc0keSNZZ4Zu"
      },
      "outputs": [],
      "source": [
        "features = realest.loc[:, ~realest.columns.isin(['distance_nearest_MRT_station', 'house_price_unit_area', 'prediction'])]\n",
        "targetm = realest['house_price_unit_area']"
      ]
    },
    {
      "cell_type": "markdown",
      "metadata": {
        "id": "sSYvBMkXcxjx"
      },
      "source": [
        "Using the code library of your choice, fit a multiple linear regression model to the data"
      ]
    },
    {
      "cell_type": "code",
      "execution_count": 260,
      "metadata": {
        "id": "_EPrB-FdZ4cE"
      },
      "outputs": [],
      "source": [
        "mlr = LinearRegression()"
      ]
    },
    {
      "cell_type": "code",
      "execution_count": 261,
      "metadata": {
        "colab": {
          "base_uri": "https://localhost:8080/"
        },
        "id": "hsJpokolIxJ9",
        "outputId": "b1de290d-e0c6-4294-b916-06b696488f7f"
      },
      "outputs": [
        {
          "output_type": "execute_result",
          "data": {
            "text/plain": [
              "LinearRegression()"
            ]
          },
          "metadata": {},
          "execution_count": 261
        }
      ],
      "source": [
        "mlr.fit(features, targetm)"
      ]
    },
    {
      "cell_type": "code",
      "execution_count": 263,
      "metadata": {
        "colab": {
          "base_uri": "https://localhost:8080/",
          "height": 608
        },
        "id": "U_jnDDAYZd1N",
        "outputId": "ae27fff0-ce42-4d7a-f217-7fc6951f50a2"
      },
      "outputs": [
        {
          "output_type": "display_data",
          "data": {
            "text/plain": [
              "<Figure size 720x720 with 4 Axes>"
            ],
            "image/png": "[encoded data removed]"
          },
          "metadata": {
            "needs_background": "light"
          }
        }
      ],
      "source": [
        "features.hist(figsize=(10,10));"
      ]
    },
    {
      "cell_type": "code",
      "execution_count": 264,
      "metadata": {
        "colab": {
          "base_uri": "https://localhost:8080/",
          "height": 268
        },
        "id": "UtmGusWfZm_4",
        "outputId": "966b1483-4354-430f-d032-183fc2b62753"
      },
      "outputs": [
        {
          "output_type": "display_data",
          "data": {
            "text/plain": [
              "<Figure size 432x288 with 1 Axes>"
            ],
            "image/png": "[encoded data removed]"
          },
          "metadata": {
            "needs_background": "light"
          }
        }
      ],
      "source": [
        "targetm.hist();"
      ]
    },
    {
      "cell_type": "code",
      "execution_count": 265,
      "metadata": {
        "id": "BSMaKv7mZz8W"
      },
      "outputs": [],
      "source": [
        "features_s = (features - features.mean()) / features.std()\n",
        "targetm_s = (targetm - targetm.mean()) / targetm.std()"
      ]
    },
    {
      "cell_type": "code",
      "source": [
        "mlr_s = LinearRegression()"
      ],
      "metadata": {
        "id": "lshiEo5feulF"
      },
      "execution_count": 303,
      "outputs": []
    },
    {
      "cell_type": "code",
      "source": [
        "mlr_s.fit(features_s, targetm_s)"
      ],
      "metadata": {
        "colab": {
          "base_uri": "https://localhost:8080/"
        },
        "id": "fSw7f6P6epZR",
        "outputId": "e46fd8c1-49d0-491b-f65c-d65fcd09889a"
      },
      "execution_count": 304,
      "outputs": [
        {
          "output_type": "execute_result",
          "data": {
            "text/plain": [
              "LinearRegression()"
            ]
          },
          "metadata": {},
          "execution_count": 304
        }
      ]
    },
    {
      "cell_type": "code",
      "execution_count": 266,
      "metadata": {
        "colab": {
          "base_uri": "https://localhost:8080/",
          "height": 608
        },
        "id": "gQv1krJvZ9JV",
        "outputId": "a1938636-3a30-47cf-d1d8-d367474cc1cb"
      },
      "outputs": [
        {
          "output_type": "display_data",
          "data": {
            "text/plain": [
              "<Figure size 720x720 with 4 Axes>"
            ],
            "image/png": "[encoded data removed]"
          },
          "metadata": {
            "needs_background": "light"
          }
        }
      ],
      "source": [
        "features_s.hist(figsize=(10,10));"
      ]
    },
    {
      "cell_type": "code",
      "execution_count": 267,
      "metadata": {
        "colab": {
          "base_uri": "https://localhost:8080/",
          "height": 268
        },
        "id": "FLM3-UKhaDTl",
        "outputId": "277de6b7-e3de-4a5d-9e82-f69589cf1325"
      },
      "outputs": [
        {
          "output_type": "display_data",
          "data": {
            "text/plain": [
              "<Figure size 432x288 with 1 Axes>"
            ],
            "image/png": "[encoded data removed]"
          },
          "metadata": {
            "needs_background": "light"
          }
        }
      ],
      "source": [
        "targetm_s.hist();"
      ]
    },
    {
      "cell_type": "markdown",
      "metadata": {
        "id": "tlAbv9Gpc5Vz"
      },
      "source": [
        "Print the coefficients of each of the features"
      ]
    },
    {
      "cell_type": "code",
      "source": [
        "mlr_s.coef_"
      ],
      "metadata": {
        "colab": {
          "base_uri": "https://localhost:8080/"
        },
        "id": "DdzfCICgiV5d",
        "outputId": "ae45b825-ef1c-43ad-d874-acb539366687"
      },
      "execution_count": 346,
      "outputs": [
        {
          "output_type": "execute_result",
          "data": {
            "text/plain": [
              "array([ 0.152125  , -0.17676128,  0.13747018, -0.64307016])"
            ]
          },
          "metadata": {},
          "execution_count": 346
        }
      ]
    },
    {
      "cell_type": "code",
      "execution_count": 350,
      "metadata": {
        "colab": {
          "base_uri": "https://localhost:8080/"
        },
        "id": "IQtGO6lcZ4eF",
        "outputId": "a1cd9ea3-4770-4430-870e-7cb96968801c"
      },
      "outputs": [
        {
          "output_type": "stream",
          "name": "stdout",
          "text": [
            "The coefficient of the features are\n",
            "\n",
            " transaction_date with 0.15212499660260398 \n",
            "\n",
            " house_age with -0.17676128176532313 \n",
            "\n",
            " convenience_stores with 0.13747017860702465 \n",
            "\n",
            " log10distance_nearest_MRT_station with -0.6430701557791013 \n"
          ]
        }
      ],
      "source": [
        "print(\"The coefficient of the features are\")\n",
        "for i in range(0, 4):\n",
        "  print(\"\\n %(f)s with %(c)s \" % {'f':features.columns[i], 'c':mlr_s.coef_[i]})\n",
        "\n"
      ]
    },
    {
      "cell_type": "markdown",
      "metadata": {
        "id": "d5doqy3rdHLW"
      },
      "source": [
        "What can you claim about the relative correlation and influence of each feature on the prediction of the target variable?"
      ]
    },
    {
      "cell_type": "markdown",
      "metadata": {
        "id": "X63QO1tAdIgF"
      },
      "source": [
        "*The features transaction_date and convenience_stores have a stronger correlation to the target variable as their values are closer to 1 while the rest of the features have a weaker correlation*"
      ]
    },
    {
      "cell_type": "markdown",
      "metadata": {
        "id": "X8K0ZhrMdLcG"
      },
      "source": [
        "Print the $R^2$ of this model"
      ]
    },
    {
      "cell_type": "code",
      "execution_count": 301,
      "metadata": {
        "colab": {
          "base_uri": "https://localhost:8080/"
        },
        "id": "9Qc4BC8BVdy9",
        "outputId": "d6d65d63-1e3e-4e78-c534-649d04b03ffc"
      },
      "outputs": [
        {
          "output_type": "stream",
          "name": "stdout",
          "text": [
            "The r^2 score of the model is 0.601\n"
          ]
        }
      ],
      "source": [
        "print(\"The r^2 score of the model is {0:.3f}\".format(mlr.score(features, targetm)))"
      ]
    },
    {
      "cell_type": "markdown",
      "metadata": {
        "id": "7P5iogz_dSfD"
      },
      "source": [
        "Looking only at the $R^2$ scores for this model relative to the previous model in Task 1, would you say the model has improved with the addition of the remaining features or not? and Why?"
      ]
    },
    {
      "cell_type": "markdown",
      "metadata": {
        "id": "sMUCOhQOdXaE"
      },
      "source": [
        "*Yes, because of the change in r^2 value showing a higher r^2 value*"
      ]
    },
    {
      "cell_type": "markdown",
      "metadata": {
        "id": "zMWT8U7mdY0p"
      },
      "source": [
        "Print the Adjusted-$R^2$ of this model"
      ]
    },
    {
      "cell_type": "code",
      "execution_count": 271,
      "metadata": {
        "id": "tvV_wPfKVd1f",
        "colab": {
          "base_uri": "https://localhost:8080/"
        },
        "outputId": "db85ef33-d4ba-48ca-c99d-9103b378a137"
      },
      "outputs": [
        {
          "output_type": "stream",
          "name": "stdout",
          "text": [
            "                              OLS Regression Results                             \n",
            "=================================================================================\n",
            "Dep. Variable:     house_price_unit_area   R-squared:                       0.601\n",
            "Model:                               OLS   Adj. R-squared:                  0.597\n",
            "Method:                    Least Squares   F-statistic:                     154.2\n",
            "Date:                   Thu, 27 Oct 2022   Prob (F-statistic):           2.72e-80\n",
            "Time:                           03:06:42   Log-Likelihood:                -1477.4\n",
            "No. Observations:                    414   AIC:                             2965.\n",
            "Df Residuals:                        409   BIC:                             2985.\n",
            "Df Model:                              4                                         \n",
            "Covariance Type:               nonrobust                                         \n",
            "=====================================================================================================\n",
            "                                        coef    std err          t      P>|t|      [0.025      0.975]\n",
            "-----------------------------------------------------------------------------------------------------\n",
            "const                             -1.469e+04   3064.486     -4.793      0.000   -2.07e+04   -8665.103\n",
            "transaction_date                      7.3409      1.523      4.822      0.000       4.348      10.334\n",
            "house_age                            -0.2111      0.038     -5.599      0.000      -0.285      -0.137\n",
            "convenience_stores                    0.6350      0.201      3.160      0.002       0.240       1.030\n",
            "log10distance_nearest_MRT_station   -17.9935      1.224    -14.697      0.000     -20.400     -15.587\n",
            "==============================================================================\n",
            "Omnibus:                      222.884   Durbin-Watson:                   2.091\n",
            "Prob(Omnibus):                  0.000   Jarque-Bera (JB):             3251.894\n",
            "Skew:                           1.942   Prob(JB):                         0.00\n",
            "Kurtosis:                      16.169   Cond. No.                     1.45e+07\n",
            "==============================================================================\n",
            "\n",
            "Notes:\n",
            "[1] Standard Errors assume that the covariance matrix of the errors is correctly specified.\n",
            "[2] The condition number is large, 1.45e+07. This might indicate that there are\n",
            "strong multicollinearity or other numerical problems.\n"
          ]
        },
        {
          "output_type": "stream",
          "name": "stderr",
          "text": [
            "/usr/local/lib/python3.7/dist-packages/statsmodels/tsa/tsatools.py:142: FutureWarning: In a future version of pandas all arguments of concat except for the argument 'objs' will be keyword-only\n",
            "  x = pd.concat(x[::order], 1)\n"
          ]
        }
      ],
      "source": [
        "x= features\n",
        "y = targetm\n",
        "x= sm.add_constant(x)\n",
        "x.head()\n",
        "model1 = sm.OLS(y,x)\n",
        "results = model1.fit()\n",
        "print(results.summary())\n"
      ]
    },
    {
      "cell_type": "code",
      "source": [
        "print(\"The adjusted r^2 value for this model is 0.597\")"
      ],
      "metadata": {
        "colab": {
          "base_uri": "https://localhost:8080/"
        },
        "id": "PJvTuUTGIysN",
        "outputId": "54b123ea-814a-4854-fbb5-b7a0f5f59c5f"
      },
      "execution_count": 272,
      "outputs": [
        {
          "output_type": "stream",
          "name": "stdout",
          "text": [
            "The adjusted r^2 value for this model is 0.597\n"
          ]
        }
      ]
    },
    {
      "cell_type": "markdown",
      "metadata": {
        "id": "xCpFXai6dkpL"
      },
      "source": [
        "Looking at both $R^2$ and Ajusted-$R^2$ scores for this model relative to the previous model in Task 1, would you say the model has improved with the addition of the remaining features or not? and Why?"
      ]
    },
    {
      "cell_type": "markdown",
      "metadata": {
        "id": "4BO8fq6odqrA"
      },
      "source": [
        "*It would appear that the model has improved with the addition of the remaining features as the r^2 and adjusted r^2 values are slightly higher compared to the model in task 1*"
      ]
    },
    {
      "cell_type": "markdown",
      "metadata": {
        "id": "mgIAi9C9duLy"
      },
      "source": [
        "Plot the actual vs. model predicted values for the house price/unit area for all objects in the data. Is there any visible improvement in the quality of the prediction that you can claim from comparing this plot with the one from Task 2? "
      ]
    },
    {
      "cell_type": "code",
      "source": [
        "realest[\"prediction2\"] = mlr_s.predict(features_s)"
      ],
      "metadata": {
        "id": "6Sa0Rhwlhwl3"
      },
      "execution_count": 344,
      "outputs": []
    },
    {
      "cell_type": "code",
      "source": [
        "realest.plot(\"house_price_unit_area\", \"prediction2\", kind = \"scatter\", alpha = 0.5);"
      ],
      "metadata": {
        "colab": {
          "base_uri": "https://localhost:8080/",
          "height": 280
        },
        "id": "sqBmVLIqN1eW",
        "outputId": "d87881c9-07d0-4fad-9dfa-98c3a5e0ee2d"
      },
      "execution_count": 345,
      "outputs": [
        {
          "output_type": "display_data",
          "data": {
            "text/plain": [
              "<Figure size 432x288 with 1 Axes>"
            ],
            "image/png": "[encoded data removed]"
          },
          "metadata": {
            "needs_background": "light"
          }
        }
      ]
    },
    {
      "cell_type": "markdown",
      "source": [
        "***Graph of prediction2 against house_price_unit_area***"
      ],
      "metadata": {
        "id": "7AnukA5SUNBI"
      }
    }
  ],
  "metadata": {
    "colab": {
      "collapsed_sections": [],
      "provenance": [],
      "include_colab_link": true
    },
    "kernelspec": {
      "display_name": "Python 3",
      "name": "python3"
    },
    "language_info": {
      "name": "python"
    }
  },
  "nbformat": 4,
  "nbformat_minor": 0
}